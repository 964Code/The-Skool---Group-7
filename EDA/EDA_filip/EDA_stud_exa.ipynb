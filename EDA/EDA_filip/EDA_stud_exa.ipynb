{
 "cells": [
  {
   "cell_type": "markdown",
   "id": "09e9d2af",
   "metadata": {},
   "source": [
    "### EDA on data about amount of people studying for specific fields in YH and amount of people finishing their studies. \n"
   ]
  },
  {
   "cell_type": "code",
   "execution_count": 1,
   "id": "782cc842",
   "metadata": {},
   "outputs": [],
   "source": [
    "import pandas as pd\n",
    "import duckdb\n",
    "import matplotlib.pyplot as plt\n",
    "import plotly.express as px"
   ]
  }
 ],
 "metadata": {
  "kernelspec": {
   "display_name": ".venv",
   "language": "python",
   "name": "python3"
  },
  "language_info": {
   "codemirror_mode": {
    "name": "ipython",
    "version": 3
   },
   "file_extension": ".py",
   "mimetype": "text/x-python",
   "name": "python",
   "nbconvert_exporter": "python",
   "pygments_lexer": "ipython3",
   "version": "3.12.5"
  }
 },
 "nbformat": 4,
 "nbformat_minor": 5
}

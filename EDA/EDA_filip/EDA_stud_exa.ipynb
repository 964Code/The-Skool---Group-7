{
 "cells": [
  {
   "cell_type": "markdown",
   "id": "09e9d2af",
   "metadata": {},
   "source": [
    "### EDA on data about amount of people studying for specific fields in YH and amount of people finishing their studies. \n",
    "\n",
    "TODO:  \n",
    "- Create functions so it can be implemented with Taipy. \n",
    "- \"Clean\" data so it is easier to gather insights/plot/etc if necessary.  \n",
    "#\n",
    "- Find interesting information & trends.\n",
    "- Create plots.\n",
    "- See if KPIs can be extracted. \n",
    "\n",
    "NOTES:\n",
    "- Data is not complete for \"examinerade\" It goes from 2007/2023. \n",
    " - Data found in another set is different, issue with time, focusing on gathering insights on current data."
   ]
  },
  {
   "cell_type": "code",
   "execution_count": 1,
   "id": "782cc842",
   "metadata": {},
   "outputs": [],
   "source": [
    "import pandas as pd\n",
    "import duckdb\n",
    "import matplotlib.pyplot as plt\n",
    "import plotly.express as px"
   ]
  }
 ],
 "metadata": {
  "kernelspec": {
   "display_name": ".venv",
   "language": "python",
   "name": "python3"
  },
  "language_info": {
   "codemirror_mode": {
    "name": "ipython",
    "version": 3
   },
   "file_extension": ".py",
   "mimetype": "text/x-python",
   "name": "python",
   "nbconvert_exporter": "python",
   "pygments_lexer": "ipython3",
   "version": "3.12.5"
  }
 },
 "nbformat": 4,
 "nbformat_minor": 5
}

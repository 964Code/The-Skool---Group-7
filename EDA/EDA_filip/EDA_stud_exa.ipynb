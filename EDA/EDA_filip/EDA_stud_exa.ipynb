{
 "cells": [
  {
   "cell_type": "markdown",
   "id": "09e9d2af",
   "metadata": {},
   "source": [
    "### EDA on data about amount of people studying for specific fields in YH and amount of people finishing their studies. \n",
    "\n",
    "TODO:  \n",
    "- Create functions so it can be implemented with Taipy. \n",
    "- \"Clean\" data so it is easier to gather insights/plot/etc if necessary.  \n",
    "#\n",
    "- Find interesting information & trends.\n",
    "- Create plots.\n",
    "- See if KPIs can be extracted. \n",
    "\n",
    "NOTES:\n",
    "- Data is not complete for \"examinerade\" It goes from 2007/2023. \n",
    " - Data found in another set is different, issue with time, focusing on gathering insights on current data.\n",
    "\n",
    " Note: ####### Check if initial data I have is wrong on the new set for amount of exa/study"
   ]
  },
  {
   "cell_type": "code",
   "execution_count": 1,
   "id": "782cc842",
   "metadata": {},
   "outputs": [],
   "source": [
    "import pandas as pd\n",
    "import duckdb\n",
    "import matplotlib.pyplot as plt\n",
    "import plotly.express as px"
   ]
  },
  {
   "cell_type": "code",
   "execution_count": null,
   "id": "48a4084a",
   "metadata": {},
   "outputs": [
    {
     "name": "stdout",
     "output_type": "stream",
     "text": [
      "<class 'pandas.core.frame.DataFrame'>\n",
      "RangeIndex: 60 entries, 0 to 59\n",
      "Data columns (total 23 columns):\n",
      " #   Column      Non-Null Count  Dtype  \n",
      "---  ------      --------------  -----  \n",
      " 0   Unnamed: 0  29 non-null     object \n",
      " 1   Unnamed: 1  15 non-null     object \n",
      " 2   Unnamed: 2  15 non-null     object \n",
      " 3   2005        15 non-null     object \n",
      " 4   2006        15 non-null     object \n",
      " 5   2007        15 non-null     object \n",
      " 6   2008        15 non-null     float64\n",
      " 7   2009        15 non-null     float64\n",
      " 8   2010        15 non-null     float64\n",
      " 9   2011        15 non-null     float64\n",
      " 10  2012        15 non-null     float64\n",
      " 11  2013        15 non-null     float64\n",
      " 12  2014        15 non-null     float64\n",
      " 13  2015        15 non-null     float64\n",
      " 14  2016        15 non-null     float64\n",
      " 15  2017        15 non-null     float64\n",
      " 16  2018        15 non-null     float64\n",
      " 17  2019        15 non-null     float64\n",
      " 18  2020        15 non-null     float64\n",
      " 19  2021        15 non-null     float64\n",
      " 20  2022        15 non-null     float64\n",
      " 21  2023        15 non-null     float64\n",
      " 22  2024        15 non-null     float64\n",
      "dtypes: float64(17), object(6)\n",
      "memory usage: 10.9+ KB\n"
     ]
    },
    {
     "data": {
      "text/html": [
       "<div>\n",
       "<style scoped>\n",
       "    .dataframe tbody tr th:only-of-type {\n",
       "        vertical-align: middle;\n",
       "    }\n",
       "\n",
       "    .dataframe tbody tr th {\n",
       "        vertical-align: top;\n",
       "    }\n",
       "\n",
       "    .dataframe thead th {\n",
       "        text-align: right;\n",
       "    }\n",
       "</style>\n",
       "<table border=\"1\" class=\"dataframe\">\n",
       "  <thead>\n",
       "    <tr style=\"text-align: right;\">\n",
       "      <th></th>\n",
       "      <th>Unnamed: 0</th>\n",
       "      <th>Unnamed: 1</th>\n",
       "      <th>Unnamed: 2</th>\n",
       "      <th>2005</th>\n",
       "      <th>2006</th>\n",
       "      <th>2007</th>\n",
       "      <th>2008</th>\n",
       "      <th>2009</th>\n",
       "      <th>2010</th>\n",
       "      <th>2011</th>\n",
       "      <th>...</th>\n",
       "      <th>2015</th>\n",
       "      <th>2016</th>\n",
       "      <th>2017</th>\n",
       "      <th>2018</th>\n",
       "      <th>2019</th>\n",
       "      <th>2020</th>\n",
       "      <th>2021</th>\n",
       "      <th>2022</th>\n",
       "      <th>2023</th>\n",
       "      <th>2024</th>\n",
       "    </tr>\n",
       "  </thead>\n",
       "  <tbody>\n",
       "    <tr>\n",
       "      <th>0</th>\n",
       "      <td>totalt</td>\n",
       "      <td>Data/It</td>\n",
       "      <td>totalt</td>\n",
       "      <td>2587</td>\n",
       "      <td>2546</td>\n",
       "      <td>2797</td>\n",
       "      <td>2817.0</td>\n",
       "      <td>2857.0</td>\n",
       "      <td>2903.0</td>\n",
       "      <td>3160.0</td>\n",
       "      <td>...</td>\n",
       "      <td>5812.0</td>\n",
       "      <td>6183.0</td>\n",
       "      <td>6210.0</td>\n",
       "      <td>5704.0</td>\n",
       "      <td>7086.0</td>\n",
       "      <td>10283.0</td>\n",
       "      <td>12852.0</td>\n",
       "      <td>14255.0</td>\n",
       "      <td>15162.0</td>\n",
       "      <td>16447.0</td>\n",
       "    </tr>\n",
       "    <tr>\n",
       "      <th>1</th>\n",
       "      <td>NaN</td>\n",
       "      <td>Ekonomi, administration och försäljning</td>\n",
       "      <td>totalt</td>\n",
       "      <td>6238</td>\n",
       "      <td>7582</td>\n",
       "      <td>8807</td>\n",
       "      <td>10264.0</td>\n",
       "      <td>11286.0</td>\n",
       "      <td>11905.0</td>\n",
       "      <td>12179.0</td>\n",
       "      <td>...</td>\n",
       "      <td>11670.0</td>\n",
       "      <td>11529.0</td>\n",
       "      <td>12193.0</td>\n",
       "      <td>13797.0</td>\n",
       "      <td>15994.0</td>\n",
       "      <td>18491.0</td>\n",
       "      <td>18540.0</td>\n",
       "      <td>17818.0</td>\n",
       "      <td>17354.0</td>\n",
       "      <td>17380.0</td>\n",
       "    </tr>\n",
       "    <tr>\n",
       "      <th>2</th>\n",
       "      <td>NaN</td>\n",
       "      <td>Friskvård och kroppsvård</td>\n",
       "      <td>totalt</td>\n",
       "      <td>481</td>\n",
       "      <td>738</td>\n",
       "      <td>883</td>\n",
       "      <td>993.0</td>\n",
       "      <td>1009.0</td>\n",
       "      <td>857.0</td>\n",
       "      <td>591.0</td>\n",
       "      <td>...</td>\n",
       "      <td>352.0</td>\n",
       "      <td>303.0</td>\n",
       "      <td>238.0</td>\n",
       "      <td>231.0</td>\n",
       "      <td>302.0</td>\n",
       "      <td>335.0</td>\n",
       "      <td>372.0</td>\n",
       "      <td>408.0</td>\n",
       "      <td>460.0</td>\n",
       "      <td>366.0</td>\n",
       "    </tr>\n",
       "    <tr>\n",
       "      <th>3</th>\n",
       "      <td>NaN</td>\n",
       "      <td>Hotell, restaurang och turism</td>\n",
       "      <td>totalt</td>\n",
       "      <td>2223</td>\n",
       "      <td>2553</td>\n",
       "      <td>2906</td>\n",
       "      <td>3074.0</td>\n",
       "      <td>2965.0</td>\n",
       "      <td>2905.0</td>\n",
       "      <td>2888.0</td>\n",
       "      <td>...</td>\n",
       "      <td>2606.0</td>\n",
       "      <td>2533.0</td>\n",
       "      <td>2534.0</td>\n",
       "      <td>2499.0</td>\n",
       "      <td>2718.0</td>\n",
       "      <td>3094.0</td>\n",
       "      <td>3314.0</td>\n",
       "      <td>3007.0</td>\n",
       "      <td>2753.0</td>\n",
       "      <td>2800.0</td>\n",
       "    </tr>\n",
       "    <tr>\n",
       "      <th>4</th>\n",
       "      <td>NaN</td>\n",
       "      <td>Hälso- och sjukvård samt socialt arbete</td>\n",
       "      <td>totalt</td>\n",
       "      <td>2992</td>\n",
       "      <td>3807</td>\n",
       "      <td>4200</td>\n",
       "      <td>4029.0</td>\n",
       "      <td>4091.0</td>\n",
       "      <td>4496.0</td>\n",
       "      <td>4656.0</td>\n",
       "      <td>...</td>\n",
       "      <td>6023.0</td>\n",
       "      <td>6162.0</td>\n",
       "      <td>6727.0</td>\n",
       "      <td>7451.0</td>\n",
       "      <td>9031.0</td>\n",
       "      <td>10904.0</td>\n",
       "      <td>12052.0</td>\n",
       "      <td>12880.0</td>\n",
       "      <td>12521.0</td>\n",
       "      <td>11916.0</td>\n",
       "    </tr>\n",
       "    <tr>\n",
       "      <th>5</th>\n",
       "      <td>NaN</td>\n",
       "      <td>Journalistik och information</td>\n",
       "      <td>totalt</td>\n",
       "      <td>114</td>\n",
       "      <td>101</td>\n",
       "      <td>114</td>\n",
       "      <td>159.0</td>\n",
       "      <td>213.0</td>\n",
       "      <td>256.0</td>\n",
       "      <td>299.0</td>\n",
       "      <td>...</td>\n",
       "      <td>649.0</td>\n",
       "      <td>723.0</td>\n",
       "      <td>802.0</td>\n",
       "      <td>833.0</td>\n",
       "      <td>904.0</td>\n",
       "      <td>967.0</td>\n",
       "      <td>936.0</td>\n",
       "      <td>823.0</td>\n",
       "      <td>752.0</td>\n",
       "      <td>646.0</td>\n",
       "    </tr>\n",
       "    <tr>\n",
       "      <th>6</th>\n",
       "      <td>NaN</td>\n",
       "      <td>Juridik</td>\n",
       "      <td>totalt</td>\n",
       "      <td>..</td>\n",
       "      <td>61</td>\n",
       "      <td>122</td>\n",
       "      <td>157.0</td>\n",
       "      <td>167.0</td>\n",
       "      <td>173.0</td>\n",
       "      <td>175.0</td>\n",
       "      <td>...</td>\n",
       "      <td>309.0</td>\n",
       "      <td>336.0</td>\n",
       "      <td>412.0</td>\n",
       "      <td>438.0</td>\n",
       "      <td>451.0</td>\n",
       "      <td>484.0</td>\n",
       "      <td>488.0</td>\n",
       "      <td>416.0</td>\n",
       "      <td>346.0</td>\n",
       "      <td>346.0</td>\n",
       "    </tr>\n",
       "    <tr>\n",
       "      <th>7</th>\n",
       "      <td>NaN</td>\n",
       "      <td>Kultur, media och design</td>\n",
       "      <td>totalt</td>\n",
       "      <td>2803</td>\n",
       "      <td>2938</td>\n",
       "      <td>2893</td>\n",
       "      <td>2993.0</td>\n",
       "      <td>2952.0</td>\n",
       "      <td>2791.0</td>\n",
       "      <td>2567.0</td>\n",
       "      <td>...</td>\n",
       "      <td>2769.0</td>\n",
       "      <td>2770.0</td>\n",
       "      <td>2865.0</td>\n",
       "      <td>2904.0</td>\n",
       "      <td>3016.0</td>\n",
       "      <td>3432.0</td>\n",
       "      <td>3916.0</td>\n",
       "      <td>4223.0</td>\n",
       "      <td>4457.0</td>\n",
       "      <td>4636.0</td>\n",
       "    </tr>\n",
       "    <tr>\n",
       "      <th>8</th>\n",
       "      <td>NaN</td>\n",
       "      <td>Lantbruk, djurvård, trädgård, skog och fiske</td>\n",
       "      <td>totalt</td>\n",
       "      <td>920</td>\n",
       "      <td>1341</td>\n",
       "      <td>1538</td>\n",
       "      <td>1502.0</td>\n",
       "      <td>1549.0</td>\n",
       "      <td>1704.0</td>\n",
       "      <td>1654.0</td>\n",
       "      <td>...</td>\n",
       "      <td>1307.0</td>\n",
       "      <td>1407.0</td>\n",
       "      <td>1442.0</td>\n",
       "      <td>1360.0</td>\n",
       "      <td>1416.0</td>\n",
       "      <td>1613.0</td>\n",
       "      <td>1810.0</td>\n",
       "      <td>1950.0</td>\n",
       "      <td>2091.0</td>\n",
       "      <td>2346.0</td>\n",
       "    </tr>\n",
       "    <tr>\n",
       "      <th>9</th>\n",
       "      <td>NaN</td>\n",
       "      <td>Pedagogik och undervisning</td>\n",
       "      <td>totalt</td>\n",
       "      <td>16</td>\n",
       "      <td>103</td>\n",
       "      <td>186</td>\n",
       "      <td>220.0</td>\n",
       "      <td>250.0</td>\n",
       "      <td>462.0</td>\n",
       "      <td>660.0</td>\n",
       "      <td>...</td>\n",
       "      <td>422.0</td>\n",
       "      <td>534.0</td>\n",
       "      <td>654.0</td>\n",
       "      <td>861.0</td>\n",
       "      <td>1289.0</td>\n",
       "      <td>1528.0</td>\n",
       "      <td>1806.0</td>\n",
       "      <td>1976.0</td>\n",
       "      <td>1510.0</td>\n",
       "      <td>1095.0</td>\n",
       "    </tr>\n",
       "    <tr>\n",
       "      <th>10</th>\n",
       "      <td>NaN</td>\n",
       "      <td>Samhällsbyggnad och byggteknik</td>\n",
       "      <td>totalt</td>\n",
       "      <td>1406</td>\n",
       "      <td>1947</td>\n",
       "      <td>2388</td>\n",
       "      <td>2641.0</td>\n",
       "      <td>3183.0</td>\n",
       "      <td>3540.0</td>\n",
       "      <td>3918.0</td>\n",
       "      <td>...</td>\n",
       "      <td>5512.0</td>\n",
       "      <td>6066.0</td>\n",
       "      <td>6831.0</td>\n",
       "      <td>7534.0</td>\n",
       "      <td>9019.0</td>\n",
       "      <td>11547.0</td>\n",
       "      <td>12744.0</td>\n",
       "      <td>13038.0</td>\n",
       "      <td>12561.0</td>\n",
       "      <td>13129.0</td>\n",
       "    </tr>\n",
       "    <tr>\n",
       "      <th>11</th>\n",
       "      <td>NaN</td>\n",
       "      <td>Säkerhetstjänster</td>\n",
       "      <td>totalt</td>\n",
       "      <td>267</td>\n",
       "      <td>425</td>\n",
       "      <td>565</td>\n",
       "      <td>626.0</td>\n",
       "      <td>629.0</td>\n",
       "      <td>544.0</td>\n",
       "      <td>459.0</td>\n",
       "      <td>...</td>\n",
       "      <td>378.0</td>\n",
       "      <td>375.0</td>\n",
       "      <td>275.0</td>\n",
       "      <td>284.0</td>\n",
       "      <td>408.0</td>\n",
       "      <td>579.0</td>\n",
       "      <td>594.0</td>\n",
       "      <td>763.0</td>\n",
       "      <td>833.0</td>\n",
       "      <td>830.0</td>\n",
       "    </tr>\n",
       "    <tr>\n",
       "      <th>12</th>\n",
       "      <td>NaN</td>\n",
       "      <td>Teknik och tillverkning</td>\n",
       "      <td>totalt</td>\n",
       "      <td>3920</td>\n",
       "      <td>4310</td>\n",
       "      <td>4928</td>\n",
       "      <td>5563.0</td>\n",
       "      <td>6511.0</td>\n",
       "      <td>7142.0</td>\n",
       "      <td>7334.0</td>\n",
       "      <td>...</td>\n",
       "      <td>7387.0</td>\n",
       "      <td>7259.0</td>\n",
       "      <td>7058.0</td>\n",
       "      <td>6839.0</td>\n",
       "      <td>7763.0</td>\n",
       "      <td>9931.0</td>\n",
       "      <td>11279.0</td>\n",
       "      <td>11309.0</td>\n",
       "      <td>11709.0</td>\n",
       "      <td>13226.0</td>\n",
       "    </tr>\n",
       "    <tr>\n",
       "      <th>13</th>\n",
       "      <td>NaN</td>\n",
       "      <td>Transporttjänster</td>\n",
       "      <td>totalt</td>\n",
       "      <td>822</td>\n",
       "      <td>1104</td>\n",
       "      <td>1357</td>\n",
       "      <td>1590.0</td>\n",
       "      <td>1696.0</td>\n",
       "      <td>1859.0</td>\n",
       "      <td>1845.0</td>\n",
       "      <td>...</td>\n",
       "      <td>1190.0</td>\n",
       "      <td>1544.0</td>\n",
       "      <td>1850.0</td>\n",
       "      <td>1749.0</td>\n",
       "      <td>1673.0</td>\n",
       "      <td>1757.0</td>\n",
       "      <td>1573.0</td>\n",
       "      <td>1490.0</td>\n",
       "      <td>1618.0</td>\n",
       "      <td>1691.0</td>\n",
       "    </tr>\n",
       "    <tr>\n",
       "      <th>14</th>\n",
       "      <td>NaN</td>\n",
       "      <td>Övrigt</td>\n",
       "      <td>totalt</td>\n",
       "      <td>..</td>\n",
       "      <td>..</td>\n",
       "      <td>..</td>\n",
       "      <td>29.0</td>\n",
       "      <td>59.0</td>\n",
       "      <td>60.0</td>\n",
       "      <td>99.0</td>\n",
       "      <td>...</td>\n",
       "      <td>247.0</td>\n",
       "      <td>259.0</td>\n",
       "      <td>282.0</td>\n",
       "      <td>257.0</td>\n",
       "      <td>323.0</td>\n",
       "      <td>426.0</td>\n",
       "      <td>477.0</td>\n",
       "      <td>515.0</td>\n",
       "      <td>433.0</td>\n",
       "      <td>371.0</td>\n",
       "    </tr>\n",
       "    <tr>\n",
       "      <th>15</th>\n",
       "      <td>NaN</td>\n",
       "      <td>NaN</td>\n",
       "      <td>NaN</td>\n",
       "      <td>NaN</td>\n",
       "      <td>NaN</td>\n",
       "      <td>NaN</td>\n",
       "      <td>NaN</td>\n",
       "      <td>NaN</td>\n",
       "      <td>NaN</td>\n",
       "      <td>NaN</td>\n",
       "      <td>...</td>\n",
       "      <td>NaN</td>\n",
       "      <td>NaN</td>\n",
       "      <td>NaN</td>\n",
       "      <td>NaN</td>\n",
       "      <td>NaN</td>\n",
       "      <td>NaN</td>\n",
       "      <td>NaN</td>\n",
       "      <td>NaN</td>\n",
       "      <td>NaN</td>\n",
       "      <td>NaN</td>\n",
       "    </tr>\n",
       "    <tr>\n",
       "      <th>16</th>\n",
       "      <td>För att förhindra röjande av information har s...</td>\n",
       "      <td>NaN</td>\n",
       "      <td>NaN</td>\n",
       "      <td>NaN</td>\n",
       "      <td>NaN</td>\n",
       "      <td>NaN</td>\n",
       "      <td>NaN</td>\n",
       "      <td>NaN</td>\n",
       "      <td>NaN</td>\n",
       "      <td>NaN</td>\n",
       "      <td>...</td>\n",
       "      <td>NaN</td>\n",
       "      <td>NaN</td>\n",
       "      <td>NaN</td>\n",
       "      <td>NaN</td>\n",
       "      <td>NaN</td>\n",
       "      <td>NaN</td>\n",
       "      <td>NaN</td>\n",
       "      <td>NaN</td>\n",
       "      <td>NaN</td>\n",
       "      <td>NaN</td>\n",
       "    </tr>\n",
       "    <tr>\n",
       "      <th>17</th>\n",
       "      <td>Statistiken avser de utbildningsomgångar som s...</td>\n",
       "      <td>NaN</td>\n",
       "      <td>NaN</td>\n",
       "      <td>NaN</td>\n",
       "      <td>NaN</td>\n",
       "      <td>NaN</td>\n",
       "      <td>NaN</td>\n",
       "      <td>NaN</td>\n",
       "      <td>NaN</td>\n",
       "      <td>NaN</td>\n",
       "      <td>...</td>\n",
       "      <td>NaN</td>\n",
       "      <td>NaN</td>\n",
       "      <td>NaN</td>\n",
       "      <td>NaN</td>\n",
       "      <td>NaN</td>\n",
       "      <td>NaN</td>\n",
       "      <td>NaN</td>\n",
       "      <td>NaN</td>\n",
       "      <td>NaN</td>\n",
       "      <td>NaN</td>\n",
       "    </tr>\n",
       "    <tr>\n",
       "      <th>18</th>\n",
       "      <td>Antal antagna som påbörjat studier avser perso...</td>\n",
       "      <td>NaN</td>\n",
       "      <td>NaN</td>\n",
       "      <td>NaN</td>\n",
       "      <td>NaN</td>\n",
       "      <td>NaN</td>\n",
       "      <td>NaN</td>\n",
       "      <td>NaN</td>\n",
       "      <td>NaN</td>\n",
       "      <td>NaN</td>\n",
       "      <td>...</td>\n",
       "      <td>NaN</td>\n",
       "      <td>NaN</td>\n",
       "      <td>NaN</td>\n",
       "      <td>NaN</td>\n",
       "      <td>NaN</td>\n",
       "      <td>NaN</td>\n",
       "      <td>NaN</td>\n",
       "      <td>NaN</td>\n",
       "      <td>NaN</td>\n",
       "      <td>NaN</td>\n",
       "    </tr>\n",
       "    <tr>\n",
       "      <th>19</th>\n",
       "      <td>Antalet studerande avser aktiva studerande på ...</td>\n",
       "      <td>NaN</td>\n",
       "      <td>NaN</td>\n",
       "      <td>NaN</td>\n",
       "      <td>NaN</td>\n",
       "      <td>NaN</td>\n",
       "      <td>NaN</td>\n",
       "      <td>NaN</td>\n",
       "      <td>NaN</td>\n",
       "      <td>NaN</td>\n",
       "      <td>...</td>\n",
       "      <td>NaN</td>\n",
       "      <td>NaN</td>\n",
       "      <td>NaN</td>\n",
       "      <td>NaN</td>\n",
       "      <td>NaN</td>\n",
       "      <td>NaN</td>\n",
       "      <td>NaN</td>\n",
       "      <td>NaN</td>\n",
       "      <td>NaN</td>\n",
       "      <td>NaN</td>\n",
       "    </tr>\n",
       "  </tbody>\n",
       "</table>\n",
       "<p>20 rows × 23 columns</p>\n",
       "</div>"
      ],
      "text/plain": [
       "                                           Unnamed: 0  \\\n",
       "0                                              totalt   \n",
       "1                                                 NaN   \n",
       "2                                                 NaN   \n",
       "3                                                 NaN   \n",
       "4                                                 NaN   \n",
       "5                                                 NaN   \n",
       "6                                                 NaN   \n",
       "7                                                 NaN   \n",
       "8                                                 NaN   \n",
       "9                                                 NaN   \n",
       "10                                                NaN   \n",
       "11                                                NaN   \n",
       "12                                                NaN   \n",
       "13                                                NaN   \n",
       "14                                                NaN   \n",
       "15                                                NaN   \n",
       "16  För att förhindra röjande av information har s...   \n",
       "17  Statistiken avser de utbildningsomgångar som s...   \n",
       "18  Antal antagna som påbörjat studier avser perso...   \n",
       "19  Antalet studerande avser aktiva studerande på ...   \n",
       "\n",
       "                                      Unnamed: 1 Unnamed: 2  2005  2006  2007  \\\n",
       "0                                        Data/It     totalt  2587  2546  2797   \n",
       "1        Ekonomi, administration och försäljning     totalt  6238  7582  8807   \n",
       "2                       Friskvård och kroppsvård     totalt   481   738   883   \n",
       "3                  Hotell, restaurang och turism     totalt  2223  2553  2906   \n",
       "4        Hälso- och sjukvård samt socialt arbete     totalt  2992  3807  4200   \n",
       "5                   Journalistik och information     totalt   114   101   114   \n",
       "6                                        Juridik     totalt    ..    61   122   \n",
       "7                       Kultur, media och design     totalt  2803  2938  2893   \n",
       "8   Lantbruk, djurvård, trädgård, skog och fiske     totalt   920  1341  1538   \n",
       "9                     Pedagogik och undervisning     totalt    16   103   186   \n",
       "10                Samhällsbyggnad och byggteknik     totalt  1406  1947  2388   \n",
       "11                             Säkerhetstjänster     totalt   267   425   565   \n",
       "12                       Teknik och tillverkning     totalt  3920  4310  4928   \n",
       "13                             Transporttjänster     totalt   822  1104  1357   \n",
       "14                                        Övrigt     totalt    ..    ..    ..   \n",
       "15                                           NaN        NaN   NaN   NaN   NaN   \n",
       "16                                           NaN        NaN   NaN   NaN   NaN   \n",
       "17                                           NaN        NaN   NaN   NaN   NaN   \n",
       "18                                           NaN        NaN   NaN   NaN   NaN   \n",
       "19                                           NaN        NaN   NaN   NaN   NaN   \n",
       "\n",
       "       2008     2009     2010     2011  ...     2015     2016     2017  \\\n",
       "0    2817.0   2857.0   2903.0   3160.0  ...   5812.0   6183.0   6210.0   \n",
       "1   10264.0  11286.0  11905.0  12179.0  ...  11670.0  11529.0  12193.0   \n",
       "2     993.0   1009.0    857.0    591.0  ...    352.0    303.0    238.0   \n",
       "3    3074.0   2965.0   2905.0   2888.0  ...   2606.0   2533.0   2534.0   \n",
       "4    4029.0   4091.0   4496.0   4656.0  ...   6023.0   6162.0   6727.0   \n",
       "5     159.0    213.0    256.0    299.0  ...    649.0    723.0    802.0   \n",
       "6     157.0    167.0    173.0    175.0  ...    309.0    336.0    412.0   \n",
       "7    2993.0   2952.0   2791.0   2567.0  ...   2769.0   2770.0   2865.0   \n",
       "8    1502.0   1549.0   1704.0   1654.0  ...   1307.0   1407.0   1442.0   \n",
       "9     220.0    250.0    462.0    660.0  ...    422.0    534.0    654.0   \n",
       "10   2641.0   3183.0   3540.0   3918.0  ...   5512.0   6066.0   6831.0   \n",
       "11    626.0    629.0    544.0    459.0  ...    378.0    375.0    275.0   \n",
       "12   5563.0   6511.0   7142.0   7334.0  ...   7387.0   7259.0   7058.0   \n",
       "13   1590.0   1696.0   1859.0   1845.0  ...   1190.0   1544.0   1850.0   \n",
       "14     29.0     59.0     60.0     99.0  ...    247.0    259.0    282.0   \n",
       "15      NaN      NaN      NaN      NaN  ...      NaN      NaN      NaN   \n",
       "16      NaN      NaN      NaN      NaN  ...      NaN      NaN      NaN   \n",
       "17      NaN      NaN      NaN      NaN  ...      NaN      NaN      NaN   \n",
       "18      NaN      NaN      NaN      NaN  ...      NaN      NaN      NaN   \n",
       "19      NaN      NaN      NaN      NaN  ...      NaN      NaN      NaN   \n",
       "\n",
       "       2018     2019     2020     2021     2022     2023     2024  \n",
       "0    5704.0   7086.0  10283.0  12852.0  14255.0  15162.0  16447.0  \n",
       "1   13797.0  15994.0  18491.0  18540.0  17818.0  17354.0  17380.0  \n",
       "2     231.0    302.0    335.0    372.0    408.0    460.0    366.0  \n",
       "3    2499.0   2718.0   3094.0   3314.0   3007.0   2753.0   2800.0  \n",
       "4    7451.0   9031.0  10904.0  12052.0  12880.0  12521.0  11916.0  \n",
       "5     833.0    904.0    967.0    936.0    823.0    752.0    646.0  \n",
       "6     438.0    451.0    484.0    488.0    416.0    346.0    346.0  \n",
       "7    2904.0   3016.0   3432.0   3916.0   4223.0   4457.0   4636.0  \n",
       "8    1360.0   1416.0   1613.0   1810.0   1950.0   2091.0   2346.0  \n",
       "9     861.0   1289.0   1528.0   1806.0   1976.0   1510.0   1095.0  \n",
       "10   7534.0   9019.0  11547.0  12744.0  13038.0  12561.0  13129.0  \n",
       "11    284.0    408.0    579.0    594.0    763.0    833.0    830.0  \n",
       "12   6839.0   7763.0   9931.0  11279.0  11309.0  11709.0  13226.0  \n",
       "13   1749.0   1673.0   1757.0   1573.0   1490.0   1618.0   1691.0  \n",
       "14    257.0    323.0    426.0    477.0    515.0    433.0    371.0  \n",
       "15      NaN      NaN      NaN      NaN      NaN      NaN      NaN  \n",
       "16      NaN      NaN      NaN      NaN      NaN      NaN      NaN  \n",
       "17      NaN      NaN      NaN      NaN      NaN      NaN      NaN  \n",
       "18      NaN      NaN      NaN      NaN      NaN      NaN      NaN  \n",
       "19      NaN      NaN      NaN      NaN      NaN      NaN      NaN  \n",
       "\n",
       "[20 rows x 23 columns]"
      ]
     },
     "execution_count": 2,
     "metadata": {},
     "output_type": "execute_result"
    }
   ],
   "source": [
    "\n",
    "\n",
    "df = pd.read_excel(\"../../data/totalt_studerande_yh_total_only.xlsx\", skiprows=2)\n",
    "\n",
    "\n",
    "df.info()\n",
    "df.head(20)"
   ]
  },
  {
   "cell_type": "code",
   "execution_count": 15,
   "id": "d223e4de",
   "metadata": {},
   "outputs": [
    {
     "data": {
      "text/html": [
       "<div>\n",
       "<style scoped>\n",
       "    .dataframe tbody tr th:only-of-type {\n",
       "        vertical-align: middle;\n",
       "    }\n",
       "\n",
       "    .dataframe tbody tr th {\n",
       "        vertical-align: top;\n",
       "    }\n",
       "\n",
       "    .dataframe thead th {\n",
       "        text-align: right;\n",
       "    }\n",
       "</style>\n",
       "<table border=\"1\" class=\"dataframe\">\n",
       "  <thead>\n",
       "    <tr style=\"text-align: right;\">\n",
       "      <th></th>\n",
       "      <th>Utbildningsinriktning</th>\n",
       "      <th>2005</th>\n",
       "      <th>2006</th>\n",
       "      <th>2007</th>\n",
       "      <th>2008</th>\n",
       "      <th>2009</th>\n",
       "      <th>2010</th>\n",
       "      <th>2011</th>\n",
       "      <th>2012</th>\n",
       "      <th>2013</th>\n",
       "      <th>...</th>\n",
       "      <th>2015</th>\n",
       "      <th>2016</th>\n",
       "      <th>2017</th>\n",
       "      <th>2018</th>\n",
       "      <th>2019</th>\n",
       "      <th>2020</th>\n",
       "      <th>2021</th>\n",
       "      <th>2022</th>\n",
       "      <th>2023</th>\n",
       "      <th>2024</th>\n",
       "    </tr>\n",
       "  </thead>\n",
       "  <tbody>\n",
       "    <tr>\n",
       "      <th>0</th>\n",
       "      <td>Data/It</td>\n",
       "      <td>2587</td>\n",
       "      <td>2546</td>\n",
       "      <td>2797</td>\n",
       "      <td>2817.0</td>\n",
       "      <td>2857.0</td>\n",
       "      <td>2903.0</td>\n",
       "      <td>3160.0</td>\n",
       "      <td>3398.0</td>\n",
       "      <td>4054.0</td>\n",
       "      <td>...</td>\n",
       "      <td>5812.0</td>\n",
       "      <td>6183.0</td>\n",
       "      <td>6210.0</td>\n",
       "      <td>5704.0</td>\n",
       "      <td>7086.0</td>\n",
       "      <td>10283.0</td>\n",
       "      <td>12852.0</td>\n",
       "      <td>14255.0</td>\n",
       "      <td>15162.0</td>\n",
       "      <td>16447.0</td>\n",
       "    </tr>\n",
       "    <tr>\n",
       "      <th>1</th>\n",
       "      <td>Ekonomi, administration och försäljning</td>\n",
       "      <td>6238</td>\n",
       "      <td>7582</td>\n",
       "      <td>8807</td>\n",
       "      <td>10264.0</td>\n",
       "      <td>11286.0</td>\n",
       "      <td>11905.0</td>\n",
       "      <td>12179.0</td>\n",
       "      <td>11946.0</td>\n",
       "      <td>12253.0</td>\n",
       "      <td>...</td>\n",
       "      <td>11670.0</td>\n",
       "      <td>11529.0</td>\n",
       "      <td>12193.0</td>\n",
       "      <td>13797.0</td>\n",
       "      <td>15994.0</td>\n",
       "      <td>18491.0</td>\n",
       "      <td>18540.0</td>\n",
       "      <td>17818.0</td>\n",
       "      <td>17354.0</td>\n",
       "      <td>17380.0</td>\n",
       "    </tr>\n",
       "    <tr>\n",
       "      <th>2</th>\n",
       "      <td>Friskvård och kroppsvård</td>\n",
       "      <td>481</td>\n",
       "      <td>738</td>\n",
       "      <td>883</td>\n",
       "      <td>993.0</td>\n",
       "      <td>1009.0</td>\n",
       "      <td>857.0</td>\n",
       "      <td>591.0</td>\n",
       "      <td>371.0</td>\n",
       "      <td>363.0</td>\n",
       "      <td>...</td>\n",
       "      <td>352.0</td>\n",
       "      <td>303.0</td>\n",
       "      <td>238.0</td>\n",
       "      <td>231.0</td>\n",
       "      <td>302.0</td>\n",
       "      <td>335.0</td>\n",
       "      <td>372.0</td>\n",
       "      <td>408.0</td>\n",
       "      <td>460.0</td>\n",
       "      <td>366.0</td>\n",
       "    </tr>\n",
       "    <tr>\n",
       "      <th>3</th>\n",
       "      <td>Hotell, restaurang och turism</td>\n",
       "      <td>2223</td>\n",
       "      <td>2553</td>\n",
       "      <td>2906</td>\n",
       "      <td>3074.0</td>\n",
       "      <td>2965.0</td>\n",
       "      <td>2905.0</td>\n",
       "      <td>2888.0</td>\n",
       "      <td>2592.0</td>\n",
       "      <td>2525.0</td>\n",
       "      <td>...</td>\n",
       "      <td>2606.0</td>\n",
       "      <td>2533.0</td>\n",
       "      <td>2534.0</td>\n",
       "      <td>2499.0</td>\n",
       "      <td>2718.0</td>\n",
       "      <td>3094.0</td>\n",
       "      <td>3314.0</td>\n",
       "      <td>3007.0</td>\n",
       "      <td>2753.0</td>\n",
       "      <td>2800.0</td>\n",
       "    </tr>\n",
       "    <tr>\n",
       "      <th>4</th>\n",
       "      <td>Hälso- och sjukvård samt socialt arbete</td>\n",
       "      <td>2992</td>\n",
       "      <td>3807</td>\n",
       "      <td>4200</td>\n",
       "      <td>4029.0</td>\n",
       "      <td>4091.0</td>\n",
       "      <td>4496.0</td>\n",
       "      <td>4656.0</td>\n",
       "      <td>4525.0</td>\n",
       "      <td>4965.0</td>\n",
       "      <td>...</td>\n",
       "      <td>6023.0</td>\n",
       "      <td>6162.0</td>\n",
       "      <td>6727.0</td>\n",
       "      <td>7451.0</td>\n",
       "      <td>9031.0</td>\n",
       "      <td>10904.0</td>\n",
       "      <td>12052.0</td>\n",
       "      <td>12880.0</td>\n",
       "      <td>12521.0</td>\n",
       "      <td>11916.0</td>\n",
       "    </tr>\n",
       "    <tr>\n",
       "      <th>5</th>\n",
       "      <td>Journalistik och information</td>\n",
       "      <td>114</td>\n",
       "      <td>101</td>\n",
       "      <td>114</td>\n",
       "      <td>159.0</td>\n",
       "      <td>213.0</td>\n",
       "      <td>256.0</td>\n",
       "      <td>299.0</td>\n",
       "      <td>277.0</td>\n",
       "      <td>413.0</td>\n",
       "      <td>...</td>\n",
       "      <td>649.0</td>\n",
       "      <td>723.0</td>\n",
       "      <td>802.0</td>\n",
       "      <td>833.0</td>\n",
       "      <td>904.0</td>\n",
       "      <td>967.0</td>\n",
       "      <td>936.0</td>\n",
       "      <td>823.0</td>\n",
       "      <td>752.0</td>\n",
       "      <td>646.0</td>\n",
       "    </tr>\n",
       "    <tr>\n",
       "      <th>6</th>\n",
       "      <td>Juridik</td>\n",
       "      <td>..</td>\n",
       "      <td>61</td>\n",
       "      <td>122</td>\n",
       "      <td>157.0</td>\n",
       "      <td>167.0</td>\n",
       "      <td>173.0</td>\n",
       "      <td>175.0</td>\n",
       "      <td>242.0</td>\n",
       "      <td>280.0</td>\n",
       "      <td>...</td>\n",
       "      <td>309.0</td>\n",
       "      <td>336.0</td>\n",
       "      <td>412.0</td>\n",
       "      <td>438.0</td>\n",
       "      <td>451.0</td>\n",
       "      <td>484.0</td>\n",
       "      <td>488.0</td>\n",
       "      <td>416.0</td>\n",
       "      <td>346.0</td>\n",
       "      <td>346.0</td>\n",
       "    </tr>\n",
       "    <tr>\n",
       "      <th>7</th>\n",
       "      <td>Kultur, media och design</td>\n",
       "      <td>2803</td>\n",
       "      <td>2938</td>\n",
       "      <td>2893</td>\n",
       "      <td>2993.0</td>\n",
       "      <td>2952.0</td>\n",
       "      <td>2791.0</td>\n",
       "      <td>2567.0</td>\n",
       "      <td>2363.0</td>\n",
       "      <td>2509.0</td>\n",
       "      <td>...</td>\n",
       "      <td>2769.0</td>\n",
       "      <td>2770.0</td>\n",
       "      <td>2865.0</td>\n",
       "      <td>2904.0</td>\n",
       "      <td>3016.0</td>\n",
       "      <td>3432.0</td>\n",
       "      <td>3916.0</td>\n",
       "      <td>4223.0</td>\n",
       "      <td>4457.0</td>\n",
       "      <td>4636.0</td>\n",
       "    </tr>\n",
       "    <tr>\n",
       "      <th>8</th>\n",
       "      <td>Lantbruk, djurvård, trädgård, skog och fiske</td>\n",
       "      <td>920</td>\n",
       "      <td>1341</td>\n",
       "      <td>1538</td>\n",
       "      <td>1502.0</td>\n",
       "      <td>1549.0</td>\n",
       "      <td>1704.0</td>\n",
       "      <td>1654.0</td>\n",
       "      <td>1461.0</td>\n",
       "      <td>1355.0</td>\n",
       "      <td>...</td>\n",
       "      <td>1307.0</td>\n",
       "      <td>1407.0</td>\n",
       "      <td>1442.0</td>\n",
       "      <td>1360.0</td>\n",
       "      <td>1416.0</td>\n",
       "      <td>1613.0</td>\n",
       "      <td>1810.0</td>\n",
       "      <td>1950.0</td>\n",
       "      <td>2091.0</td>\n",
       "      <td>2346.0</td>\n",
       "    </tr>\n",
       "    <tr>\n",
       "      <th>9</th>\n",
       "      <td>Pedagogik och undervisning</td>\n",
       "      <td>16</td>\n",
       "      <td>103</td>\n",
       "      <td>186</td>\n",
       "      <td>220.0</td>\n",
       "      <td>250.0</td>\n",
       "      <td>462.0</td>\n",
       "      <td>660.0</td>\n",
       "      <td>454.0</td>\n",
       "      <td>424.0</td>\n",
       "      <td>...</td>\n",
       "      <td>422.0</td>\n",
       "      <td>534.0</td>\n",
       "      <td>654.0</td>\n",
       "      <td>861.0</td>\n",
       "      <td>1289.0</td>\n",
       "      <td>1528.0</td>\n",
       "      <td>1806.0</td>\n",
       "      <td>1976.0</td>\n",
       "      <td>1510.0</td>\n",
       "      <td>1095.0</td>\n",
       "    </tr>\n",
       "    <tr>\n",
       "      <th>10</th>\n",
       "      <td>Samhällsbyggnad och byggteknik</td>\n",
       "      <td>1406</td>\n",
       "      <td>1947</td>\n",
       "      <td>2388</td>\n",
       "      <td>2641.0</td>\n",
       "      <td>3183.0</td>\n",
       "      <td>3540.0</td>\n",
       "      <td>3918.0</td>\n",
       "      <td>4363.0</td>\n",
       "      <td>4743.0</td>\n",
       "      <td>...</td>\n",
       "      <td>5512.0</td>\n",
       "      <td>6066.0</td>\n",
       "      <td>6831.0</td>\n",
       "      <td>7534.0</td>\n",
       "      <td>9019.0</td>\n",
       "      <td>11547.0</td>\n",
       "      <td>12744.0</td>\n",
       "      <td>13038.0</td>\n",
       "      <td>12561.0</td>\n",
       "      <td>13129.0</td>\n",
       "    </tr>\n",
       "    <tr>\n",
       "      <th>11</th>\n",
       "      <td>Säkerhetstjänster</td>\n",
       "      <td>267</td>\n",
       "      <td>425</td>\n",
       "      <td>565</td>\n",
       "      <td>626.0</td>\n",
       "      <td>629.0</td>\n",
       "      <td>544.0</td>\n",
       "      <td>459.0</td>\n",
       "      <td>370.0</td>\n",
       "      <td>336.0</td>\n",
       "      <td>...</td>\n",
       "      <td>378.0</td>\n",
       "      <td>375.0</td>\n",
       "      <td>275.0</td>\n",
       "      <td>284.0</td>\n",
       "      <td>408.0</td>\n",
       "      <td>579.0</td>\n",
       "      <td>594.0</td>\n",
       "      <td>763.0</td>\n",
       "      <td>833.0</td>\n",
       "      <td>830.0</td>\n",
       "    </tr>\n",
       "    <tr>\n",
       "      <th>12</th>\n",
       "      <td>Teknik och tillverkning</td>\n",
       "      <td>3920</td>\n",
       "      <td>4310</td>\n",
       "      <td>4928</td>\n",
       "      <td>5563.0</td>\n",
       "      <td>6511.0</td>\n",
       "      <td>7142.0</td>\n",
       "      <td>7334.0</td>\n",
       "      <td>6731.0</td>\n",
       "      <td>7036.0</td>\n",
       "      <td>...</td>\n",
       "      <td>7387.0</td>\n",
       "      <td>7259.0</td>\n",
       "      <td>7058.0</td>\n",
       "      <td>6839.0</td>\n",
       "      <td>7763.0</td>\n",
       "      <td>9931.0</td>\n",
       "      <td>11279.0</td>\n",
       "      <td>11309.0</td>\n",
       "      <td>11709.0</td>\n",
       "      <td>13226.0</td>\n",
       "    </tr>\n",
       "    <tr>\n",
       "      <th>13</th>\n",
       "      <td>Transporttjänster</td>\n",
       "      <td>822</td>\n",
       "      <td>1104</td>\n",
       "      <td>1357</td>\n",
       "      <td>1590.0</td>\n",
       "      <td>1696.0</td>\n",
       "      <td>1859.0</td>\n",
       "      <td>1845.0</td>\n",
       "      <td>1487.0</td>\n",
       "      <td>1116.0</td>\n",
       "      <td>...</td>\n",
       "      <td>1190.0</td>\n",
       "      <td>1544.0</td>\n",
       "      <td>1850.0</td>\n",
       "      <td>1749.0</td>\n",
       "      <td>1673.0</td>\n",
       "      <td>1757.0</td>\n",
       "      <td>1573.0</td>\n",
       "      <td>1490.0</td>\n",
       "      <td>1618.0</td>\n",
       "      <td>1691.0</td>\n",
       "    </tr>\n",
       "    <tr>\n",
       "      <th>14</th>\n",
       "      <td>Övrigt</td>\n",
       "      <td>..</td>\n",
       "      <td>..</td>\n",
       "      <td>..</td>\n",
       "      <td>29.0</td>\n",
       "      <td>59.0</td>\n",
       "      <td>60.0</td>\n",
       "      <td>99.0</td>\n",
       "      <td>174.0</td>\n",
       "      <td>224.0</td>\n",
       "      <td>...</td>\n",
       "      <td>247.0</td>\n",
       "      <td>259.0</td>\n",
       "      <td>282.0</td>\n",
       "      <td>257.0</td>\n",
       "      <td>323.0</td>\n",
       "      <td>426.0</td>\n",
       "      <td>477.0</td>\n",
       "      <td>515.0</td>\n",
       "      <td>433.0</td>\n",
       "      <td>371.0</td>\n",
       "    </tr>\n",
       "  </tbody>\n",
       "</table>\n",
       "<p>15 rows × 21 columns</p>\n",
       "</div>"
      ],
      "text/plain": [
       "                           Utbildningsinriktning  2005  2006  2007     2008  \\\n",
       "0                                        Data/It  2587  2546  2797   2817.0   \n",
       "1        Ekonomi, administration och försäljning  6238  7582  8807  10264.0   \n",
       "2                       Friskvård och kroppsvård   481   738   883    993.0   \n",
       "3                  Hotell, restaurang och turism  2223  2553  2906   3074.0   \n",
       "4        Hälso- och sjukvård samt socialt arbete  2992  3807  4200   4029.0   \n",
       "5                   Journalistik och information   114   101   114    159.0   \n",
       "6                                        Juridik    ..    61   122    157.0   \n",
       "7                       Kultur, media och design  2803  2938  2893   2993.0   \n",
       "8   Lantbruk, djurvård, trädgård, skog och fiske   920  1341  1538   1502.0   \n",
       "9                     Pedagogik och undervisning    16   103   186    220.0   \n",
       "10                Samhällsbyggnad och byggteknik  1406  1947  2388   2641.0   \n",
       "11                             Säkerhetstjänster   267   425   565    626.0   \n",
       "12                       Teknik och tillverkning  3920  4310  4928   5563.0   \n",
       "13                             Transporttjänster   822  1104  1357   1590.0   \n",
       "14                                        Övrigt    ..    ..    ..     29.0   \n",
       "\n",
       "       2009     2010     2011     2012     2013  ...     2015     2016  \\\n",
       "0    2857.0   2903.0   3160.0   3398.0   4054.0  ...   5812.0   6183.0   \n",
       "1   11286.0  11905.0  12179.0  11946.0  12253.0  ...  11670.0  11529.0   \n",
       "2    1009.0    857.0    591.0    371.0    363.0  ...    352.0    303.0   \n",
       "3    2965.0   2905.0   2888.0   2592.0   2525.0  ...   2606.0   2533.0   \n",
       "4    4091.0   4496.0   4656.0   4525.0   4965.0  ...   6023.0   6162.0   \n",
       "5     213.0    256.0    299.0    277.0    413.0  ...    649.0    723.0   \n",
       "6     167.0    173.0    175.0    242.0    280.0  ...    309.0    336.0   \n",
       "7    2952.0   2791.0   2567.0   2363.0   2509.0  ...   2769.0   2770.0   \n",
       "8    1549.0   1704.0   1654.0   1461.0   1355.0  ...   1307.0   1407.0   \n",
       "9     250.0    462.0    660.0    454.0    424.0  ...    422.0    534.0   \n",
       "10   3183.0   3540.0   3918.0   4363.0   4743.0  ...   5512.0   6066.0   \n",
       "11    629.0    544.0    459.0    370.0    336.0  ...    378.0    375.0   \n",
       "12   6511.0   7142.0   7334.0   6731.0   7036.0  ...   7387.0   7259.0   \n",
       "13   1696.0   1859.0   1845.0   1487.0   1116.0  ...   1190.0   1544.0   \n",
       "14     59.0     60.0     99.0    174.0    224.0  ...    247.0    259.0   \n",
       "\n",
       "       2017     2018     2019     2020     2021     2022     2023     2024  \n",
       "0    6210.0   5704.0   7086.0  10283.0  12852.0  14255.0  15162.0  16447.0  \n",
       "1   12193.0  13797.0  15994.0  18491.0  18540.0  17818.0  17354.0  17380.0  \n",
       "2     238.0    231.0    302.0    335.0    372.0    408.0    460.0    366.0  \n",
       "3    2534.0   2499.0   2718.0   3094.0   3314.0   3007.0   2753.0   2800.0  \n",
       "4    6727.0   7451.0   9031.0  10904.0  12052.0  12880.0  12521.0  11916.0  \n",
       "5     802.0    833.0    904.0    967.0    936.0    823.0    752.0    646.0  \n",
       "6     412.0    438.0    451.0    484.0    488.0    416.0    346.0    346.0  \n",
       "7    2865.0   2904.0   3016.0   3432.0   3916.0   4223.0   4457.0   4636.0  \n",
       "8    1442.0   1360.0   1416.0   1613.0   1810.0   1950.0   2091.0   2346.0  \n",
       "9     654.0    861.0   1289.0   1528.0   1806.0   1976.0   1510.0   1095.0  \n",
       "10   6831.0   7534.0   9019.0  11547.0  12744.0  13038.0  12561.0  13129.0  \n",
       "11    275.0    284.0    408.0    579.0    594.0    763.0    833.0    830.0  \n",
       "12   7058.0   6839.0   7763.0   9931.0  11279.0  11309.0  11709.0  13226.0  \n",
       "13   1850.0   1749.0   1673.0   1757.0   1573.0   1490.0   1618.0   1691.0  \n",
       "14    282.0    257.0    323.0    426.0    477.0    515.0    433.0    371.0  \n",
       "\n",
       "[15 rows x 21 columns]"
      ]
     },
     "execution_count": 15,
     "metadata": {},
     "output_type": "execute_result"
    }
   ],
   "source": [
    "df_cleaned_stud = (\n",
    "    df.drop(columns=[\"Unnamed: 0\", \"Unnamed: 2\"])\n",
    "    .fillna(\"\")\n",
    "    .rename(columns={\"Unnamed: 1\": \"Utbildningsinriktning\"})\n",
    "    .iloc[:15]\n",
    ")\n",
    "\n",
    "df_cleaned_stud"
   ]
  },
  {
   "cell_type": "code",
   "execution_count": null,
   "id": "85dfe667",
   "metadata": {},
   "outputs": [
    {
     "data": {
      "image/png": "[encoded data removed]",
      "text/plain": [
       "<Figure size 1200x600 with 1 Axes>"
      ]
     },
     "metadata": {},
     "output_type": "display_data"
    }
   ],
   "source": [
    "\n",
    "\n",
    "def bar_plot_year(df, year):\n",
    "    df[f\"{year}]\"] = pd.to_numeric(df[f\"{year}\"], errors=\"coerce\")\n",
    "\n",
    "    # Set figure size\n",
    "    plt.figure(figsize=(12, 6))\n",
    "\n",
    "    x = df[\"Utbildningsinriktning\"]\n",
    "    y = df[f\"{year}\"]\n",
    "\n",
    "    plt.bar(x, y)\n",
    "\n",
    "    plt.title(f\"Antal studerande per utbildningsinriktning ({year})\")\n",
    "    plt.xlabel(\"Utbildningsinriktning\")\n",
    "    plt.ylabel(\"Antal studerande\")\n",
    "    plt.xticks(rotation=45, ha=\"right\")\n",
    "    plt.tight_layout()\n",
    "\n",
    "    plt.show()\n",
    "\n",
    "\n",
    "bar_plot_year(df_cleaned_stud, 2020)"
   ]
  },
  {
   "cell_type": "code",
   "execution_count": 16,
   "id": "ace1962a",
   "metadata": {},
   "outputs": [
    {
     "data": {
      "application/vnd.plotly.v1+json": {
       "config": {
        "plotlyServerURL": "https://plot.ly"
       },
       "data": [
        {
         "hovertemplate": "Educational Area=%{x}<br>Number=%{y}<extra></extra>",
         "legendgroup": "",
         "marker": {
          "color": "#636efa",
          "pattern": {
           "shape": ""
          }
         },
         "name": "",
         "orientation": "v",
         "showlegend": false,
         "textposition": "auto",
         "type": "bar",
         "x": [
          "Data/It",
          "Ekonomi, administration och försäljning",
          "Friskvård och kroppsvård",
          "Hotell, restaurang och turism",
          "Hälso- och sjukvård samt socialt arbete",
          "Journalistik och information",
          "Juridik",
          "Kultur, media och design",
          "Lantbruk, djurvård, trädgård, skog och fiske",
          "Pedagogik och undervisning",
          "Samhällsbyggnad och byggteknik",
          "Säkerhetstjänster",
          "Teknik och tillverkning",
          "Transporttjänster",
          "Övrigt"
         ],
         "xaxis": "x",
         "y": [
          15162,
          17354,
          460,
          2753,
          12521,
          752,
          346,
          4457,
          2091,
          1510,
          12561,
          833,
          11709,
          1618,
          433
         ],
         "yaxis": "y"
        }
       ],
       "layout": {
        "barmode": "relative",
        "legend": {
         "tracegroupgap": 0
        },
        "template": {
         "data": {
          "bar": [
           {
            "error_x": {
             "color": "#2a3f5f"
            },
            "error_y": {
             "color": "#2a3f5f"
            },
            "marker": {
             "line": {
              "color": "#E5ECF6",
              "width": 0.5
             },
             "pattern": {
              "fillmode": "overlay",
              "size": 10,
              "solidity": 0.2
             }
            },
            "type": "bar"
           }
          ],
          "barpolar": [
           {
            "marker": {
             "line": {
              "color": "#E5ECF6",
              "width": 0.5
             },
             "pattern": {
              "fillmode": "overlay",
              "size": 10,
              "solidity": 0.2
             }
            },
            "type": "barpolar"
           }
          ],
          "carpet": [
           {
            "aaxis": {
             "endlinecolor": "#2a3f5f",
             "gridcolor": "white",
             "linecolor": "white",
             "minorgridcolor": "white",
             "startlinecolor": "#2a3f5f"
            },
            "baxis": {
             "endlinecolor": "#2a3f5f",
             "gridcolor": "white",
             "linecolor": "white",
             "minorgridcolor": "white",
             "startlinecolor": "#2a3f5f"
            },
            "type": "carpet"
           }
          ],
          "choropleth": [
           {
            "colorbar": {
             "outlinewidth": 0,
             "ticks": ""
            },
            "type": "choropleth"
           }
          ],
          "contour": [
           {
            "colorbar": {
             "outlinewidth": 0,
             "ticks": ""
            },
            "colorscale": [
             [
              0,
              "#0d0887"
             ],
             [
              0.1111111111111111,
              "#46039f"
             ],
             [
              0.2222222222222222,
              "#7201a8"
             ],
             [
              0.3333333333333333,
              "#9c179e"
             ],
             [
              0.4444444444444444,
              "#bd3786"
             ],
             [
              0.5555555555555556,
              "#d8576b"
             ],
             [
              0.6666666666666666,
              "#ed7953"
             ],
             [
              0.7777777777777778,
              "#fb9f3a"
             ],
             [
              0.8888888888888888,
              "#fdca26"
             ],
             [
              1,
              "#f0f921"
             ]
            ],
            "type": "contour"
           }
          ],
          "contourcarpet": [
           {
            "colorbar": {
             "outlinewidth": 0,
             "ticks": ""
            },
            "type": "contourcarpet"
           }
          ],
          "heatmap": [
           {
            "colorbar": {
             "outlinewidth": 0,
             "ticks": ""
            },
            "colorscale": [
             [
              0,
              "#0d0887"
             ],
             [
              0.1111111111111111,
              "#46039f"
             ],
             [
              0.2222222222222222,
              "#7201a8"
             ],
             [
              0.3333333333333333,
              "#9c179e"
             ],
             [
              0.4444444444444444,
              "#bd3786"
             ],
             [
              0.5555555555555556,
              "#d8576b"
             ],
             [
              0.6666666666666666,
              "#ed7953"
             ],
             [
              0.7777777777777778,
              "#fb9f3a"
             ],
             [
              0.8888888888888888,
              "#fdca26"
             ],
             [
              1,
              "#f0f921"
             ]
            ],
            "type": "heatmap"
           }
          ],
          "histogram": [
           {
            "marker": {
             "pattern": {
              "fillmode": "overlay",
              "size": 10,
              "solidity": 0.2
             }
            },
            "type": "histogram"
           }
          ],
          "histogram2d": [
           {
            "colorbar": {
             "outlinewidth": 0,
             "ticks": ""
            },
            "colorscale": [
             [
              0,
              "#0d0887"
             ],
             [
              0.1111111111111111,
              "#46039f"
             ],
             [
              0.2222222222222222,
              "#7201a8"
             ],
             [
              0.3333333333333333,
              "#9c179e"
             ],
             [
              0.4444444444444444,
              "#bd3786"
             ],
             [
              0.5555555555555556,
              "#d8576b"
             ],
             [
              0.6666666666666666,
              "#ed7953"
             ],
             [
              0.7777777777777778,
              "#fb9f3a"
             ],
             [
              0.8888888888888888,
              "#fdca26"
             ],
             [
              1,
              "#f0f921"
             ]
            ],
            "type": "histogram2d"
           }
          ],
          "histogram2dcontour": [
           {
            "colorbar": {
             "outlinewidth": 0,
             "ticks": ""
            },
            "colorscale": [
             [
              0,
              "#0d0887"
             ],
             [
              0.1111111111111111,
              "#46039f"
             ],
             [
              0.2222222222222222,
              "#7201a8"
             ],
             [
              0.3333333333333333,
              "#9c179e"
             ],
             [
              0.4444444444444444,
              "#bd3786"
             ],
             [
              0.5555555555555556,
              "#d8576b"
             ],
             [
              0.6666666666666666,
              "#ed7953"
             ],
             [
              0.7777777777777778,
              "#fb9f3a"
             ],
             [
              0.8888888888888888,
              "#fdca26"
             ],
             [
              1,
              "#f0f921"
             ]
            ],
            "type": "histogram2dcontour"
           }
          ],
          "mesh3d": [
           {
            "colorbar": {
             "outlinewidth": 0,
             "ticks": ""
            },
            "type": "mesh3d"
           }
          ],
          "parcoords": [
           {
            "line": {
             "colorbar": {
              "outlinewidth": 0,
              "ticks": ""
             }
            },
            "type": "parcoords"
           }
          ],
          "pie": [
           {
            "automargin": true,
            "type": "pie"
           }
          ],
          "scatter": [
           {
            "fillpattern": {
             "fillmode": "overlay",
             "size": 10,
             "solidity": 0.2
            },
            "type": "scatter"
           }
          ],
          "scatter3d": [
           {
            "line": {
             "colorbar": {
              "outlinewidth": 0,
              "ticks": ""
             }
            },
            "marker": {
             "colorbar": {
              "outlinewidth": 0,
              "ticks": ""
             }
            },
            "type": "scatter3d"
           }
          ],
          "scattercarpet": [
           {
            "marker": {
             "colorbar": {
              "outlinewidth": 0,
              "ticks": ""
             }
            },
            "type": "scattercarpet"
           }
          ],
          "scattergeo": [
           {
            "marker": {
             "colorbar": {
              "outlinewidth": 0,
              "ticks": ""
             }
            },
            "type": "scattergeo"
           }
          ],
          "scattergl": [
           {
            "marker": {
             "colorbar": {
              "outlinewidth": 0,
              "ticks": ""
             }
            },
            "type": "scattergl"
           }
          ],
          "scattermap": [
           {
            "marker": {
             "colorbar": {
              "outlinewidth": 0,
              "ticks": ""
             }
            },
            "type": "scattermap"
           }
          ],
          "scattermapbox": [
           {
            "marker": {
             "colorbar": {
              "outlinewidth": 0,
              "ticks": ""
             }
            },
            "type": "scattermapbox"
           }
          ],
          "scatterpolar": [
           {
            "marker": {
             "colorbar": {
              "outlinewidth": 0,
              "ticks": ""
             }
            },
            "type": "scatterpolar"
           }
          ],
          "scatterpolargl": [
           {
            "marker": {
             "colorbar": {
              "outlinewidth": 0,
              "ticks": ""
             }
            },
            "type": "scatterpolargl"
           }
          ],
          "scatterternary": [
           {
            "marker": {
             "colorbar": {
              "outlinewidth": 0,
              "ticks": ""
             }
            },
            "type": "scatterternary"
           }
          ],
          "surface": [
           {
            "colorbar": {
             "outlinewidth": 0,
             "ticks": ""
            },
            "colorscale": [
             [
              0,
              "#0d0887"
             ],
             [
              0.1111111111111111,
              "#46039f"
             ],
             [
              0.2222222222222222,
              "#7201a8"
             ],
             [
              0.3333333333333333,
              "#9c179e"
             ],
             [
              0.4444444444444444,
              "#bd3786"
             ],
             [
              0.5555555555555556,
              "#d8576b"
             ],
             [
              0.6666666666666666,
              "#ed7953"
             ],
             [
              0.7777777777777778,
              "#fb9f3a"
             ],
             [
              0.8888888888888888,
              "#fdca26"
             ],
             [
              1,
              "#f0f921"
             ]
            ],
            "type": "surface"
           }
          ],
          "table": [
           {
            "cells": {
             "fill": {
              "color": "#EBF0F8"
             },
             "line": {
              "color": "white"
             }
            },
            "header": {
             "fill": {
              "color": "#C8D4E3"
             },
             "line": {
              "color": "white"
             }
            },
            "type": "table"
           }
          ]
         },
         "layout": {
          "annotationdefaults": {
           "arrowcolor": "#2a3f5f",
           "arrowhead": 0,
           "arrowwidth": 1
          },
          "autotypenumbers": "strict",
          "coloraxis": {
           "colorbar": {
            "outlinewidth": 0,
            "ticks": ""
           }
          },
          "colorscale": {
           "diverging": [
            [
             0,
             "#8e0152"
            ],
            [
             0.1,
             "#c51b7d"
            ],
            [
             0.2,
             "#de77ae"
            ],
            [
             0.3,
             "#f1b6da"
            ],
            [
             0.4,
             "#fde0ef"
            ],
            [
             0.5,
             "#f7f7f7"
            ],
            [
             0.6,
             "#e6f5d0"
            ],
            [
             0.7,
             "#b8e186"
            ],
            [
             0.8,
             "#7fbc41"
            ],
            [
             0.9,
             "#4d9221"
            ],
            [
             1,
             "#276419"
            ]
           ],
           "sequential": [
            [
             0,
             "#0d0887"
            ],
            [
             0.1111111111111111,
             "#46039f"
            ],
            [
             0.2222222222222222,
             "#7201a8"
            ],
            [
             0.3333333333333333,
             "#9c179e"
            ],
            [
             0.4444444444444444,
             "#bd3786"
            ],
            [
             0.5555555555555556,
             "#d8576b"
            ],
            [
             0.6666666666666666,
             "#ed7953"
            ],
            [
             0.7777777777777778,
             "#fb9f3a"
            ],
            [
             0.8888888888888888,
             "#fdca26"
            ],
            [
             1,
             "#f0f921"
            ]
           ],
           "sequentialminus": [
            [
             0,
             "#0d0887"
            ],
            [
             0.1111111111111111,
             "#46039f"
            ],
            [
             0.2222222222222222,
             "#7201a8"
            ],
            [
             0.3333333333333333,
             "#9c179e"
            ],
            [
             0.4444444444444444,
             "#bd3786"
            ],
            [
             0.5555555555555556,
             "#d8576b"
            ],
            [
             0.6666666666666666,
             "#ed7953"
            ],
            [
             0.7777777777777778,
             "#fb9f3a"
            ],
            [
             0.8888888888888888,
             "#fdca26"
            ],
            [
             1,
             "#f0f921"
            ]
           ]
          },
          "colorway": [
           "#636efa",
           "#EF553B",
           "#00cc96",
           "#ab63fa",
           "#FFA15A",
           "#19d3f3",
           "#FF6692",
           "#B6E880",
           "#FF97FF",
           "#FECB52"
          ],
          "font": {
           "color": "#2a3f5f"
          },
          "geo": {
           "bgcolor": "white",
           "lakecolor": "white",
           "landcolor": "#E5ECF6",
           "showlakes": true,
           "showland": true,
           "subunitcolor": "white"
          },
          "hoverlabel": {
           "align": "left"
          },
          "hovermode": "closest",
          "mapbox": {
           "style": "light"
          },
          "paper_bgcolor": "white",
          "plot_bgcolor": "#E5ECF6",
          "polar": {
           "angularaxis": {
            "gridcolor": "white",
            "linecolor": "white",
            "ticks": ""
           },
           "bgcolor": "#E5ECF6",
           "radialaxis": {
            "gridcolor": "white",
            "linecolor": "white",
            "ticks": ""
           }
          },
          "scene": {
           "xaxis": {
            "backgroundcolor": "#E5ECF6",
            "gridcolor": "white",
            "gridwidth": 2,
            "linecolor": "white",
            "showbackground": true,
            "ticks": "",
            "zerolinecolor": "white"
           },
           "yaxis": {
            "backgroundcolor": "#E5ECF6",
            "gridcolor": "white",
            "gridwidth": 2,
            "linecolor": "white",
            "showbackground": true,
            "ticks": "",
            "zerolinecolor": "white"
           },
           "zaxis": {
            "backgroundcolor": "#E5ECF6",
            "gridcolor": "white",
            "gridwidth": 2,
            "linecolor": "white",
            "showbackground": true,
            "ticks": "",
            "zerolinecolor": "white"
           }
          },
          "shapedefaults": {
           "line": {
            "color": "#2a3f5f"
           }
          },
          "ternary": {
           "aaxis": {
            "gridcolor": "white",
            "linecolor": "white",
            "ticks": ""
           },
           "baxis": {
            "gridcolor": "white",
            "linecolor": "white",
            "ticks": ""
           },
           "bgcolor": "#E5ECF6",
           "caxis": {
            "gridcolor": "white",
            "linecolor": "white",
            "ticks": ""
           }
          },
          "title": {
           "x": 0.05
          },
          "xaxis": {
           "automargin": true,
           "gridcolor": "white",
           "linecolor": "white",
           "ticks": "",
           "title": {
            "standoff": 15
           },
           "zerolinecolor": "white",
           "zerolinewidth": 2
          },
          "yaxis": {
           "automargin": true,
           "gridcolor": "white",
           "linecolor": "white",
           "ticks": "",
           "title": {
            "standoff": 15
           },
           "zerolinecolor": "white",
           "zerolinewidth": 2
          }
         }
        },
        "title": {
         "text": "Number of Students per Educational Area (2023)"
        },
        "xaxis": {
         "anchor": "y",
         "domain": [
          0,
          1
         ],
         "tickangle": 45,
         "title": {
          "text": "Educational Area"
         }
        },
        "yaxis": {
         "anchor": "x",
         "domain": [
          0,
          1
         ],
         "title": {
          "text": "Number"
         }
        }
       }
      }
     },
     "metadata": {},
     "output_type": "display_data"
    }
   ],
   "source": [
    "def plotly_stud_bar(df, year):\n",
    "    year_str = str(year)\n",
    "    df_year = df[[\"Utbildningsinriktning\", year_str]].copy()\n",
    "    df_year.columns = [\"Utbildningsinriktning\", \"Antal\"]\n",
    "    \n",
    "    fig = px.bar(\n",
    "        df_year,\n",
    "        x=\"Utbildningsinriktning\",\n",
    "        y=\"Antal\",\n",
    "        title =f\"Number of Students per Educational Area ({year})\", \n",
    "        labels={\"Utbildningsinriktning\": \"Educational Area\", \"Antal\": \"Number\"},\n",
    "   \n",
    "    )\n",
    "    fig.update_layout(xaxis_tickangle=45)\n",
    "    return fig\n",
    "\n",
    "\n",
    "plotly_stud_bar(df_cleaned_stud, 2023)"
   ]
  },
  {
   "cell_type": "markdown",
   "id": "36f447dd",
   "metadata": {},
   "source": [
    "### Total Studying + Total amount that finished studies in Educational Area"
   ]
  },
  {
   "cell_type": "code",
   "execution_count": 36,
   "id": "d1568b10",
   "metadata": {},
   "outputs": [
    {
     "name": "stdout",
     "output_type": "stream",
     "text": [
      "<class 'pandas.core.frame.DataFrame'>\n",
      "RangeIndex: 16 entries, 0 to 15\n",
      "Data columns (total 21 columns):\n",
      " #   Column                    Non-Null Count  Dtype \n",
      "---  ------                    --------------  ----- \n",
      " 0   utbildningens inriktning  16 non-null     object\n",
      " 1   2005                      16 non-null     object\n",
      " 2   2006                      16 non-null     object\n",
      " 3   2007                      16 non-null     object\n",
      " 4   2008                      16 non-null     int64 \n",
      " 5   2009                      16 non-null     int64 \n",
      " 6   2010                      16 non-null     int64 \n",
      " 7   2011                      16 non-null     int64 \n",
      " 8   2012                      16 non-null     int64 \n",
      " 9   2013                      16 non-null     int64 \n",
      " 10  2014                      16 non-null     int64 \n",
      " 11  2015                      16 non-null     int64 \n",
      " 12  2016                      16 non-null     int64 \n",
      " 13  2017                      16 non-null     int64 \n",
      " 14  2018                      16 non-null     int64 \n",
      " 15  2019                      16 non-null     int64 \n",
      " 16  2020                      16 non-null     int64 \n",
      " 17  2021                      16 non-null     int64 \n",
      " 18  2022                      16 non-null     int64 \n",
      " 19  2023                      16 non-null     int64 \n",
      " 20  2024                      16 non-null     int64 \n",
      "dtypes: int64(17), object(4)\n",
      "memory usage: 2.8+ KB\n",
      "None\n",
      "utbildningens inriktning    0\n",
      "2005                        0\n",
      "2006                        0\n",
      "2007                        0\n",
      "2008                        0\n",
      "2009                        0\n",
      "2010                        0\n",
      "2011                        0\n",
      "2012                        0\n",
      "2013                        0\n",
      "2014                        0\n",
      "2015                        0\n",
      "2016                        0\n",
      "2017                        0\n",
      "2018                        0\n",
      "2019                        0\n",
      "2020                        0\n",
      "2021                        0\n",
      "2022                        0\n",
      "2023                        0\n",
      "2024                        0\n",
      "dtype: int64\n"
     ]
    }
   ],
   "source": [
    "# Encoding latin1 needed to be able to read this csv.\n",
    "df_studerande = pd.read_csv(\"../../data/studerande_total_05-24.csv\", encoding=\"latin1\").drop(columns=[\"kön\", \"ålder\"]).fillna(\"\")\n",
    "\n",
    "# Checked for null. \n",
    "print(df_studerande.info())\n",
    "print(df_studerande.isnull().sum()) \n",
    "\n"
   ]
  },
  {
   "cell_type": "code",
   "execution_count": 46,
   "id": "89828865",
   "metadata": {},
   "outputs": [
    {
     "name": "stdout",
     "output_type": "stream",
     "text": [
      "<class 'pandas.core.frame.DataFrame'>\n",
      "RangeIndex: 16 entries, 0 to 15\n",
      "Data columns (total 23 columns):\n",
      " #   Column                    Non-Null Count  Dtype \n",
      "---  ------                    --------------  ----- \n",
      " 0   kön                       16 non-null     object\n",
      " 1   utbildningens inriktning  16 non-null     object\n",
      " 2   ålder                     16 non-null     object\n",
      " 3   2005                      16 non-null     object\n",
      " 4   2006                      16 non-null     object\n",
      " 5   2007                      16 non-null     object\n",
      " 6   2008                      16 non-null     int64 \n",
      " 7   2009                      16 non-null     int64 \n",
      " 8   2010                      16 non-null     int64 \n",
      " 9   2011                      16 non-null     int64 \n",
      " 10  2012                      16 non-null     int64 \n",
      " 11  2013                      16 non-null     int64 \n",
      " 12  2014                      16 non-null     int64 \n",
      " 13  2015                      16 non-null     int64 \n",
      " 14  2016                      16 non-null     int64 \n",
      " 15  2017                      16 non-null     int64 \n",
      " 16  2018                      16 non-null     int64 \n",
      " 17  2019                      16 non-null     int64 \n",
      " 18  2020                      16 non-null     int64 \n",
      " 19  2021                      16 non-null     int64 \n",
      " 20  2022                      16 non-null     int64 \n",
      " 21  2023                      16 non-null     int64 \n",
      " 22  2024                      16 non-null     object\n",
      "dtypes: int64(16), object(7)\n",
      "memory usage: 3.0+ KB\n",
      "None\n",
      "kön                         0\n",
      "utbildningens inriktning    0\n",
      "ålder                       0\n",
      "2005                        0\n",
      "2006                        0\n",
      "2007                        0\n",
      "2008                        0\n",
      "2009                        0\n",
      "2010                        0\n",
      "2011                        0\n",
      "2012                        0\n",
      "2013                        0\n",
      "2014                        0\n",
      "2015                        0\n",
      "2016                        0\n",
      "2017                        0\n",
      "2018                        0\n",
      "2019                        0\n",
      "2020                        0\n",
      "2021                        0\n",
      "2022                        0\n",
      "2023                        0\n",
      "2024                        0\n",
      "dtype: int64\n"
     ]
    }
   ],
   "source": [
    "# Encoding latin1 needed to read CSV. \n",
    "df_examinerade = pd.read_csv(\"../../data/examinerade_total_07-23.csv\", encoding=\"latin1\")\n",
    "\n",
    "print(df_examinerade.info())\n",
    "print(df_examinerade.isnull().sum())  # No nulls\n",
    "\n",
    "# Removed columns that are not needed + removed the years that do not contain data, 05-07 and 24.\n",
    "df_examinerade.drop(columns=[\"kön\", \"ålder\", \"2005\", \"2006\", \"2024\"], inplace=True)\n",
    "\n"
   ]
  },
  {
   "cell_type": "code",
   "execution_count": 45,
   "id": "323c9e8e",
   "metadata": {},
   "outputs": [
    {
     "data": {
      "text/html": [
       "<div>\n",
       "<style scoped>\n",
       "    .dataframe tbody tr th:only-of-type {\n",
       "        vertical-align: middle;\n",
       "    }\n",
       "\n",
       "    .dataframe tbody tr th {\n",
       "        vertical-align: top;\n",
       "    }\n",
       "\n",
       "    .dataframe thead th {\n",
       "        text-align: right;\n",
       "    }\n",
       "</style>\n",
       "<table border=\"1\" class=\"dataframe\">\n",
       "  <thead>\n",
       "    <tr style=\"text-align: right;\">\n",
       "      <th></th>\n",
       "      <th>utbildningens inriktning</th>\n",
       "      <th>2007</th>\n",
       "      <th>2008</th>\n",
       "      <th>2009</th>\n",
       "      <th>2010</th>\n",
       "      <th>2011</th>\n",
       "      <th>2012</th>\n",
       "      <th>2013</th>\n",
       "      <th>2014</th>\n",
       "      <th>2015</th>\n",
       "      <th>2016</th>\n",
       "      <th>2017</th>\n",
       "      <th>2018</th>\n",
       "      <th>2019</th>\n",
       "      <th>2020</th>\n",
       "      <th>2021</th>\n",
       "      <th>2022</th>\n",
       "      <th>2023</th>\n",
       "    </tr>\n",
       "  </thead>\n",
       "  <tbody>\n",
       "    <tr>\n",
       "      <th>0</th>\n",
       "      <td>Totalt</td>\n",
       "      <td>7830</td>\n",
       "      <td>8968</td>\n",
       "      <td>9907</td>\n",
       "      <td>10510</td>\n",
       "      <td>12081</td>\n",
       "      <td>10885</td>\n",
       "      <td>11393</td>\n",
       "      <td>11597</td>\n",
       "      <td>13129</td>\n",
       "      <td>12920</td>\n",
       "      <td>13279</td>\n",
       "      <td>13603</td>\n",
       "      <td>14628</td>\n",
       "      <td>17236</td>\n",
       "      <td>19944</td>\n",
       "      <td>23930</td>\n",
       "      <td>22304</td>\n",
       "    </tr>\n",
       "    <tr>\n",
       "      <th>1</th>\n",
       "      <td>Data/It</td>\n",
       "      <td>427</td>\n",
       "      <td>413</td>\n",
       "      <td>515</td>\n",
       "      <td>525</td>\n",
       "      <td>716</td>\n",
       "      <td>594</td>\n",
       "      <td>856</td>\n",
       "      <td>999</td>\n",
       "      <td>1114</td>\n",
       "      <td>1192</td>\n",
       "      <td>1319</td>\n",
       "      <td>1185</td>\n",
       "      <td>1317</td>\n",
       "      <td>1508</td>\n",
       "      <td>2276</td>\n",
       "      <td>3356</td>\n",
       "      <td>3247</td>\n",
       "    </tr>\n",
       "    <tr>\n",
       "      <th>2</th>\n",
       "      <td>Ekonomi, administration och försäljning</td>\n",
       "      <td>2074</td>\n",
       "      <td>2686</td>\n",
       "      <td>2997</td>\n",
       "      <td>3232</td>\n",
       "      <td>3380</td>\n",
       "      <td>3392</td>\n",
       "      <td>3358</td>\n",
       "      <td>3424</td>\n",
       "      <td>3857</td>\n",
       "      <td>3501</td>\n",
       "      <td>3268</td>\n",
       "      <td>3747</td>\n",
       "      <td>4104</td>\n",
       "      <td>4858</td>\n",
       "      <td>5432</td>\n",
       "      <td>5778</td>\n",
       "      <td>4928</td>\n",
       "    </tr>\n",
       "    <tr>\n",
       "      <th>3</th>\n",
       "      <td>Friskvård och kroppsvård</td>\n",
       "      <td>202</td>\n",
       "      <td>304</td>\n",
       "      <td>303</td>\n",
       "      <td>305</td>\n",
       "      <td>287</td>\n",
       "      <td>129</td>\n",
       "      <td>99</td>\n",
       "      <td>100</td>\n",
       "      <td>122</td>\n",
       "      <td>106</td>\n",
       "      <td>86</td>\n",
       "      <td>51</td>\n",
       "      <td>99</td>\n",
       "      <td>109</td>\n",
       "      <td>125</td>\n",
       "      <td>129</td>\n",
       "      <td>167</td>\n",
       "    </tr>\n",
       "    <tr>\n",
       "      <th>4</th>\n",
       "      <td>Hotell, restaurang och turism</td>\n",
       "      <td>664</td>\n",
       "      <td>899</td>\n",
       "      <td>832</td>\n",
       "      <td>746</td>\n",
       "      <td>876</td>\n",
       "      <td>794</td>\n",
       "      <td>711</td>\n",
       "      <td>644</td>\n",
       "      <td>676</td>\n",
       "      <td>593</td>\n",
       "      <td>573</td>\n",
       "      <td>674</td>\n",
       "      <td>678</td>\n",
       "      <td>731</td>\n",
       "      <td>893</td>\n",
       "      <td>913</td>\n",
       "      <td>788</td>\n",
       "    </tr>\n",
       "    <tr>\n",
       "      <th>5</th>\n",
       "      <td>Hälso- och sjukvård samt socialt arbete</td>\n",
       "      <td>1241</td>\n",
       "      <td>1145</td>\n",
       "      <td>1108</td>\n",
       "      <td>1253</td>\n",
       "      <td>1427</td>\n",
       "      <td>1243</td>\n",
       "      <td>1387</td>\n",
       "      <td>1541</td>\n",
       "      <td>1985</td>\n",
       "      <td>2050</td>\n",
       "      <td>2138</td>\n",
       "      <td>1974</td>\n",
       "      <td>2242</td>\n",
       "      <td>2946</td>\n",
       "      <td>3032</td>\n",
       "      <td>3720</td>\n",
       "      <td>3938</td>\n",
       "    </tr>\n",
       "    <tr>\n",
       "      <th>6</th>\n",
       "      <td>Journalistik och information</td>\n",
       "      <td>15</td>\n",
       "      <td>22</td>\n",
       "      <td>43</td>\n",
       "      <td>66</td>\n",
       "      <td>68</td>\n",
       "      <td>61</td>\n",
       "      <td>63</td>\n",
       "      <td>114</td>\n",
       "      <td>164</td>\n",
       "      <td>207</td>\n",
       "      <td>199</td>\n",
       "      <td>191</td>\n",
       "      <td>198</td>\n",
       "      <td>278</td>\n",
       "      <td>303</td>\n",
       "      <td>255</td>\n",
       "      <td>267</td>\n",
       "    </tr>\n",
       "    <tr>\n",
       "      <th>7</th>\n",
       "      <td>Juridik</td>\n",
       "      <td>21</td>\n",
       "      <td>42</td>\n",
       "      <td>54</td>\n",
       "      <td>50</td>\n",
       "      <td>26</td>\n",
       "      <td>53</td>\n",
       "      <td>52</td>\n",
       "      <td>79</td>\n",
       "      <td>90</td>\n",
       "      <td>60</td>\n",
       "      <td>102</td>\n",
       "      <td>110</td>\n",
       "      <td>122</td>\n",
       "      <td>122</td>\n",
       "      <td>160</td>\n",
       "      <td>151</td>\n",
       "      <td>105</td>\n",
       "    </tr>\n",
       "    <tr>\n",
       "      <th>8</th>\n",
       "      <td>Kultur, media och design</td>\n",
       "      <td>666</td>\n",
       "      <td>778</td>\n",
       "      <td>782</td>\n",
       "      <td>817</td>\n",
       "      <td>851</td>\n",
       "      <td>676</td>\n",
       "      <td>704</td>\n",
       "      <td>635</td>\n",
       "      <td>837</td>\n",
       "      <td>837</td>\n",
       "      <td>778</td>\n",
       "      <td>935</td>\n",
       "      <td>903</td>\n",
       "      <td>872</td>\n",
       "      <td>1017</td>\n",
       "      <td>1243</td>\n",
       "      <td>1201</td>\n",
       "    </tr>\n",
       "    <tr>\n",
       "      <th>9</th>\n",
       "      <td>Lantbruk, djurvård, trädgård, skog och fiske</td>\n",
       "      <td>460</td>\n",
       "      <td>389</td>\n",
       "      <td>462</td>\n",
       "      <td>369</td>\n",
       "      <td>469</td>\n",
       "      <td>463</td>\n",
       "      <td>417</td>\n",
       "      <td>407</td>\n",
       "      <td>395</td>\n",
       "      <td>409</td>\n",
       "      <td>424</td>\n",
       "      <td>454</td>\n",
       "      <td>324</td>\n",
       "      <td>424</td>\n",
       "      <td>461</td>\n",
       "      <td>571</td>\n",
       "      <td>560</td>\n",
       "    </tr>\n",
       "    <tr>\n",
       "      <th>10</th>\n",
       "      <td>Pedagogik och undervisning</td>\n",
       "      <td>13</td>\n",
       "      <td>57</td>\n",
       "      <td>69</td>\n",
       "      <td>48</td>\n",
       "      <td>321</td>\n",
       "      <td>247</td>\n",
       "      <td>161</td>\n",
       "      <td>220</td>\n",
       "      <td>192</td>\n",
       "      <td>165</td>\n",
       "      <td>313</td>\n",
       "      <td>197</td>\n",
       "      <td>478</td>\n",
       "      <td>444</td>\n",
       "      <td>476</td>\n",
       "      <td>674</td>\n",
       "      <td>620</td>\n",
       "    </tr>\n",
       "    <tr>\n",
       "      <th>11</th>\n",
       "      <td>Samhällsbyggnad och byggteknik</td>\n",
       "      <td>524</td>\n",
       "      <td>450</td>\n",
       "      <td>621</td>\n",
       "      <td>768</td>\n",
       "      <td>801</td>\n",
       "      <td>869</td>\n",
       "      <td>1193</td>\n",
       "      <td>1142</td>\n",
       "      <td>1354</td>\n",
       "      <td>1385</td>\n",
       "      <td>1645</td>\n",
       "      <td>1573</td>\n",
       "      <td>1823</td>\n",
       "      <td>2127</td>\n",
       "      <td>2672</td>\n",
       "      <td>3531</td>\n",
       "      <td>3068</td>\n",
       "    </tr>\n",
       "    <tr>\n",
       "      <th>12</th>\n",
       "      <td>Säkerhetstjänster</td>\n",
       "      <td>108</td>\n",
       "      <td>117</td>\n",
       "      <td>169</td>\n",
       "      <td>169</td>\n",
       "      <td>144</td>\n",
       "      <td>97</td>\n",
       "      <td>119</td>\n",
       "      <td>107</td>\n",
       "      <td>64</td>\n",
       "      <td>133</td>\n",
       "      <td>142</td>\n",
       "      <td>63</td>\n",
       "      <td>100</td>\n",
       "      <td>155</td>\n",
       "      <td>120</td>\n",
       "      <td>195</td>\n",
       "      <td>218</td>\n",
       "    </tr>\n",
       "    <tr>\n",
       "      <th>13</th>\n",
       "      <td>Teknik och tillverkning</td>\n",
       "      <td>1086</td>\n",
       "      <td>1196</td>\n",
       "      <td>1474</td>\n",
       "      <td>1672</td>\n",
       "      <td>2071</td>\n",
       "      <td>1705</td>\n",
       "      <td>1799</td>\n",
       "      <td>1853</td>\n",
       "      <td>1871</td>\n",
       "      <td>1782</td>\n",
       "      <td>1746</td>\n",
       "      <td>1670</td>\n",
       "      <td>1670</td>\n",
       "      <td>1935</td>\n",
       "      <td>2411</td>\n",
       "      <td>2777</td>\n",
       "      <td>2561</td>\n",
       "    </tr>\n",
       "    <tr>\n",
       "      <th>14</th>\n",
       "      <td>Transporttjänster</td>\n",
       "      <td>329</td>\n",
       "      <td>470</td>\n",
       "      <td>456</td>\n",
       "      <td>462</td>\n",
       "      <td>617</td>\n",
       "      <td>535</td>\n",
       "      <td>474</td>\n",
       "      <td>300</td>\n",
       "      <td>343</td>\n",
       "      <td>435</td>\n",
       "      <td>494</td>\n",
       "      <td>694</td>\n",
       "      <td>527</td>\n",
       "      <td>646</td>\n",
       "      <td>498</td>\n",
       "      <td>520</td>\n",
       "      <td>489</td>\n",
       "    </tr>\n",
       "    <tr>\n",
       "      <th>15</th>\n",
       "      <td>Övrigt</td>\n",
       "      <td>..</td>\n",
       "      <td>0</td>\n",
       "      <td>22</td>\n",
       "      <td>28</td>\n",
       "      <td>27</td>\n",
       "      <td>27</td>\n",
       "      <td>0</td>\n",
       "      <td>32</td>\n",
       "      <td>65</td>\n",
       "      <td>65</td>\n",
       "      <td>52</td>\n",
       "      <td>85</td>\n",
       "      <td>43</td>\n",
       "      <td>81</td>\n",
       "      <td>68</td>\n",
       "      <td>117</td>\n",
       "      <td>147</td>\n",
       "    </tr>\n",
       "  </tbody>\n",
       "</table>\n",
       "</div>"
      ],
      "text/plain": [
       "                        utbildningens inriktning  2007  2008  2009   2010  \\\n",
       "0                                         Totalt  7830  8968  9907  10510   \n",
       "1                                        Data/It   427   413   515    525   \n",
       "2        Ekonomi, administration och försäljning  2074  2686  2997   3232   \n",
       "3                       Friskvård och kroppsvård   202   304   303    305   \n",
       "4                  Hotell, restaurang och turism   664   899   832    746   \n",
       "5        Hälso- och sjukvård samt socialt arbete  1241  1145  1108   1253   \n",
       "6                   Journalistik och information    15    22    43     66   \n",
       "7                                        Juridik    21    42    54     50   \n",
       "8                       Kultur, media och design   666   778   782    817   \n",
       "9   Lantbruk, djurvård, trädgård, skog och fiske   460   389   462    369   \n",
       "10                    Pedagogik och undervisning    13    57    69     48   \n",
       "11                Samhällsbyggnad och byggteknik   524   450   621    768   \n",
       "12                             Säkerhetstjänster   108   117   169    169   \n",
       "13                       Teknik och tillverkning  1086  1196  1474   1672   \n",
       "14                             Transporttjänster   329   470   456    462   \n",
       "15                                        Övrigt    ..     0    22     28   \n",
       "\n",
       "     2011   2012   2013   2014   2015   2016   2017   2018   2019   2020  \\\n",
       "0   12081  10885  11393  11597  13129  12920  13279  13603  14628  17236   \n",
       "1     716    594    856    999   1114   1192   1319   1185   1317   1508   \n",
       "2    3380   3392   3358   3424   3857   3501   3268   3747   4104   4858   \n",
       "3     287    129     99    100    122    106     86     51     99    109   \n",
       "4     876    794    711    644    676    593    573    674    678    731   \n",
       "5    1427   1243   1387   1541   1985   2050   2138   1974   2242   2946   \n",
       "6      68     61     63    114    164    207    199    191    198    278   \n",
       "7      26     53     52     79     90     60    102    110    122    122   \n",
       "8     851    676    704    635    837    837    778    935    903    872   \n",
       "9     469    463    417    407    395    409    424    454    324    424   \n",
       "10    321    247    161    220    192    165    313    197    478    444   \n",
       "11    801    869   1193   1142   1354   1385   1645   1573   1823   2127   \n",
       "12    144     97    119    107     64    133    142     63    100    155   \n",
       "13   2071   1705   1799   1853   1871   1782   1746   1670   1670   1935   \n",
       "14    617    535    474    300    343    435    494    694    527    646   \n",
       "15     27     27      0     32     65     65     52     85     43     81   \n",
       "\n",
       "     2021   2022   2023  \n",
       "0   19944  23930  22304  \n",
       "1    2276   3356   3247  \n",
       "2    5432   5778   4928  \n",
       "3     125    129    167  \n",
       "4     893    913    788  \n",
       "5    3032   3720   3938  \n",
       "6     303    255    267  \n",
       "7     160    151    105  \n",
       "8    1017   1243   1201  \n",
       "9     461    571    560  \n",
       "10    476    674    620  \n",
       "11   2672   3531   3068  \n",
       "12    120    195    218  \n",
       "13   2411   2777   2561  \n",
       "14    498    520    489  \n",
       "15     68    117    147  "
      ]
     },
     "execution_count": 45,
     "metadata": {},
     "output_type": "execute_result"
    }
   ],
   "source": [
    "df_examinerade"
   ]
  },
  {
   "cell_type": "code",
   "execution_count": 47,
   "id": "2a4d6eff",
   "metadata": {},
   "outputs": [
    {
     "data": {
      "text/html": [
       "<div>\n",
       "<style scoped>\n",
       "    .dataframe tbody tr th:only-of-type {\n",
       "        vertical-align: middle;\n",
       "    }\n",
       "\n",
       "    .dataframe tbody tr th {\n",
       "        vertical-align: top;\n",
       "    }\n",
       "\n",
       "    .dataframe thead th {\n",
       "        text-align: right;\n",
       "    }\n",
       "</style>\n",
       "<table border=\"1\" class=\"dataframe\">\n",
       "  <thead>\n",
       "    <tr style=\"text-align: right;\">\n",
       "      <th></th>\n",
       "      <th>utbildningens inriktning</th>\n",
       "      <th>2005</th>\n",
       "      <th>2006</th>\n",
       "      <th>2007</th>\n",
       "      <th>2008</th>\n",
       "      <th>2009</th>\n",
       "      <th>2010</th>\n",
       "      <th>2011</th>\n",
       "      <th>2012</th>\n",
       "      <th>2013</th>\n",
       "      <th>...</th>\n",
       "      <th>2015</th>\n",
       "      <th>2016</th>\n",
       "      <th>2017</th>\n",
       "      <th>2018</th>\n",
       "      <th>2019</th>\n",
       "      <th>2020</th>\n",
       "      <th>2021</th>\n",
       "      <th>2022</th>\n",
       "      <th>2023</th>\n",
       "      <th>2024</th>\n",
       "    </tr>\n",
       "  </thead>\n",
       "  <tbody>\n",
       "    <tr>\n",
       "      <th>0</th>\n",
       "      <td>Totalt</td>\n",
       "      <td>24789</td>\n",
       "      <td>29556</td>\n",
       "      <td>33684</td>\n",
       "      <td>36657</td>\n",
       "      <td>39417</td>\n",
       "      <td>41597</td>\n",
       "      <td>42484</td>\n",
       "      <td>40754</td>\n",
       "      <td>42596</td>\n",
       "      <td>...</td>\n",
       "      <td>46633</td>\n",
       "      <td>47983</td>\n",
       "      <td>50373</td>\n",
       "      <td>52741</td>\n",
       "      <td>61393</td>\n",
       "      <td>75371</td>\n",
       "      <td>82753</td>\n",
       "      <td>84871</td>\n",
       "      <td>84560</td>\n",
       "      <td>87225</td>\n",
       "    </tr>\n",
       "    <tr>\n",
       "      <th>1</th>\n",
       "      <td>Data/It</td>\n",
       "      <td>2587</td>\n",
       "      <td>2546</td>\n",
       "      <td>2797</td>\n",
       "      <td>2817</td>\n",
       "      <td>2857</td>\n",
       "      <td>2903</td>\n",
       "      <td>3160</td>\n",
       "      <td>3398</td>\n",
       "      <td>4054</td>\n",
       "      <td>...</td>\n",
       "      <td>5812</td>\n",
       "      <td>6183</td>\n",
       "      <td>6210</td>\n",
       "      <td>5704</td>\n",
       "      <td>7086</td>\n",
       "      <td>10283</td>\n",
       "      <td>12852</td>\n",
       "      <td>14255</td>\n",
       "      <td>15162</td>\n",
       "      <td>16447</td>\n",
       "    </tr>\n",
       "    <tr>\n",
       "      <th>2</th>\n",
       "      <td>Ekonomi, administration och försäljning</td>\n",
       "      <td>6238</td>\n",
       "      <td>7582</td>\n",
       "      <td>8807</td>\n",
       "      <td>10264</td>\n",
       "      <td>11286</td>\n",
       "      <td>11905</td>\n",
       "      <td>12179</td>\n",
       "      <td>11946</td>\n",
       "      <td>12253</td>\n",
       "      <td>...</td>\n",
       "      <td>11670</td>\n",
       "      <td>11529</td>\n",
       "      <td>12193</td>\n",
       "      <td>13797</td>\n",
       "      <td>15994</td>\n",
       "      <td>18491</td>\n",
       "      <td>18540</td>\n",
       "      <td>17818</td>\n",
       "      <td>17354</td>\n",
       "      <td>17380</td>\n",
       "    </tr>\n",
       "    <tr>\n",
       "      <th>3</th>\n",
       "      <td>Friskvård och kroppsvård</td>\n",
       "      <td>481</td>\n",
       "      <td>738</td>\n",
       "      <td>883</td>\n",
       "      <td>993</td>\n",
       "      <td>1009</td>\n",
       "      <td>857</td>\n",
       "      <td>591</td>\n",
       "      <td>371</td>\n",
       "      <td>363</td>\n",
       "      <td>...</td>\n",
       "      <td>352</td>\n",
       "      <td>303</td>\n",
       "      <td>238</td>\n",
       "      <td>231</td>\n",
       "      <td>302</td>\n",
       "      <td>335</td>\n",
       "      <td>372</td>\n",
       "      <td>408</td>\n",
       "      <td>460</td>\n",
       "      <td>366</td>\n",
       "    </tr>\n",
       "    <tr>\n",
       "      <th>4</th>\n",
       "      <td>Hotell, restaurang och turism</td>\n",
       "      <td>2223</td>\n",
       "      <td>2553</td>\n",
       "      <td>2906</td>\n",
       "      <td>3074</td>\n",
       "      <td>2965</td>\n",
       "      <td>2905</td>\n",
       "      <td>2888</td>\n",
       "      <td>2592</td>\n",
       "      <td>2525</td>\n",
       "      <td>...</td>\n",
       "      <td>2606</td>\n",
       "      <td>2533</td>\n",
       "      <td>2534</td>\n",
       "      <td>2499</td>\n",
       "      <td>2718</td>\n",
       "      <td>3094</td>\n",
       "      <td>3314</td>\n",
       "      <td>3007</td>\n",
       "      <td>2753</td>\n",
       "      <td>2800</td>\n",
       "    </tr>\n",
       "    <tr>\n",
       "      <th>5</th>\n",
       "      <td>Hälso- och sjukvård samt socialt arbete</td>\n",
       "      <td>2992</td>\n",
       "      <td>3807</td>\n",
       "      <td>4200</td>\n",
       "      <td>4029</td>\n",
       "      <td>4091</td>\n",
       "      <td>4496</td>\n",
       "      <td>4656</td>\n",
       "      <td>4525</td>\n",
       "      <td>4965</td>\n",
       "      <td>...</td>\n",
       "      <td>6023</td>\n",
       "      <td>6162</td>\n",
       "      <td>6727</td>\n",
       "      <td>7451</td>\n",
       "      <td>9031</td>\n",
       "      <td>10904</td>\n",
       "      <td>12052</td>\n",
       "      <td>12880</td>\n",
       "      <td>12521</td>\n",
       "      <td>11916</td>\n",
       "    </tr>\n",
       "    <tr>\n",
       "      <th>6</th>\n",
       "      <td>Journalistik och information</td>\n",
       "      <td>114</td>\n",
       "      <td>101</td>\n",
       "      <td>114</td>\n",
       "      <td>159</td>\n",
       "      <td>213</td>\n",
       "      <td>256</td>\n",
       "      <td>299</td>\n",
       "      <td>277</td>\n",
       "      <td>413</td>\n",
       "      <td>...</td>\n",
       "      <td>649</td>\n",
       "      <td>723</td>\n",
       "      <td>802</td>\n",
       "      <td>833</td>\n",
       "      <td>904</td>\n",
       "      <td>967</td>\n",
       "      <td>936</td>\n",
       "      <td>823</td>\n",
       "      <td>752</td>\n",
       "      <td>646</td>\n",
       "    </tr>\n",
       "    <tr>\n",
       "      <th>7</th>\n",
       "      <td>Juridik</td>\n",
       "      <td>..</td>\n",
       "      <td>61</td>\n",
       "      <td>122</td>\n",
       "      <td>157</td>\n",
       "      <td>167</td>\n",
       "      <td>173</td>\n",
       "      <td>175</td>\n",
       "      <td>242</td>\n",
       "      <td>280</td>\n",
       "      <td>...</td>\n",
       "      <td>309</td>\n",
       "      <td>336</td>\n",
       "      <td>412</td>\n",
       "      <td>438</td>\n",
       "      <td>451</td>\n",
       "      <td>484</td>\n",
       "      <td>488</td>\n",
       "      <td>416</td>\n",
       "      <td>346</td>\n",
       "      <td>346</td>\n",
       "    </tr>\n",
       "    <tr>\n",
       "      <th>8</th>\n",
       "      <td>Kultur, media och design</td>\n",
       "      <td>2803</td>\n",
       "      <td>2938</td>\n",
       "      <td>2893</td>\n",
       "      <td>2993</td>\n",
       "      <td>2952</td>\n",
       "      <td>2791</td>\n",
       "      <td>2567</td>\n",
       "      <td>2363</td>\n",
       "      <td>2509</td>\n",
       "      <td>...</td>\n",
       "      <td>2769</td>\n",
       "      <td>2770</td>\n",
       "      <td>2865</td>\n",
       "      <td>2904</td>\n",
       "      <td>3016</td>\n",
       "      <td>3432</td>\n",
       "      <td>3916</td>\n",
       "      <td>4223</td>\n",
       "      <td>4457</td>\n",
       "      <td>4636</td>\n",
       "    </tr>\n",
       "    <tr>\n",
       "      <th>9</th>\n",
       "      <td>Lantbruk, djurvård, trädgård, skog och fiske</td>\n",
       "      <td>920</td>\n",
       "      <td>1341</td>\n",
       "      <td>1538</td>\n",
       "      <td>1502</td>\n",
       "      <td>1549</td>\n",
       "      <td>1704</td>\n",
       "      <td>1654</td>\n",
       "      <td>1461</td>\n",
       "      <td>1355</td>\n",
       "      <td>...</td>\n",
       "      <td>1307</td>\n",
       "      <td>1407</td>\n",
       "      <td>1442</td>\n",
       "      <td>1360</td>\n",
       "      <td>1416</td>\n",
       "      <td>1613</td>\n",
       "      <td>1810</td>\n",
       "      <td>1950</td>\n",
       "      <td>2091</td>\n",
       "      <td>2346</td>\n",
       "    </tr>\n",
       "    <tr>\n",
       "      <th>10</th>\n",
       "      <td>Pedagogik och undervisning</td>\n",
       "      <td>16</td>\n",
       "      <td>103</td>\n",
       "      <td>186</td>\n",
       "      <td>220</td>\n",
       "      <td>250</td>\n",
       "      <td>462</td>\n",
       "      <td>660</td>\n",
       "      <td>454</td>\n",
       "      <td>424</td>\n",
       "      <td>...</td>\n",
       "      <td>422</td>\n",
       "      <td>534</td>\n",
       "      <td>654</td>\n",
       "      <td>861</td>\n",
       "      <td>1289</td>\n",
       "      <td>1528</td>\n",
       "      <td>1806</td>\n",
       "      <td>1976</td>\n",
       "      <td>1510</td>\n",
       "      <td>1095</td>\n",
       "    </tr>\n",
       "    <tr>\n",
       "      <th>11</th>\n",
       "      <td>Samhällsbyggnad och byggteknik</td>\n",
       "      <td>1406</td>\n",
       "      <td>1947</td>\n",
       "      <td>2388</td>\n",
       "      <td>2641</td>\n",
       "      <td>3183</td>\n",
       "      <td>3540</td>\n",
       "      <td>3918</td>\n",
       "      <td>4363</td>\n",
       "      <td>4743</td>\n",
       "      <td>...</td>\n",
       "      <td>5512</td>\n",
       "      <td>6066</td>\n",
       "      <td>6831</td>\n",
       "      <td>7534</td>\n",
       "      <td>9019</td>\n",
       "      <td>11547</td>\n",
       "      <td>12744</td>\n",
       "      <td>13038</td>\n",
       "      <td>12561</td>\n",
       "      <td>13129</td>\n",
       "    </tr>\n",
       "    <tr>\n",
       "      <th>12</th>\n",
       "      <td>Säkerhetstjänster</td>\n",
       "      <td>267</td>\n",
       "      <td>425</td>\n",
       "      <td>565</td>\n",
       "      <td>626</td>\n",
       "      <td>629</td>\n",
       "      <td>544</td>\n",
       "      <td>459</td>\n",
       "      <td>370</td>\n",
       "      <td>336</td>\n",
       "      <td>...</td>\n",
       "      <td>378</td>\n",
       "      <td>375</td>\n",
       "      <td>275</td>\n",
       "      <td>284</td>\n",
       "      <td>408</td>\n",
       "      <td>579</td>\n",
       "      <td>594</td>\n",
       "      <td>763</td>\n",
       "      <td>833</td>\n",
       "      <td>830</td>\n",
       "    </tr>\n",
       "    <tr>\n",
       "      <th>13</th>\n",
       "      <td>Teknik och tillverkning</td>\n",
       "      <td>3920</td>\n",
       "      <td>4310</td>\n",
       "      <td>4928</td>\n",
       "      <td>5563</td>\n",
       "      <td>6511</td>\n",
       "      <td>7142</td>\n",
       "      <td>7334</td>\n",
       "      <td>6731</td>\n",
       "      <td>7036</td>\n",
       "      <td>...</td>\n",
       "      <td>7387</td>\n",
       "      <td>7259</td>\n",
       "      <td>7058</td>\n",
       "      <td>6839</td>\n",
       "      <td>7763</td>\n",
       "      <td>9931</td>\n",
       "      <td>11279</td>\n",
       "      <td>11309</td>\n",
       "      <td>11709</td>\n",
       "      <td>13226</td>\n",
       "    </tr>\n",
       "    <tr>\n",
       "      <th>14</th>\n",
       "      <td>Transporttjänster</td>\n",
       "      <td>822</td>\n",
       "      <td>1104</td>\n",
       "      <td>1357</td>\n",
       "      <td>1590</td>\n",
       "      <td>1696</td>\n",
       "      <td>1859</td>\n",
       "      <td>1845</td>\n",
       "      <td>1487</td>\n",
       "      <td>1116</td>\n",
       "      <td>...</td>\n",
       "      <td>1190</td>\n",
       "      <td>1544</td>\n",
       "      <td>1850</td>\n",
       "      <td>1749</td>\n",
       "      <td>1673</td>\n",
       "      <td>1757</td>\n",
       "      <td>1573</td>\n",
       "      <td>1490</td>\n",
       "      <td>1618</td>\n",
       "      <td>1691</td>\n",
       "    </tr>\n",
       "    <tr>\n",
       "      <th>15</th>\n",
       "      <td>Övrigt</td>\n",
       "      <td>..</td>\n",
       "      <td>..</td>\n",
       "      <td>..</td>\n",
       "      <td>29</td>\n",
       "      <td>59</td>\n",
       "      <td>60</td>\n",
       "      <td>99</td>\n",
       "      <td>174</td>\n",
       "      <td>224</td>\n",
       "      <td>...</td>\n",
       "      <td>247</td>\n",
       "      <td>259</td>\n",
       "      <td>282</td>\n",
       "      <td>257</td>\n",
       "      <td>323</td>\n",
       "      <td>426</td>\n",
       "      <td>477</td>\n",
       "      <td>515</td>\n",
       "      <td>433</td>\n",
       "      <td>371</td>\n",
       "    </tr>\n",
       "  </tbody>\n",
       "</table>\n",
       "<p>16 rows × 21 columns</p>\n",
       "</div>"
      ],
      "text/plain": [
       "                        utbildningens inriktning   2005   2006   2007   2008  \\\n",
       "0                                         Totalt  24789  29556  33684  36657   \n",
       "1                                        Data/It   2587   2546   2797   2817   \n",
       "2        Ekonomi, administration och försäljning   6238   7582   8807  10264   \n",
       "3                       Friskvård och kroppsvård    481    738    883    993   \n",
       "4                  Hotell, restaurang och turism   2223   2553   2906   3074   \n",
       "5        Hälso- och sjukvård samt socialt arbete   2992   3807   4200   4029   \n",
       "6                   Journalistik och information    114    101    114    159   \n",
       "7                                        Juridik     ..     61    122    157   \n",
       "8                       Kultur, media och design   2803   2938   2893   2993   \n",
       "9   Lantbruk, djurvård, trädgård, skog och fiske    920   1341   1538   1502   \n",
       "10                    Pedagogik och undervisning     16    103    186    220   \n",
       "11                Samhällsbyggnad och byggteknik   1406   1947   2388   2641   \n",
       "12                             Säkerhetstjänster    267    425    565    626   \n",
       "13                       Teknik och tillverkning   3920   4310   4928   5563   \n",
       "14                             Transporttjänster    822   1104   1357   1590   \n",
       "15                                        Övrigt     ..     ..     ..     29   \n",
       "\n",
       "     2009   2010   2011   2012   2013  ...   2015   2016   2017   2018   2019  \\\n",
       "0   39417  41597  42484  40754  42596  ...  46633  47983  50373  52741  61393   \n",
       "1    2857   2903   3160   3398   4054  ...   5812   6183   6210   5704   7086   \n",
       "2   11286  11905  12179  11946  12253  ...  11670  11529  12193  13797  15994   \n",
       "3    1009    857    591    371    363  ...    352    303    238    231    302   \n",
       "4    2965   2905   2888   2592   2525  ...   2606   2533   2534   2499   2718   \n",
       "5    4091   4496   4656   4525   4965  ...   6023   6162   6727   7451   9031   \n",
       "6     213    256    299    277    413  ...    649    723    802    833    904   \n",
       "7     167    173    175    242    280  ...    309    336    412    438    451   \n",
       "8    2952   2791   2567   2363   2509  ...   2769   2770   2865   2904   3016   \n",
       "9    1549   1704   1654   1461   1355  ...   1307   1407   1442   1360   1416   \n",
       "10    250    462    660    454    424  ...    422    534    654    861   1289   \n",
       "11   3183   3540   3918   4363   4743  ...   5512   6066   6831   7534   9019   \n",
       "12    629    544    459    370    336  ...    378    375    275    284    408   \n",
       "13   6511   7142   7334   6731   7036  ...   7387   7259   7058   6839   7763   \n",
       "14   1696   1859   1845   1487   1116  ...   1190   1544   1850   1749   1673   \n",
       "15     59     60     99    174    224  ...    247    259    282    257    323   \n",
       "\n",
       "     2020   2021   2022   2023   2024  \n",
       "0   75371  82753  84871  84560  87225  \n",
       "1   10283  12852  14255  15162  16447  \n",
       "2   18491  18540  17818  17354  17380  \n",
       "3     335    372    408    460    366  \n",
       "4    3094   3314   3007   2753   2800  \n",
       "5   10904  12052  12880  12521  11916  \n",
       "6     967    936    823    752    646  \n",
       "7     484    488    416    346    346  \n",
       "8    3432   3916   4223   4457   4636  \n",
       "9    1613   1810   1950   2091   2346  \n",
       "10   1528   1806   1976   1510   1095  \n",
       "11  11547  12744  13038  12561  13129  \n",
       "12    579    594    763    833    830  \n",
       "13   9931  11279  11309  11709  13226  \n",
       "14   1757   1573   1490   1618   1691  \n",
       "15    426    477    515    433    371  \n",
       "\n",
       "[16 rows x 21 columns]"
      ]
     },
     "execution_count": 47,
     "metadata": {},
     "output_type": "execute_result"
    }
   ],
   "source": [
    "df_studerande"
   ]
  },
  {
   "cell_type": "code",
   "execution_count": 56,
   "id": "1959dc1d",
   "metadata": {},
   "outputs": [],
   "source": [
    "# Reshape both to long format, much easier to plot.\n",
    "df_stud_long = df_studerande.melt(\n",
    "    id_vars=\"utbildningens inriktning\", var_name=\"År\", value_name=\"Studerande\"\n",
    ")\n",
    "df_exam_long = df_examinerade.melt(\n",
    "    id_vars=\"utbildningens inriktning\", var_name=\"År\", value_name=\"Examinerade\"\n",
    ")\n",
    "\n",
    "\n",
    "df_stud_long[\"År\"] = pd.to_numeric(df_stud_long[\"År\"], errors=\"coerce\")\n",
    "df_exam_long[\"År\"] = pd.to_numeric(df_exam_long[\"År\"], errors=\"coerce\")\n"
   ]
  },
  {
   "cell_type": "code",
   "execution_count": null,
   "id": "de1e997c",
   "metadata": {},
   "outputs": [
    {
     "data": {
      "text/html": [
       "<div>\n",
       "<style scoped>\n",
       "    .dataframe tbody tr th:only-of-type {\n",
       "        vertical-align: middle;\n",
       "    }\n",
       "\n",
       "    .dataframe tbody tr th {\n",
       "        vertical-align: top;\n",
       "    }\n",
       "\n",
       "    .dataframe thead th {\n",
       "        text-align: right;\n",
       "    }\n",
       "</style>\n",
       "<table border=\"1\" class=\"dataframe\">\n",
       "  <thead>\n",
       "    <tr style=\"text-align: right;\">\n",
       "      <th></th>\n",
       "      <th>utbildningens inriktning</th>\n",
       "      <th>År</th>\n",
       "      <th>Examinerade</th>\n",
       "    </tr>\n",
       "  </thead>\n",
       "  <tbody>\n",
       "    <tr>\n",
       "      <th>0</th>\n",
       "      <td>Totalt</td>\n",
       "      <td>2007</td>\n",
       "      <td>7830</td>\n",
       "    </tr>\n",
       "    <tr>\n",
       "      <th>1</th>\n",
       "      <td>Data/It</td>\n",
       "      <td>2007</td>\n",
       "      <td>427</td>\n",
       "    </tr>\n",
       "    <tr>\n",
       "      <th>2</th>\n",
       "      <td>Ekonomi, administration och försäljning</td>\n",
       "      <td>2007</td>\n",
       "      <td>2074</td>\n",
       "    </tr>\n",
       "    <tr>\n",
       "      <th>3</th>\n",
       "      <td>Friskvård och kroppsvård</td>\n",
       "      <td>2007</td>\n",
       "      <td>202</td>\n",
       "    </tr>\n",
       "    <tr>\n",
       "      <th>4</th>\n",
       "      <td>Hotell, restaurang och turism</td>\n",
       "      <td>2007</td>\n",
       "      <td>664</td>\n",
       "    </tr>\n",
       "    <tr>\n",
       "      <th>...</th>\n",
       "      <td>...</td>\n",
       "      <td>...</td>\n",
       "      <td>...</td>\n",
       "    </tr>\n",
       "    <tr>\n",
       "      <th>267</th>\n",
       "      <td>Samhällsbyggnad och byggteknik</td>\n",
       "      <td>2023</td>\n",
       "      <td>3068</td>\n",
       "    </tr>\n",
       "    <tr>\n",
       "      <th>268</th>\n",
       "      <td>Säkerhetstjänster</td>\n",
       "      <td>2023</td>\n",
       "      <td>218</td>\n",
       "    </tr>\n",
       "    <tr>\n",
       "      <th>269</th>\n",
       "      <td>Teknik och tillverkning</td>\n",
       "      <td>2023</td>\n",
       "      <td>2561</td>\n",
       "    </tr>\n",
       "    <tr>\n",
       "      <th>270</th>\n",
       "      <td>Transporttjänster</td>\n",
       "      <td>2023</td>\n",
       "      <td>489</td>\n",
       "    </tr>\n",
       "    <tr>\n",
       "      <th>271</th>\n",
       "      <td>Övrigt</td>\n",
       "      <td>2023</td>\n",
       "      <td>147</td>\n",
       "    </tr>\n",
       "  </tbody>\n",
       "</table>\n",
       "<p>272 rows × 3 columns</p>\n",
       "</div>"
      ],
      "text/plain": [
       "                    utbildningens inriktning    År Examinerade\n",
       "0                                     Totalt  2007        7830\n",
       "1                                    Data/It  2007         427\n",
       "2    Ekonomi, administration och försäljning  2007        2074\n",
       "3                   Friskvård och kroppsvård  2007         202\n",
       "4              Hotell, restaurang och turism  2007         664\n",
       "..                                       ...   ...         ...\n",
       "267           Samhällsbyggnad och byggteknik  2023        3068\n",
       "268                        Säkerhetstjänster  2023         218\n",
       "269                  Teknik och tillverkning  2023        2561\n",
       "270                        Transporttjänster  2023         489\n",
       "271                                   Övrigt  2023         147\n",
       "\n",
       "[272 rows x 3 columns]"
      ]
     },
     "execution_count": 50,
     "metadata": {},
     "output_type": "execute_result"
    }
   ],
   "source": [
    "df_stud_long\n",
    "\n"
   ]
  },
  {
   "cell_type": "code",
   "execution_count": 51,
   "id": "74de79b0",
   "metadata": {},
   "outputs": [
    {
     "data": {
      "text/html": [
       "<div>\n",
       "<style scoped>\n",
       "    .dataframe tbody tr th:only-of-type {\n",
       "        vertical-align: middle;\n",
       "    }\n",
       "\n",
       "    .dataframe tbody tr th {\n",
       "        vertical-align: top;\n",
       "    }\n",
       "\n",
       "    .dataframe thead th {\n",
       "        text-align: right;\n",
       "    }\n",
       "</style>\n",
       "<table border=\"1\" class=\"dataframe\">\n",
       "  <thead>\n",
       "    <tr style=\"text-align: right;\">\n",
       "      <th></th>\n",
       "      <th>utbildningens inriktning</th>\n",
       "      <th>År</th>\n",
       "      <th>Examinerade</th>\n",
       "    </tr>\n",
       "  </thead>\n",
       "  <tbody>\n",
       "    <tr>\n",
       "      <th>0</th>\n",
       "      <td>Totalt</td>\n",
       "      <td>2007</td>\n",
       "      <td>7830</td>\n",
       "    </tr>\n",
       "    <tr>\n",
       "      <th>1</th>\n",
       "      <td>Data/It</td>\n",
       "      <td>2007</td>\n",
       "      <td>427</td>\n",
       "    </tr>\n",
       "    <tr>\n",
       "      <th>2</th>\n",
       "      <td>Ekonomi, administration och försäljning</td>\n",
       "      <td>2007</td>\n",
       "      <td>2074</td>\n",
       "    </tr>\n",
       "    <tr>\n",
       "      <th>3</th>\n",
       "      <td>Friskvård och kroppsvård</td>\n",
       "      <td>2007</td>\n",
       "      <td>202</td>\n",
       "    </tr>\n",
       "    <tr>\n",
       "      <th>4</th>\n",
       "      <td>Hotell, restaurang och turism</td>\n",
       "      <td>2007</td>\n",
       "      <td>664</td>\n",
       "    </tr>\n",
       "    <tr>\n",
       "      <th>...</th>\n",
       "      <td>...</td>\n",
       "      <td>...</td>\n",
       "      <td>...</td>\n",
       "    </tr>\n",
       "    <tr>\n",
       "      <th>267</th>\n",
       "      <td>Samhällsbyggnad och byggteknik</td>\n",
       "      <td>2023</td>\n",
       "      <td>3068</td>\n",
       "    </tr>\n",
       "    <tr>\n",
       "      <th>268</th>\n",
       "      <td>Säkerhetstjänster</td>\n",
       "      <td>2023</td>\n",
       "      <td>218</td>\n",
       "    </tr>\n",
       "    <tr>\n",
       "      <th>269</th>\n",
       "      <td>Teknik och tillverkning</td>\n",
       "      <td>2023</td>\n",
       "      <td>2561</td>\n",
       "    </tr>\n",
       "    <tr>\n",
       "      <th>270</th>\n",
       "      <td>Transporttjänster</td>\n",
       "      <td>2023</td>\n",
       "      <td>489</td>\n",
       "    </tr>\n",
       "    <tr>\n",
       "      <th>271</th>\n",
       "      <td>Övrigt</td>\n",
       "      <td>2023</td>\n",
       "      <td>147</td>\n",
       "    </tr>\n",
       "  </tbody>\n",
       "</table>\n",
       "<p>272 rows × 3 columns</p>\n",
       "</div>"
      ],
      "text/plain": [
       "                    utbildningens inriktning    År Examinerade\n",
       "0                                     Totalt  2007        7830\n",
       "1                                    Data/It  2007         427\n",
       "2    Ekonomi, administration och försäljning  2007        2074\n",
       "3                   Friskvård och kroppsvård  2007         202\n",
       "4              Hotell, restaurang och turism  2007         664\n",
       "..                                       ...   ...         ...\n",
       "267           Samhällsbyggnad och byggteknik  2023        3068\n",
       "268                        Säkerhetstjänster  2023         218\n",
       "269                  Teknik och tillverkning  2023        2561\n",
       "270                        Transporttjänster  2023         489\n",
       "271                                   Övrigt  2023         147\n",
       "\n",
       "[272 rows x 3 columns]"
      ]
     },
     "execution_count": 51,
     "metadata": {},
     "output_type": "execute_result"
    }
   ],
   "source": [
    "df_exam_long"
   ]
  },
  {
   "cell_type": "code",
   "execution_count": 54,
   "id": "6fdd3092",
   "metadata": {},
   "outputs": [],
   "source": [
    "# Merged into one df for easier plotting\n",
    "df_merged_stud_exa = pd.merge(\n",
    "    df_stud_long, df_exam_long, on=[\"utbildningens inriktning\", \"År\"], how=\"outer\"\n",
    ")"
   ]
  },
  {
   "cell_type": "code",
   "execution_count": 55,
   "id": "93996737",
   "metadata": {},
   "outputs": [
    {
     "name": "stdout",
     "output_type": "stream",
     "text": [
      "<class 'pandas.core.frame.DataFrame'>\n",
      "RangeIndex: 320 entries, 0 to 319\n",
      "Data columns (total 4 columns):\n",
      " #   Column                    Non-Null Count  Dtype \n",
      "---  ------                    --------------  ----- \n",
      " 0   utbildningens inriktning  320 non-null    object\n",
      " 1   År                        320 non-null    int64 \n",
      " 2   Studerande                320 non-null    object\n",
      " 3   Examinerade               272 non-null    object\n",
      "dtypes: int64(1), object(3)\n",
      "memory usage: 10.1+ KB\n"
     ]
    }
   ],
   "source": [
    "df_merged_stud_exa.info()"
   ]
  },
  {
   "cell_type": "code",
   "execution_count": 70,
   "id": "936b04cd",
   "metadata": {},
   "outputs": [],
   "source": [
    "# Needed to convert the columns to numeric so new column can be created for percentages of examination.\n",
    "df_merged_stud_exa[\"Studerande\"] = pd.to_numeric(df_merged_stud_exa[\"Studerande\"], errors=\"coerce\")\n",
    "df_merged_stud_exa[\"Examinerade\"] = pd.to_numeric(df_merged_stud_exa[\"Examinerade\"], errors=\"coerce\")\n",
    "\n",
    "df_merged_stud_exa.fillna(0, inplace=True)  # Inplace, modifies the original df\n",
    "\n",
    "df_merged_stud_exa[\"Andel examinerade\"] = (df_merged_stud_exa[\"Examinerade\"] / df_merged_stud_exa[\"Studerande\"] * 100).round(1) # first decimal only. "
   ]
  },
  {
   "cell_type": "code",
   "execution_count": 69,
   "id": "5620895b",
   "metadata": {},
   "outputs": [
    {
     "data": {
      "text/html": [
       "<div>\n",
       "<style scoped>\n",
       "    .dataframe tbody tr th:only-of-type {\n",
       "        vertical-align: middle;\n",
       "    }\n",
       "\n",
       "    .dataframe tbody tr th {\n",
       "        vertical-align: top;\n",
       "    }\n",
       "\n",
       "    .dataframe thead th {\n",
       "        text-align: right;\n",
       "    }\n",
       "</style>\n",
       "<table border=\"1\" class=\"dataframe\">\n",
       "  <thead>\n",
       "    <tr style=\"text-align: right;\">\n",
       "      <th></th>\n",
       "      <th>utbildningens inriktning</th>\n",
       "      <th>År</th>\n",
       "      <th>Studerande</th>\n",
       "      <th>Examinerade</th>\n",
       "      <th>Andel examinerade</th>\n",
       "    </tr>\n",
       "  </thead>\n",
       "  <tbody>\n",
       "    <tr>\n",
       "      <th>0</th>\n",
       "      <td>Data/It</td>\n",
       "      <td>2005</td>\n",
       "      <td>2587.0</td>\n",
       "      <td>0.0</td>\n",
       "      <td>0.0</td>\n",
       "    </tr>\n",
       "    <tr>\n",
       "      <th>1</th>\n",
       "      <td>Data/It</td>\n",
       "      <td>2006</td>\n",
       "      <td>2546.0</td>\n",
       "      <td>0.0</td>\n",
       "      <td>0.0</td>\n",
       "    </tr>\n",
       "    <tr>\n",
       "      <th>2</th>\n",
       "      <td>Data/It</td>\n",
       "      <td>2007</td>\n",
       "      <td>2797.0</td>\n",
       "      <td>427.0</td>\n",
       "      <td>15.3</td>\n",
       "    </tr>\n",
       "    <tr>\n",
       "      <th>3</th>\n",
       "      <td>Data/It</td>\n",
       "      <td>2008</td>\n",
       "      <td>2817.0</td>\n",
       "      <td>413.0</td>\n",
       "      <td>14.7</td>\n",
       "    </tr>\n",
       "    <tr>\n",
       "      <th>4</th>\n",
       "      <td>Data/It</td>\n",
       "      <td>2009</td>\n",
       "      <td>2857.0</td>\n",
       "      <td>515.0</td>\n",
       "      <td>18.0</td>\n",
       "    </tr>\n",
       "    <tr>\n",
       "      <th>...</th>\n",
       "      <td>...</td>\n",
       "      <td>...</td>\n",
       "      <td>...</td>\n",
       "      <td>...</td>\n",
       "      <td>...</td>\n",
       "    </tr>\n",
       "    <tr>\n",
       "      <th>315</th>\n",
       "      <td>Övrigt</td>\n",
       "      <td>2020</td>\n",
       "      <td>426.0</td>\n",
       "      <td>81.0</td>\n",
       "      <td>19.0</td>\n",
       "    </tr>\n",
       "    <tr>\n",
       "      <th>316</th>\n",
       "      <td>Övrigt</td>\n",
       "      <td>2021</td>\n",
       "      <td>477.0</td>\n",
       "      <td>68.0</td>\n",
       "      <td>14.3</td>\n",
       "    </tr>\n",
       "    <tr>\n",
       "      <th>317</th>\n",
       "      <td>Övrigt</td>\n",
       "      <td>2022</td>\n",
       "      <td>515.0</td>\n",
       "      <td>117.0</td>\n",
       "      <td>22.7</td>\n",
       "    </tr>\n",
       "    <tr>\n",
       "      <th>318</th>\n",
       "      <td>Övrigt</td>\n",
       "      <td>2023</td>\n",
       "      <td>433.0</td>\n",
       "      <td>147.0</td>\n",
       "      <td>33.9</td>\n",
       "    </tr>\n",
       "    <tr>\n",
       "      <th>319</th>\n",
       "      <td>Övrigt</td>\n",
       "      <td>2024</td>\n",
       "      <td>371.0</td>\n",
       "      <td>0.0</td>\n",
       "      <td>0.0</td>\n",
       "    </tr>\n",
       "  </tbody>\n",
       "</table>\n",
       "<p>320 rows × 5 columns</p>\n",
       "</div>"
      ],
      "text/plain": [
       "    utbildningens inriktning    År  Studerande  Examinerade  Andel examinerade\n",
       "0                    Data/It  2005      2587.0          0.0                0.0\n",
       "1                    Data/It  2006      2546.0          0.0                0.0\n",
       "2                    Data/It  2007      2797.0        427.0               15.3\n",
       "3                    Data/It  2008      2817.0        413.0               14.7\n",
       "4                    Data/It  2009      2857.0        515.0               18.0\n",
       "..                       ...   ...         ...          ...                ...\n",
       "315                   Övrigt  2020       426.0         81.0               19.0\n",
       "316                   Övrigt  2021       477.0         68.0               14.3\n",
       "317                   Övrigt  2022       515.0        117.0               22.7\n",
       "318                   Övrigt  2023       433.0        147.0               33.9\n",
       "319                   Övrigt  2024       371.0          0.0                0.0\n",
       "\n",
       "[320 rows x 5 columns]"
      ]
     },
     "execution_count": 69,
     "metadata": {},
     "output_type": "execute_result"
    }
   ],
   "source": [
    "df_merged_stud_exa"
   ]
  },
  {
   "cell_type": "code",
   "execution_count": 71,
   "id": "bef239f3",
   "metadata": {},
   "outputs": [
    {
     "name": "stdout",
     "output_type": "stream",
     "text": [
      "<class 'pandas.core.frame.DataFrame'>\n",
      "RangeIndex: 320 entries, 0 to 319\n",
      "Data columns (total 5 columns):\n",
      " #   Column                    Non-Null Count  Dtype  \n",
      "---  ------                    --------------  -----  \n",
      " 0   utbildningens inriktning  320 non-null    object \n",
      " 1   År                        320 non-null    int64  \n",
      " 2   Studerande                320 non-null    float64\n",
      " 3   Examinerade               320 non-null    float64\n",
      " 4   Andel examinerade         316 non-null    float64\n",
      "dtypes: float64(3), int64(1), object(1)\n",
      "memory usage: 12.6+ KB\n"
     ]
    }
   ],
   "source": [
    "df_merged_stud_exa.info()"
   ]
  },
  {
   "cell_type": "code",
   "execution_count": 77,
   "id": "8ea139a8",
   "metadata": {},
   "outputs": [],
   "source": [
    "df_merged_stud_exa.to_csv(\"../../data/merged_tot_exa_stud.csv\", index=False) # Add so it does not save index."
   ]
  },
  {
   "cell_type": "code",
   "execution_count": null,
   "id": "c488c541",
   "metadata": {},
   "outputs": [
    {
     "data": {
      "text/html": [
       "<div>\n",
       "<style scoped>\n",
       "    .dataframe tbody tr th:only-of-type {\n",
       "        vertical-align: middle;\n",
       "    }\n",
       "\n",
       "    .dataframe tbody tr th {\n",
       "        vertical-align: top;\n",
       "    }\n",
       "\n",
       "    .dataframe thead th {\n",
       "        text-align: right;\n",
       "    }\n",
       "</style>\n",
       "<table border=\"1\" class=\"dataframe\">\n",
       "  <thead>\n",
       "    <tr style=\"text-align: right;\">\n",
       "      <th></th>\n",
       "      <th>utbildningens inriktning</th>\n",
       "      <th>År</th>\n",
       "      <th>Studerande</th>\n",
       "      <th>Examinerade</th>\n",
       "      <th>Andel examinerade</th>\n",
       "    </tr>\n",
       "  </thead>\n",
       "  <tbody>\n",
       "    <tr>\n",
       "      <th>0</th>\n",
       "      <td>Data/It</td>\n",
       "      <td>2005</td>\n",
       "      <td>2587.0</td>\n",
       "      <td>0.0</td>\n",
       "      <td>0.0</td>\n",
       "    </tr>\n",
       "    <tr>\n",
       "      <th>1</th>\n",
       "      <td>Data/It</td>\n",
       "      <td>2006</td>\n",
       "      <td>2546.0</td>\n",
       "      <td>0.0</td>\n",
       "      <td>0.0</td>\n",
       "    </tr>\n",
       "    <tr>\n",
       "      <th>2</th>\n",
       "      <td>Data/It</td>\n",
       "      <td>2007</td>\n",
       "      <td>2797.0</td>\n",
       "      <td>427.0</td>\n",
       "      <td>15.3</td>\n",
       "    </tr>\n",
       "    <tr>\n",
       "      <th>3</th>\n",
       "      <td>Data/It</td>\n",
       "      <td>2008</td>\n",
       "      <td>2817.0</td>\n",
       "      <td>413.0</td>\n",
       "      <td>14.7</td>\n",
       "    </tr>\n",
       "    <tr>\n",
       "      <th>4</th>\n",
       "      <td>Data/It</td>\n",
       "      <td>2009</td>\n",
       "      <td>2857.0</td>\n",
       "      <td>515.0</td>\n",
       "      <td>18.0</td>\n",
       "    </tr>\n",
       "    <tr>\n",
       "      <th>...</th>\n",
       "      <td>...</td>\n",
       "      <td>...</td>\n",
       "      <td>...</td>\n",
       "      <td>...</td>\n",
       "      <td>...</td>\n",
       "    </tr>\n",
       "    <tr>\n",
       "      <th>315</th>\n",
       "      <td>Övrigt</td>\n",
       "      <td>2020</td>\n",
       "      <td>426.0</td>\n",
       "      <td>81.0</td>\n",
       "      <td>19.0</td>\n",
       "    </tr>\n",
       "    <tr>\n",
       "      <th>316</th>\n",
       "      <td>Övrigt</td>\n",
       "      <td>2021</td>\n",
       "      <td>477.0</td>\n",
       "      <td>68.0</td>\n",
       "      <td>14.3</td>\n",
       "    </tr>\n",
       "    <tr>\n",
       "      <th>317</th>\n",
       "      <td>Övrigt</td>\n",
       "      <td>2022</td>\n",
       "      <td>515.0</td>\n",
       "      <td>117.0</td>\n",
       "      <td>22.7</td>\n",
       "    </tr>\n",
       "    <tr>\n",
       "      <th>318</th>\n",
       "      <td>Övrigt</td>\n",
       "      <td>2023</td>\n",
       "      <td>433.0</td>\n",
       "      <td>147.0</td>\n",
       "      <td>33.9</td>\n",
       "    </tr>\n",
       "    <tr>\n",
       "      <th>319</th>\n",
       "      <td>Övrigt</td>\n",
       "      <td>2024</td>\n",
       "      <td>371.0</td>\n",
       "      <td>0.0</td>\n",
       "      <td>0.0</td>\n",
       "    </tr>\n",
       "  </tbody>\n",
       "</table>\n",
       "<p>320 rows × 5 columns</p>\n",
       "</div>"
      ],
      "text/plain": [
       "    utbildningens inriktning    År  Studerande  Examinerade  Andel examinerade\n",
       "0                    Data/It  2005      2587.0          0.0                0.0\n",
       "1                    Data/It  2006      2546.0          0.0                0.0\n",
       "2                    Data/It  2007      2797.0        427.0               15.3\n",
       "3                    Data/It  2008      2817.0        413.0               14.7\n",
       "4                    Data/It  2009      2857.0        515.0               18.0\n",
       "..                       ...   ...         ...          ...                ...\n",
       "315                   Övrigt  2020       426.0         81.0               19.0\n",
       "316                   Övrigt  2021       477.0         68.0               14.3\n",
       "317                   Övrigt  2022       515.0        117.0               22.7\n",
       "318                   Övrigt  2023       433.0        147.0               33.9\n",
       "319                   Övrigt  2024       371.0          0.0                0.0\n",
       "\n",
       "[320 rows x 5 columns]"
      ]
     },
     "execution_count": 76,
     "metadata": {},
     "output_type": "execute_result"
    }
   ],
   "source": [
    "# #! Data not correct from SCB\n",
    "\n",
    "df_test = pd.read_csv(\"../../data/merged_tot_exa_stud.csv\")\n",
    "\n",
    "df_test"
   ]
  },
  {
   "cell_type": "code",
   "execution_count": 92,
   "id": "f28ceb71",
   "metadata": {},
   "outputs": [
    {
     "data": {
      "application/vnd.plotly.v1+json": {
       "config": {
        "plotlyServerURL": "https://plot.ly"
       },
       "data": [
        {
         "hovertemplate": "Inriktning=%{x}<br>Andel=%{y}<extra></extra>",
         "legendgroup": "",
         "marker": {
          "color": "#636efa",
          "pattern": {
           "shape": ""
          }
         },
         "name": "",
         "orientation": "v",
         "showlegend": false,
         "textposition": "auto",
         "type": "bar",
         "x": [
          "Data/It",
          "Ekonomi, administration och försäljning",
          "Friskvård och kroppsvård",
          "Hotell, restaurang och turism",
          "Hälso- och sjukvård samt socialt arbete",
          "Journalistik och information",
          "Juridik",
          "Kultur, media och design",
          "Lantbruk, djurvård, trädgård, skog och fiske",
          "Pedagogik och undervisning",
          "Samhällsbyggnad och byggteknik",
          "Säkerhetstjänster",
          "Teknik och tillverkning",
          "Totalt",
          "Transporttjänster",
          "Övrigt"
         ],
         "xaxis": "x",
         "y": {
          "bdata": "mpmZmZmZLkAAAAAAAIA3QGZmZmZm5jZAzczMzMzMNkAAAAAAAIA9QGZmZmZmZipAMzMzMzMzMUAAAAAAAAA3QGZmZmZm5j1AAAAAAAAAHEBmZmZmZuY1QJqZmZmZGTNAAAAAAAAANkAzMzMzMzM3QDMzMzMzMzhAAAAAAAAA+H8=",
          "dtype": "f8"
         },
         "yaxis": "y"
        }
       ],
       "layout": {
        "barmode": "relative",
        "legend": {
         "tracegroupgap": 0
        },
        "template": {
         "data": {
          "bar": [
           {
            "error_x": {
             "color": "#2a3f5f"
            },
            "error_y": {
             "color": "#2a3f5f"
            },
            "marker": {
             "line": {
              "color": "#E5ECF6",
              "width": 0.5
             },
             "pattern": {
              "fillmode": "overlay",
              "size": 10,
              "solidity": 0.2
             }
            },
            "type": "bar"
           }
          ],
          "barpolar": [
           {
            "marker": {
             "line": {
              "color": "#E5ECF6",
              "width": 0.5
             },
             "pattern": {
              "fillmode": "overlay",
              "size": 10,
              "solidity": 0.2
             }
            },
            "type": "barpolar"
           }
          ],
          "carpet": [
           {
            "aaxis": {
             "endlinecolor": "#2a3f5f",
             "gridcolor": "white",
             "linecolor": "white",
             "minorgridcolor": "white",
             "startlinecolor": "#2a3f5f"
            },
            "baxis": {
             "endlinecolor": "#2a3f5f",
             "gridcolor": "white",
             "linecolor": "white",
             "minorgridcolor": "white",
             "startlinecolor": "#2a3f5f"
            },
            "type": "carpet"
           }
          ],
          "choropleth": [
           {
            "colorbar": {
             "outlinewidth": 0,
             "ticks": ""
            },
            "type": "choropleth"
           }
          ],
          "contour": [
           {
            "colorbar": {
             "outlinewidth": 0,
             "ticks": ""
            },
            "colorscale": [
             [
              0,
              "#0d0887"
             ],
             [
              0.1111111111111111,
              "#46039f"
             ],
             [
              0.2222222222222222,
              "#7201a8"
             ],
             [
              0.3333333333333333,
              "#9c179e"
             ],
             [
              0.4444444444444444,
              "#bd3786"
             ],
             [
              0.5555555555555556,
              "#d8576b"
             ],
             [
              0.6666666666666666,
              "#ed7953"
             ],
             [
              0.7777777777777778,
              "#fb9f3a"
             ],
             [
              0.8888888888888888,
              "#fdca26"
             ],
             [
              1,
              "#f0f921"
             ]
            ],
            "type": "contour"
           }
          ],
          "contourcarpet": [
           {
            "colorbar": {
             "outlinewidth": 0,
             "ticks": ""
            },
            "type": "contourcarpet"
           }
          ],
          "heatmap": [
           {
            "colorbar": {
             "outlinewidth": 0,
             "ticks": ""
            },
            "colorscale": [
             [
              0,
              "#0d0887"
             ],
             [
              0.1111111111111111,
              "#46039f"
             ],
             [
              0.2222222222222222,
              "#7201a8"
             ],
             [
              0.3333333333333333,
              "#9c179e"
             ],
             [
              0.4444444444444444,
              "#bd3786"
             ],
             [
              0.5555555555555556,
              "#d8576b"
             ],
             [
              0.6666666666666666,
              "#ed7953"
             ],
             [
              0.7777777777777778,
              "#fb9f3a"
             ],
             [
              0.8888888888888888,
              "#fdca26"
             ],
             [
              1,
              "#f0f921"
             ]
            ],
            "type": "heatmap"
           }
          ],
          "histogram": [
           {
            "marker": {
             "pattern": {
              "fillmode": "overlay",
              "size": 10,
              "solidity": 0.2
             }
            },
            "type": "histogram"
           }
          ],
          "histogram2d": [
           {
            "colorbar": {
             "outlinewidth": 0,
             "ticks": ""
            },
            "colorscale": [
             [
              0,
              "#0d0887"
             ],
             [
              0.1111111111111111,
              "#46039f"
             ],
             [
              0.2222222222222222,
              "#7201a8"
             ],
             [
              0.3333333333333333,
              "#9c179e"
             ],
             [
              0.4444444444444444,
              "#bd3786"
             ],
             [
              0.5555555555555556,
              "#d8576b"
             ],
             [
              0.6666666666666666,
              "#ed7953"
             ],
             [
              0.7777777777777778,
              "#fb9f3a"
             ],
             [
              0.8888888888888888,
              "#fdca26"
             ],
             [
              1,
              "#f0f921"
             ]
            ],
            "type": "histogram2d"
           }
          ],
          "histogram2dcontour": [
           {
            "colorbar": {
             "outlinewidth": 0,
             "ticks": ""
            },
            "colorscale": [
             [
              0,
              "#0d0887"
             ],
             [
              0.1111111111111111,
              "#46039f"
             ],
             [
              0.2222222222222222,
              "#7201a8"
             ],
             [
              0.3333333333333333,
              "#9c179e"
             ],
             [
              0.4444444444444444,
              "#bd3786"
             ],
             [
              0.5555555555555556,
              "#d8576b"
             ],
             [
              0.6666666666666666,
              "#ed7953"
             ],
             [
              0.7777777777777778,
              "#fb9f3a"
             ],
             [
              0.8888888888888888,
              "#fdca26"
             ],
             [
              1,
              "#f0f921"
             ]
            ],
            "type": "histogram2dcontour"
           }
          ],
          "mesh3d": [
           {
            "colorbar": {
             "outlinewidth": 0,
             "ticks": ""
            },
            "type": "mesh3d"
           }
          ],
          "parcoords": [
           {
            "line": {
             "colorbar": {
              "outlinewidth": 0,
              "ticks": ""
             }
            },
            "type": "parcoords"
           }
          ],
          "pie": [
           {
            "automargin": true,
            "type": "pie"
           }
          ],
          "scatter": [
           {
            "fillpattern": {
             "fillmode": "overlay",
             "size": 10,
             "solidity": 0.2
            },
            "type": "scatter"
           }
          ],
          "scatter3d": [
           {
            "line": {
             "colorbar": {
              "outlinewidth": 0,
              "ticks": ""
             }
            },
            "marker": {
             "colorbar": {
              "outlinewidth": 0,
              "ticks": ""
             }
            },
            "type": "scatter3d"
           }
          ],
          "scattercarpet": [
           {
            "marker": {
             "colorbar": {
              "outlinewidth": 0,
              "ticks": ""
             }
            },
            "type": "scattercarpet"
           }
          ],
          "scattergeo": [
           {
            "marker": {
             "colorbar": {
              "outlinewidth": 0,
              "ticks": ""
             }
            },
            "type": "scattergeo"
           }
          ],
          "scattergl": [
           {
            "marker": {
             "colorbar": {
              "outlinewidth": 0,
              "ticks": ""
             }
            },
            "type": "scattergl"
           }
          ],
          "scattermap": [
           {
            "marker": {
             "colorbar": {
              "outlinewidth": 0,
              "ticks": ""
             }
            },
            "type": "scattermap"
           }
          ],
          "scattermapbox": [
           {
            "marker": {
             "colorbar": {
              "outlinewidth": 0,
              "ticks": ""
             }
            },
            "type": "scattermapbox"
           }
          ],
          "scatterpolar": [
           {
            "marker": {
             "colorbar": {
              "outlinewidth": 0,
              "ticks": ""
             }
            },
            "type": "scatterpolar"
           }
          ],
          "scatterpolargl": [
           {
            "marker": {
             "colorbar": {
              "outlinewidth": 0,
              "ticks": ""
             }
            },
            "type": "scatterpolargl"
           }
          ],
          "scatterternary": [
           {
            "marker": {
             "colorbar": {
              "outlinewidth": 0,
              "ticks": ""
             }
            },
            "type": "scatterternary"
           }
          ],
          "surface": [
           {
            "colorbar": {
             "outlinewidth": 0,
             "ticks": ""
            },
            "colorscale": [
             [
              0,
              "#0d0887"
             ],
             [
              0.1111111111111111,
              "#46039f"
             ],
             [
              0.2222222222222222,
              "#7201a8"
             ],
             [
              0.3333333333333333,
              "#9c179e"
             ],
             [
              0.4444444444444444,
              "#bd3786"
             ],
             [
              0.5555555555555556,
              "#d8576b"
             ],
             [
              0.6666666666666666,
              "#ed7953"
             ],
             [
              0.7777777777777778,
              "#fb9f3a"
             ],
             [
              0.8888888888888888,
              "#fdca26"
             ],
             [
              1,
              "#f0f921"
             ]
            ],
            "type": "surface"
           }
          ],
          "table": [
           {
            "cells": {
             "fill": {
              "color": "#EBF0F8"
             },
             "line": {
              "color": "white"
             }
            },
            "header": {
             "fill": {
              "color": "#C8D4E3"
             },
             "line": {
              "color": "white"
             }
            },
            "type": "table"
           }
          ]
         },
         "layout": {
          "annotationdefaults": {
           "arrowcolor": "#2a3f5f",
           "arrowhead": 0,
           "arrowwidth": 1
          },
          "autotypenumbers": "strict",
          "coloraxis": {
           "colorbar": {
            "outlinewidth": 0,
            "ticks": ""
           }
          },
          "colorscale": {
           "diverging": [
            [
             0,
             "#8e0152"
            ],
            [
             0.1,
             "#c51b7d"
            ],
            [
             0.2,
             "#de77ae"
            ],
            [
             0.3,
             "#f1b6da"
            ],
            [
             0.4,
             "#fde0ef"
            ],
            [
             0.5,
             "#f7f7f7"
            ],
            [
             0.6,
             "#e6f5d0"
            ],
            [
             0.7,
             "#b8e186"
            ],
            [
             0.8,
             "#7fbc41"
            ],
            [
             0.9,
             "#4d9221"
            ],
            [
             1,
             "#276419"
            ]
           ],
           "sequential": [
            [
             0,
             "#0d0887"
            ],
            [
             0.1111111111111111,
             "#46039f"
            ],
            [
             0.2222222222222222,
             "#7201a8"
            ],
            [
             0.3333333333333333,
             "#9c179e"
            ],
            [
             0.4444444444444444,
             "#bd3786"
            ],
            [
             0.5555555555555556,
             "#d8576b"
            ],
            [
             0.6666666666666666,
             "#ed7953"
            ],
            [
             0.7777777777777778,
             "#fb9f3a"
            ],
            [
             0.8888888888888888,
             "#fdca26"
            ],
            [
             1,
             "#f0f921"
            ]
           ],
           "sequentialminus": [
            [
             0,
             "#0d0887"
            ],
            [
             0.1111111111111111,
             "#46039f"
            ],
            [
             0.2222222222222222,
             "#7201a8"
            ],
            [
             0.3333333333333333,
             "#9c179e"
            ],
            [
             0.4444444444444444,
             "#bd3786"
            ],
            [
             0.5555555555555556,
             "#d8576b"
            ],
            [
             0.6666666666666666,
             "#ed7953"
            ],
            [
             0.7777777777777778,
             "#fb9f3a"
            ],
            [
             0.8888888888888888,
             "#fdca26"
            ],
            [
             1,
             "#f0f921"
            ]
           ]
          },
          "colorway": [
           "#636efa",
           "#EF553B",
           "#00cc96",
           "#ab63fa",
           "#FFA15A",
           "#19d3f3",
           "#FF6692",
           "#B6E880",
           "#FF97FF",
           "#FECB52"
          ],
          "font": {
           "color": "#2a3f5f"
          },
          "geo": {
           "bgcolor": "white",
           "lakecolor": "white",
           "landcolor": "#E5ECF6",
           "showlakes": true,
           "showland": true,
           "subunitcolor": "white"
          },
          "hoverlabel": {
           "align": "left"
          },
          "hovermode": "closest",
          "mapbox": {
           "style": "light"
          },
          "paper_bgcolor": "white",
          "plot_bgcolor": "#E5ECF6",
          "polar": {
           "angularaxis": {
            "gridcolor": "white",
            "linecolor": "white",
            "ticks": ""
           },
           "bgcolor": "#E5ECF6",
           "radialaxis": {
            "gridcolor": "white",
            "linecolor": "white",
            "ticks": ""
           }
          },
          "scene": {
           "xaxis": {
            "backgroundcolor": "#E5ECF6",
            "gridcolor": "white",
            "gridwidth": 2,
            "linecolor": "white",
            "showbackground": true,
            "ticks": "",
            "zerolinecolor": "white"
           },
           "yaxis": {
            "backgroundcolor": "#E5ECF6",
            "gridcolor": "white",
            "gridwidth": 2,
            "linecolor": "white",
            "showbackground": true,
            "ticks": "",
            "zerolinecolor": "white"
           },
           "zaxis": {
            "backgroundcolor": "#E5ECF6",
            "gridcolor": "white",
            "gridwidth": 2,
            "linecolor": "white",
            "showbackground": true,
            "ticks": "",
            "zerolinecolor": "white"
           }
          },
          "shapedefaults": {
           "line": {
            "color": "#2a3f5f"
           }
          },
          "ternary": {
           "aaxis": {
            "gridcolor": "white",
            "linecolor": "white",
            "ticks": ""
           },
           "baxis": {
            "gridcolor": "white",
            "linecolor": "white",
            "ticks": ""
           },
           "bgcolor": "#E5ECF6",
           "caxis": {
            "gridcolor": "white",
            "linecolor": "white",
            "ticks": ""
           }
          },
          "title": {
           "x": 0.05
          },
          "xaxis": {
           "automargin": true,
           "gridcolor": "white",
           "linecolor": "white",
           "ticks": "",
           "title": {
            "standoff": 15
           },
           "zerolinecolor": "white",
           "zerolinewidth": 2
          },
          "yaxis": {
           "automargin": true,
           "gridcolor": "white",
           "linecolor": "white",
           "ticks": "",
           "title": {
            "standoff": 15
           },
           "zerolinecolor": "white",
           "zerolinewidth": 2
          }
         }
        },
        "title": {
         "text": "Andel examinerade per utbildningsinriktning – 2007"
        },
        "xaxis": {
         "anchor": "y",
         "domain": [
          0,
          1
         ],
         "tickangle": 45,
         "title": {
          "text": "Inriktning"
         }
        },
        "yaxis": {
         "anchor": "x",
         "domain": [
          0,
          1
         ],
         "title": {
          "text": "Andel"
         }
        }
       }
      }
     },
     "metadata": {},
     "output_type": "display_data"
    }
   ],
   "source": [
    "# #! Data not correct\n",
    "\n",
    "def stud_exa_year_bar(df, year): \n",
    "    fig = px.bar(\n",
    "    df[df[\"År\"] == year],\n",
    "    x=\"utbildningens inriktning\",\n",
    "    y=\"Andel examinerade\",\n",
    "    title=f\"Andel examinerade per utbildningsinriktning – {year}\",\n",
    "    labels={\"utbildningens inriktning\": \"Inriktning\", \"Andel examinerade\": \"Andel\"},\n",
    "\n",
    ")\n",
    "    fig.update_layout(xaxis_tickangle=45)\n",
    "    return fig\n",
    "\n",
    "stud_exa_year_bar(df_test, 2007)"
   ]
  },
  {
   "cell_type": "code",
   "execution_count": null,
   "id": "19ef9000",
   "metadata": {},
   "outputs": [
    {
     "data": {
      "application/vnd.plotly.v1+json": {
       "config": {
        "plotlyServerURL": "https://plot.ly"
       },
       "data": [
        {
         "hovertemplate": "Typ=Studerande<br>Inriktning=%{x}<br>Antal=%{y}<extra></extra>",
         "legendgroup": "Studerande",
         "marker": {
          "color": "#636efa",
          "pattern": {
           "shape": ""
          }
         },
         "name": "Studerande",
         "orientation": "v",
         "showlegend": true,
         "textposition": "auto",
         "type": "bar",
         "x": [
          "Data/It",
          "Ekonomi, administration och försäljning",
          "Friskvård och kroppsvård",
          "Hotell, restaurang och turism",
          "Hälso- och sjukvård samt socialt arbete",
          "Journalistik och information",
          "Juridik",
          "Kultur, media och design",
          "Lantbruk, djurvård, trädgård, skog och fiske",
          "Pedagogik och undervisning",
          "Samhällsbyggnad och byggteknik",
          "Säkerhetstjänster",
          "Teknik och tillverkning",
          "Transporttjänster",
          "Övrigt"
         ],
         "xaxis": "x",
         "y": {
          "bdata": "AAAAAACdzUAAAAAAgPLQQAAAAAAAwHxAAAAAAACCpUAAAAAAgHTIQAAAAAAAgIdAAAAAAACgdUAAAAAAAGmxQAAAAAAAVqBAAAAAAACYl0AAAAAAgIjIQAAAAAAACIpAAAAAAIDexkAAAAAAAEiZQAAAAAAAEHtA",
          "dtype": "f8"
         },
         "yaxis": "y"
        },
        {
         "hovertemplate": "Typ=Examinerade<br>Inriktning=%{x}<br>Antal=%{y}<extra></extra>",
         "legendgroup": "Examinerade",
         "marker": {
          "color": "#EF553B",
          "pattern": {
           "shape": ""
          }
         },
         "name": "Examinerade",
         "orientation": "v",
         "showlegend": true,
         "textposition": "auto",
         "type": "bar",
         "x": [
          "Data/It",
          "Ekonomi, administration och försäljning",
          "Friskvård och kroppsvård",
          "Hotell, restaurang och turism",
          "Hälso- och sjukvård samt socialt arbete",
          "Journalistik och information",
          "Juridik",
          "Kultur, media och design",
          "Lantbruk, djurvård, trädgård, skog och fiske",
          "Pedagogik och undervisning",
          "Samhällsbyggnad och byggteknik",
          "Säkerhetstjänster",
          "Teknik och tillverkning",
          "Transporttjänster",
          "Övrigt"
         ],
         "xaxis": "x",
         "y": {
          "bdata": "AAAAAABeqUAAAAAAAECzQAAAAAAA4GRAAAAAAACgiEAAAAAAAMSuQAAAAAAAsHBAAAAAAABAWkAAAAAAAMSSQAAAAAAAgIFAAAAAAABgg0AAAAAAAPinQAAAAAAAQGtAAAAAAAACpEAAAAAAAJB+QAAAAAAAYGJA",
          "dtype": "f8"
         },
         "yaxis": "y"
        }
       ],
       "layout": {
        "barmode": "stack",
        "legend": {
         "title": {
          "text": "Typ"
         },
         "tracegroupgap": 0
        },
        "template": {
         "data": {
          "bar": [
           {
            "error_x": {
             "color": "#2a3f5f"
            },
            "error_y": {
             "color": "#2a3f5f"
            },
            "marker": {
             "line": {
              "color": "#E5ECF6",
              "width": 0.5
             },
             "pattern": {
              "fillmode": "overlay",
              "size": 10,
              "solidity": 0.2
             }
            },
            "type": "bar"
           }
          ],
          "barpolar": [
           {
            "marker": {
             "line": {
              "color": "#E5ECF6",
              "width": 0.5
             },
             "pattern": {
              "fillmode": "overlay",
              "size": 10,
              "solidity": 0.2
             }
            },
            "type": "barpolar"
           }
          ],
          "carpet": [
           {
            "aaxis": {
             "endlinecolor": "#2a3f5f",
             "gridcolor": "white",
             "linecolor": "white",
             "minorgridcolor": "white",
             "startlinecolor": "#2a3f5f"
            },
            "baxis": {
             "endlinecolor": "#2a3f5f",
             "gridcolor": "white",
             "linecolor": "white",
             "minorgridcolor": "white",
             "startlinecolor": "#2a3f5f"
            },
            "type": "carpet"
           }
          ],
          "choropleth": [
           {
            "colorbar": {
             "outlinewidth": 0,
             "ticks": ""
            },
            "type": "choropleth"
           }
          ],
          "contour": [
           {
            "colorbar": {
             "outlinewidth": 0,
             "ticks": ""
            },
            "colorscale": [
             [
              0,
              "#0d0887"
             ],
             [
              0.1111111111111111,
              "#46039f"
             ],
             [
              0.2222222222222222,
              "#7201a8"
             ],
             [
              0.3333333333333333,
              "#9c179e"
             ],
             [
              0.4444444444444444,
              "#bd3786"
             ],
             [
              0.5555555555555556,
              "#d8576b"
             ],
             [
              0.6666666666666666,
              "#ed7953"
             ],
             [
              0.7777777777777778,
              "#fb9f3a"
             ],
             [
              0.8888888888888888,
              "#fdca26"
             ],
             [
              1,
              "#f0f921"
             ]
            ],
            "type": "contour"
           }
          ],
          "contourcarpet": [
           {
            "colorbar": {
             "outlinewidth": 0,
             "ticks": ""
            },
            "type": "contourcarpet"
           }
          ],
          "heatmap": [
           {
            "colorbar": {
             "outlinewidth": 0,
             "ticks": ""
            },
            "colorscale": [
             [
              0,
              "#0d0887"
             ],
             [
              0.1111111111111111,
              "#46039f"
             ],
             [
              0.2222222222222222,
              "#7201a8"
             ],
             [
              0.3333333333333333,
              "#9c179e"
             ],
             [
              0.4444444444444444,
              "#bd3786"
             ],
             [
              0.5555555555555556,
              "#d8576b"
             ],
             [
              0.6666666666666666,
              "#ed7953"
             ],
             [
              0.7777777777777778,
              "#fb9f3a"
             ],
             [
              0.8888888888888888,
              "#fdca26"
             ],
             [
              1,
              "#f0f921"
             ]
            ],
            "type": "heatmap"
           }
          ],
          "histogram": [
           {
            "marker": {
             "pattern": {
              "fillmode": "overlay",
              "size": 10,
              "solidity": 0.2
             }
            },
            "type": "histogram"
           }
          ],
          "histogram2d": [
           {
            "colorbar": {
             "outlinewidth": 0,
             "ticks": ""
            },
            "colorscale": [
             [
              0,
              "#0d0887"
             ],
             [
              0.1111111111111111,
              "#46039f"
             ],
             [
              0.2222222222222222,
              "#7201a8"
             ],
             [
              0.3333333333333333,
              "#9c179e"
             ],
             [
              0.4444444444444444,
              "#bd3786"
             ],
             [
              0.5555555555555556,
              "#d8576b"
             ],
             [
              0.6666666666666666,
              "#ed7953"
             ],
             [
              0.7777777777777778,
              "#fb9f3a"
             ],
             [
              0.8888888888888888,
              "#fdca26"
             ],
             [
              1,
              "#f0f921"
             ]
            ],
            "type": "histogram2d"
           }
          ],
          "histogram2dcontour": [
           {
            "colorbar": {
             "outlinewidth": 0,
             "ticks": ""
            },
            "colorscale": [
             [
              0,
              "#0d0887"
             ],
             [
              0.1111111111111111,
              "#46039f"
             ],
             [
              0.2222222222222222,
              "#7201a8"
             ],
             [
              0.3333333333333333,
              "#9c179e"
             ],
             [
              0.4444444444444444,
              "#bd3786"
             ],
             [
              0.5555555555555556,
              "#d8576b"
             ],
             [
              0.6666666666666666,
              "#ed7953"
             ],
             [
              0.7777777777777778,
              "#fb9f3a"
             ],
             [
              0.8888888888888888,
              "#fdca26"
             ],
             [
              1,
              "#f0f921"
             ]
            ],
            "type": "histogram2dcontour"
           }
          ],
          "mesh3d": [
           {
            "colorbar": {
             "outlinewidth": 0,
             "ticks": ""
            },
            "type": "mesh3d"
           }
          ],
          "parcoords": [
           {
            "line": {
             "colorbar": {
              "outlinewidth": 0,
              "ticks": ""
             }
            },
            "type": "parcoords"
           }
          ],
          "pie": [
           {
            "automargin": true,
            "type": "pie"
           }
          ],
          "scatter": [
           {
            "fillpattern": {
             "fillmode": "overlay",
             "size": 10,
             "solidity": 0.2
            },
            "type": "scatter"
           }
          ],
          "scatter3d": [
           {
            "line": {
             "colorbar": {
              "outlinewidth": 0,
              "ticks": ""
             }
            },
            "marker": {
             "colorbar": {
              "outlinewidth": 0,
              "ticks": ""
             }
            },
            "type": "scatter3d"
           }
          ],
          "scattercarpet": [
           {
            "marker": {
             "colorbar": {
              "outlinewidth": 0,
              "ticks": ""
             }
            },
            "type": "scattercarpet"
           }
          ],
          "scattergeo": [
           {
            "marker": {
             "colorbar": {
              "outlinewidth": 0,
              "ticks": ""
             }
            },
            "type": "scattergeo"
           }
          ],
          "scattergl": [
           {
            "marker": {
             "colorbar": {
              "outlinewidth": 0,
              "ticks": ""
             }
            },
            "type": "scattergl"
           }
          ],
          "scattermap": [
           {
            "marker": {
             "colorbar": {
              "outlinewidth": 0,
              "ticks": ""
             }
            },
            "type": "scattermap"
           }
          ],
          "scattermapbox": [
           {
            "marker": {
             "colorbar": {
              "outlinewidth": 0,
              "ticks": ""
             }
            },
            "type": "scattermapbox"
           }
          ],
          "scatterpolar": [
           {
            "marker": {
             "colorbar": {
              "outlinewidth": 0,
              "ticks": ""
             }
            },
            "type": "scatterpolar"
           }
          ],
          "scatterpolargl": [
           {
            "marker": {
             "colorbar": {
              "outlinewidth": 0,
              "ticks": ""
             }
            },
            "type": "scatterpolargl"
           }
          ],
          "scatterternary": [
           {
            "marker": {
             "colorbar": {
              "outlinewidth": 0,
              "ticks": ""
             }
            },
            "type": "scatterternary"
           }
          ],
          "surface": [
           {
            "colorbar": {
             "outlinewidth": 0,
             "ticks": ""
            },
            "colorscale": [
             [
              0,
              "#0d0887"
             ],
             [
              0.1111111111111111,
              "#46039f"
             ],
             [
              0.2222222222222222,
              "#7201a8"
             ],
             [
              0.3333333333333333,
              "#9c179e"
             ],
             [
              0.4444444444444444,
              "#bd3786"
             ],
             [
              0.5555555555555556,
              "#d8576b"
             ],
             [
              0.6666666666666666,
              "#ed7953"
             ],
             [
              0.7777777777777778,
              "#fb9f3a"
             ],
             [
              0.8888888888888888,
              "#fdca26"
             ],
             [
              1,
              "#f0f921"
             ]
            ],
            "type": "surface"
           }
          ],
          "table": [
           {
            "cells": {
             "fill": {
              "color": "#EBF0F8"
             },
             "line": {
              "color": "white"
             }
            },
            "header": {
             "fill": {
              "color": "#C8D4E3"
             },
             "line": {
              "color": "white"
             }
            },
            "type": "table"
           }
          ]
         },
         "layout": {
          "annotationdefaults": {
           "arrowcolor": "#2a3f5f",
           "arrowhead": 0,
           "arrowwidth": 1
          },
          "autotypenumbers": "strict",
          "coloraxis": {
           "colorbar": {
            "outlinewidth": 0,
            "ticks": ""
           }
          },
          "colorscale": {
           "diverging": [
            [
             0,
             "#8e0152"
            ],
            [
             0.1,
             "#c51b7d"
            ],
            [
             0.2,
             "#de77ae"
            ],
            [
             0.3,
             "#f1b6da"
            ],
            [
             0.4,
             "#fde0ef"
            ],
            [
             0.5,
             "#f7f7f7"
            ],
            [
             0.6,
             "#e6f5d0"
            ],
            [
             0.7,
             "#b8e186"
            ],
            [
             0.8,
             "#7fbc41"
            ],
            [
             0.9,
             "#4d9221"
            ],
            [
             1,
             "#276419"
            ]
           ],
           "sequential": [
            [
             0,
             "#0d0887"
            ],
            [
             0.1111111111111111,
             "#46039f"
            ],
            [
             0.2222222222222222,
             "#7201a8"
            ],
            [
             0.3333333333333333,
             "#9c179e"
            ],
            [
             0.4444444444444444,
             "#bd3786"
            ],
            [
             0.5555555555555556,
             "#d8576b"
            ],
            [
             0.6666666666666666,
             "#ed7953"
            ],
            [
             0.7777777777777778,
             "#fb9f3a"
            ],
            [
             0.8888888888888888,
             "#fdca26"
            ],
            [
             1,
             "#f0f921"
            ]
           ],
           "sequentialminus": [
            [
             0,
             "#0d0887"
            ],
            [
             0.1111111111111111,
             "#46039f"
            ],
            [
             0.2222222222222222,
             "#7201a8"
            ],
            [
             0.3333333333333333,
             "#9c179e"
            ],
            [
             0.4444444444444444,
             "#bd3786"
            ],
            [
             0.5555555555555556,
             "#d8576b"
            ],
            [
             0.6666666666666666,
             "#ed7953"
            ],
            [
             0.7777777777777778,
             "#fb9f3a"
            ],
            [
             0.8888888888888888,
             "#fdca26"
            ],
            [
             1,
             "#f0f921"
            ]
           ]
          },
          "colorway": [
           "#636efa",
           "#EF553B",
           "#00cc96",
           "#ab63fa",
           "#FFA15A",
           "#19d3f3",
           "#FF6692",
           "#B6E880",
           "#FF97FF",
           "#FECB52"
          ],
          "font": {
           "color": "#2a3f5f"
          },
          "geo": {
           "bgcolor": "white",
           "lakecolor": "white",
           "landcolor": "#E5ECF6",
           "showlakes": true,
           "showland": true,
           "subunitcolor": "white"
          },
          "hoverlabel": {
           "align": "left"
          },
          "hovermode": "closest",
          "mapbox": {
           "style": "light"
          },
          "paper_bgcolor": "white",
          "plot_bgcolor": "#E5ECF6",
          "polar": {
           "angularaxis": {
            "gridcolor": "white",
            "linecolor": "white",
            "ticks": ""
           },
           "bgcolor": "#E5ECF6",
           "radialaxis": {
            "gridcolor": "white",
            "linecolor": "white",
            "ticks": ""
           }
          },
          "scene": {
           "xaxis": {
            "backgroundcolor": "#E5ECF6",
            "gridcolor": "white",
            "gridwidth": 2,
            "linecolor": "white",
            "showbackground": true,
            "ticks": "",
            "zerolinecolor": "white"
           },
           "yaxis": {
            "backgroundcolor": "#E5ECF6",
            "gridcolor": "white",
            "gridwidth": 2,
            "linecolor": "white",
            "showbackground": true,
            "ticks": "",
            "zerolinecolor": "white"
           },
           "zaxis": {
            "backgroundcolor": "#E5ECF6",
            "gridcolor": "white",
            "gridwidth": 2,
            "linecolor": "white",
            "showbackground": true,
            "ticks": "",
            "zerolinecolor": "white"
           }
          },
          "shapedefaults": {
           "line": {
            "color": "#2a3f5f"
           }
          },
          "ternary": {
           "aaxis": {
            "gridcolor": "white",
            "linecolor": "white",
            "ticks": ""
           },
           "baxis": {
            "gridcolor": "white",
            "linecolor": "white",
            "ticks": ""
           },
           "bgcolor": "#E5ECF6",
           "caxis": {
            "gridcolor": "white",
            "linecolor": "white",
            "ticks": ""
           }
          },
          "title": {
           "x": 0.05
          },
          "xaxis": {
           "automargin": true,
           "gridcolor": "white",
           "linecolor": "white",
           "ticks": "",
           "title": {
            "standoff": 15
           },
           "zerolinecolor": "white",
           "zerolinewidth": 2
          },
          "yaxis": {
           "automargin": true,
           "gridcolor": "white",
           "linecolor": "white",
           "ticks": "",
           "title": {
            "standoff": 15
           },
           "zerolinecolor": "white",
           "zerolinewidth": 2
          }
         }
        },
        "title": {
         "text": "Studerande och Examinerade per utbildningsinriktning – 2023"
        },
        "xaxis": {
         "anchor": "y",
         "domain": [
          0,
          1
         ],
         "tickangle": 45,
         "title": {
          "text": "Inriktning"
         }
        },
        "yaxis": {
         "anchor": "x",
         "domain": [
          0,
          1
         ],
         "title": {
          "text": "Antal"
         }
        }
       }
      }
     },
     "metadata": {},
     "output_type": "display_data"
    }
   ],
   "source": [
    "def stud_exa_year_bar(df, year): \n",
    "    df_filtered = df[df[\"År\"] == year]\n",
    "    df_filtered = df_filtered[df_filtered[\"utbildningens inriktning\"] != \"Totalt\"] #\n",
    "\n",
    "    # Melt for grouped bar chart\n",
    "    df_melted = df_filtered.melt(\n",
    "        id_vars=[\"utbildningens inriktning\"],\n",
    "        value_vars=[\"Studerande\", \"Examinerade\"],\n",
    "        var_name=\"Typ\",\n",
    "        value_name=\"Antal\"\n",
    "    )\n",
    "\n",
    "    fig = px.bar(\n",
    "        df_melted,\n",
    "        x=\"utbildningens inriktning\",\n",
    "        y=\"Antal\",\n",
    "        color=\"Typ\",\n",
    "        barmode=\"stack\",\n",
    "        title=f\"Studerande och Examinerade per utbildningsinriktning – {year}\",\n",
    "        labels={\"utbildningens inriktning\": \"Inriktning\"},\n",
    "    )\n",
    "\n",
    "    fig.update_layout(xaxis_tickangle=45)\n",
    "\n",
    "    return fig\n",
    "\n",
    "stud_exa_year_bar(df_test, 2023)"
   ]
  },
  {
   "cell_type": "code",
   "execution_count": null,
   "id": "bdb9f549",
   "metadata": {},
   "outputs": [],
   "source": []
  }
 ],
 "metadata": {
  "kernelspec": {
   "display_name": ".venv",
   "language": "python",
   "name": "python3"
  },
  "language_info": {
   "codemirror_mode": {
    "name": "ipython",
    "version": 3
   },
   "file_extension": ".py",
   "mimetype": "text/x-python",
   "name": "python",
   "nbconvert_exporter": "python",
   "pygments_lexer": "ipython3",
   "version": "3.12.5"
  }
 },
 "nbformat": 4,
 "nbformat_minor": 5
}

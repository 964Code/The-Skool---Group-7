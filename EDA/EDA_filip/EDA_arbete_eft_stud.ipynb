{
 "cells": [
  {
   "cell_type": "markdown",
   "id": "0b7c5da5",
   "metadata": {},
   "source": [
    "### EDA for data about amount of people working after 1 year of finishing their studies. \n",
    "\n",
    "TODO:  \n",
    "- Create functions so it can be implemented with Taipy. \n",
    "- \"Clean\" data so it is easier to gather insights/plot/etc if necessary.  \n",
    "#\n",
    "\n",
    "- Find interesting information & trends.\n",
    "- Create plots.\n",
    "- See if KPIs can be extracted. \n"
   ]
  },
  {
   "cell_type": "code",
   "execution_count": 1,
   "id": "9471d38e",
   "metadata": {},
   "outputs": [],
   "source": [
    "import pandas as pd\n",
    "import duckdb\n",
    "import matplotlib.pyplot as plt\n",
    "import plotly.express as px"
   ]
  }
 ],
 "metadata": {
  "kernelspec": {
   "display_name": ".venv",
   "language": "python",
   "name": "python3"
  },
  "language_info": {
   "codemirror_mode": {
    "name": "ipython",
    "version": 3
   },
   "file_extension": ".py",
   "mimetype": "text/x-python",
   "name": "python",
   "nbconvert_exporter": "python",
   "pygments_lexer": "ipython3",
   "version": "3.12.5"
  }
 },
 "nbformat": 4,
 "nbformat_minor": 5
}

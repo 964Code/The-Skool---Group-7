{
 "cells": [
  {
   "cell_type": "code",
   "execution_count": 6,
   "id": "ac571779",
   "metadata": {},
   "outputs": [],
   "source": [
    "import pandas as pd\n",
    "import duckdb\n",
    "import matplotlib.pyplot as plt\n",
    "import plotly.express as px"
   ]
  },
  {
   "cell_type": "code",
   "execution_count": 7,
   "id": "acdb6e75",
   "metadata": {},
   "outputs": [
    {
     "data": {
      "text/html": [
       "<div>\n",
       "<style scoped>\n",
       "    .dataframe tbody tr th:only-of-type {\n",
       "        vertical-align: middle;\n",
       "    }\n",
       "\n",
       "    .dataframe tbody tr th {\n",
       "        vertical-align: top;\n",
       "    }\n",
       "\n",
       "    .dataframe thead th {\n",
       "        text-align: right;\n",
       "    }\n",
       "</style>\n",
       "<table border=\"1\" class=\"dataframe\">\n",
       "  <thead>\n",
       "    <tr style=\"text-align: right;\">\n",
       "      <th></th>\n",
       "      <th>År</th>\n",
       "      <th>Totalt</th>\n",
       "      <th>Data/It</th>\n",
       "      <th>Ekonomi, administration och försäljning</th>\n",
       "      <th>Friskvård och kroppsvård</th>\n",
       "      <th>Hotell, restaurang och turism</th>\n",
       "      <th>Hälso- och sjukvård samt socialt arbete</th>\n",
       "      <th>Journalistik och information</th>\n",
       "      <th>Juridik</th>\n",
       "      <th>Kultur, media och design</th>\n",
       "      <th>Lantbruk, djurvård, trädgård, skog och fiske</th>\n",
       "      <th>Pedagogik och undervisning</th>\n",
       "      <th>Samhällsbyggnad och byggteknik</th>\n",
       "      <th>Säkerhetstjänster</th>\n",
       "      <th>Teknik och tillverkning</th>\n",
       "      <th>Transporttjänster</th>\n",
       "      <th>övrigt</th>\n",
       "    </tr>\n",
       "  </thead>\n",
       "  <tbody>\n",
       "    <tr>\n",
       "      <th>0</th>\n",
       "      <td>2005</td>\n",
       "      <td>11574</td>\n",
       "      <td>1096</td>\n",
       "      <td>2841</td>\n",
       "      <td>251</td>\n",
       "      <td>902</td>\n",
       "      <td>1611</td>\n",
       "      <td>0</td>\n",
       "      <td>0</td>\n",
       "      <td>1177</td>\n",
       "      <td>648</td>\n",
       "      <td>16</td>\n",
       "      <td>787</td>\n",
       "      <td>182</td>\n",
       "      <td>1700</td>\n",
       "      <td>363</td>\n",
       "      <td>0</td>\n",
       "    </tr>\n",
       "    <tr>\n",
       "      <th>1</th>\n",
       "      <td>2006</td>\n",
       "      <td>13323</td>\n",
       "      <td>998</td>\n",
       "      <td>3630</td>\n",
       "      <td>374</td>\n",
       "      <td>1186</td>\n",
       "      <td>1620</td>\n",
       "      <td>35</td>\n",
       "      <td>62</td>\n",
       "      <td>1077</td>\n",
       "      <td>618</td>\n",
       "      <td>88</td>\n",
       "      <td>942</td>\n",
       "      <td>192</td>\n",
       "      <td>1900</td>\n",
       "      <td>601</td>\n",
       "      <td>0</td>\n",
       "    </tr>\n",
       "    <tr>\n",
       "      <th>2</th>\n",
       "      <td>2007</td>\n",
       "      <td>14652</td>\n",
       "      <td>1149</td>\n",
       "      <td>4069</td>\n",
       "      <td>351</td>\n",
       "      <td>1277</td>\n",
       "      <td>1681</td>\n",
       "      <td>62</td>\n",
       "      <td>62</td>\n",
       "      <td>1114</td>\n",
       "      <td>648</td>\n",
       "      <td>100</td>\n",
       "      <td>1026</td>\n",
       "      <td>258</td>\n",
       "      <td>2194</td>\n",
       "      <td>661</td>\n",
       "      <td>0</td>\n",
       "    </tr>\n",
       "    <tr>\n",
       "      <th>3</th>\n",
       "      <td>2008</td>\n",
       "      <td>15298</td>\n",
       "      <td>1064</td>\n",
       "      <td>4526</td>\n",
       "      <td>393</td>\n",
       "      <td>1157</td>\n",
       "      <td>1623</td>\n",
       "      <td>63</td>\n",
       "      <td>67</td>\n",
       "      <td>1055</td>\n",
       "      <td>651</td>\n",
       "      <td>101</td>\n",
       "      <td>1217</td>\n",
       "      <td>239</td>\n",
       "      <td>2381</td>\n",
       "      <td>732</td>\n",
       "      <td>29</td>\n",
       "    </tr>\n",
       "    <tr>\n",
       "      <th>4</th>\n",
       "      <td>2009</td>\n",
       "      <td>16572</td>\n",
       "      <td>1089</td>\n",
       "      <td>4939</td>\n",
       "      <td>373</td>\n",
       "      <td>1151</td>\n",
       "      <td>1686</td>\n",
       "      <td>101</td>\n",
       "      <td>68</td>\n",
       "      <td>1048</td>\n",
       "      <td>691</td>\n",
       "      <td>86</td>\n",
       "      <td>1371</td>\n",
       "      <td>213</td>\n",
       "      <td>2937</td>\n",
       "      <td>789</td>\n",
       "      <td>30</td>\n",
       "    </tr>\n",
       "    <tr>\n",
       "      <th>5</th>\n",
       "      <td>2010</td>\n",
       "      <td>16792</td>\n",
       "      <td>1164</td>\n",
       "      <td>4758</td>\n",
       "      <td>235</td>\n",
       "      <td>1108</td>\n",
       "      <td>1932</td>\n",
       "      <td>114</td>\n",
       "      <td>73</td>\n",
       "      <td>908</td>\n",
       "      <td>767</td>\n",
       "      <td>306</td>\n",
       "      <td>1413</td>\n",
       "      <td>173</td>\n",
       "      <td>3027</td>\n",
       "      <td>784</td>\n",
       "      <td>30</td>\n",
       "    </tr>\n",
       "    <tr>\n",
       "      <th>6</th>\n",
       "      <td>2011</td>\n",
       "      <td>16855</td>\n",
       "      <td>1286</td>\n",
       "      <td>4940</td>\n",
       "      <td>135</td>\n",
       "      <td>1056</td>\n",
       "      <td>2024</td>\n",
       "      <td>141</td>\n",
       "      <td>73</td>\n",
       "      <td>890</td>\n",
       "      <td>555</td>\n",
       "      <td>293</td>\n",
       "      <td>1705</td>\n",
       "      <td>147</td>\n",
       "      <td>2838</td>\n",
       "      <td>703</td>\n",
       "      <td>69</td>\n",
       "    </tr>\n",
       "    <tr>\n",
       "      <th>7</th>\n",
       "      <td>2012</td>\n",
       "      <td>15801</td>\n",
       "      <td>1476</td>\n",
       "      <td>4569</td>\n",
       "      <td>125</td>\n",
       "      <td>893</td>\n",
       "      <td>1914</td>\n",
       "      <td>76</td>\n",
       "      <td>106</td>\n",
       "      <td>854</td>\n",
       "      <td>596</td>\n",
       "      <td>160</td>\n",
       "      <td>1721</td>\n",
       "      <td>117</td>\n",
       "      <td>2558</td>\n",
       "      <td>529</td>\n",
       "      <td>107</td>\n",
       "    </tr>\n",
       "    <tr>\n",
       "      <th>8</th>\n",
       "      <td>2013</td>\n",
       "      <td>17697</td>\n",
       "      <td>1811</td>\n",
       "      <td>4950</td>\n",
       "      <td>148</td>\n",
       "      <td>1058</td>\n",
       "      <td>2241</td>\n",
       "      <td>253</td>\n",
       "      <td>111</td>\n",
       "      <td>984</td>\n",
       "      <td>588</td>\n",
       "      <td>258</td>\n",
       "      <td>1801</td>\n",
       "      <td>96</td>\n",
       "      <td>2982</td>\n",
       "      <td>325</td>\n",
       "      <td>91</td>\n",
       "    </tr>\n",
       "    <tr>\n",
       "      <th>9</th>\n",
       "      <td>2014</td>\n",
       "      <td>18442</td>\n",
       "      <td>2356</td>\n",
       "      <td>4518</td>\n",
       "      <td>86</td>\n",
       "      <td>1024</td>\n",
       "      <td>2677</td>\n",
       "      <td>283</td>\n",
       "      <td>77</td>\n",
       "      <td>1032</td>\n",
       "      <td>522</td>\n",
       "      <td>247</td>\n",
       "      <td>1968</td>\n",
       "      <td>171</td>\n",
       "      <td>3024</td>\n",
       "      <td>412</td>\n",
       "      <td>45</td>\n",
       "    </tr>\n",
       "    <tr>\n",
       "      <th>10</th>\n",
       "      <td>2015</td>\n",
       "      <td>18334</td>\n",
       "      <td>2718</td>\n",
       "      <td>3794</td>\n",
       "      <td>154</td>\n",
       "      <td>999</td>\n",
       "      <td>2462</td>\n",
       "      <td>193</td>\n",
       "      <td>132</td>\n",
       "      <td>1027</td>\n",
       "      <td>600</td>\n",
       "      <td>194</td>\n",
       "      <td>2276</td>\n",
       "      <td>181</td>\n",
       "      <td>2927</td>\n",
       "      <td>610</td>\n",
       "      <td>67</td>\n",
       "    </tr>\n",
       "    <tr>\n",
       "      <th>11</th>\n",
       "      <td>2016</td>\n",
       "      <td>19600</td>\n",
       "      <td>2355</td>\n",
       "      <td>4666</td>\n",
       "      <td>110</td>\n",
       "      <td>1013</td>\n",
       "      <td>2754</td>\n",
       "      <td>321</td>\n",
       "      <td>130</td>\n",
       "      <td>1008</td>\n",
       "      <td>667</td>\n",
       "      <td>334</td>\n",
       "      <td>2407</td>\n",
       "      <td>96</td>\n",
       "      <td>2880</td>\n",
       "      <td>755</td>\n",
       "      <td>104</td>\n",
       "    </tr>\n",
       "    <tr>\n",
       "      <th>12</th>\n",
       "      <td>2017</td>\n",
       "      <td>20642</td>\n",
       "      <td>2302</td>\n",
       "      <td>5000</td>\n",
       "      <td>108</td>\n",
       "      <td>977</td>\n",
       "      <td>3143</td>\n",
       "      <td>344</td>\n",
       "      <td>171</td>\n",
       "      <td>1142</td>\n",
       "      <td>606</td>\n",
       "      <td>315</td>\n",
       "      <td>2730</td>\n",
       "      <td>69</td>\n",
       "      <td>2771</td>\n",
       "      <td>854</td>\n",
       "      <td>110</td>\n",
       "    </tr>\n",
       "    <tr>\n",
       "      <th>13</th>\n",
       "      <td>2018</td>\n",
       "      <td>23052</td>\n",
       "      <td>2285</td>\n",
       "      <td>6040</td>\n",
       "      <td>133</td>\n",
       "      <td>980</td>\n",
       "      <td>3683</td>\n",
       "      <td>368</td>\n",
       "      <td>172</td>\n",
       "      <td>1076</td>\n",
       "      <td>537</td>\n",
       "      <td>603</td>\n",
       "      <td>3339</td>\n",
       "      <td>187</td>\n",
       "      <td>2970</td>\n",
       "      <td>603</td>\n",
       "      <td>76</td>\n",
       "    </tr>\n",
       "    <tr>\n",
       "      <th>14</th>\n",
       "      <td>2019</td>\n",
       "      <td>28561</td>\n",
       "      <td>3584</td>\n",
       "      <td>7100</td>\n",
       "      <td>155</td>\n",
       "      <td>1217</td>\n",
       "      <td>4334</td>\n",
       "      <td>411</td>\n",
       "      <td>181</td>\n",
       "      <td>1279</td>\n",
       "      <td>662</td>\n",
       "      <td>712</td>\n",
       "      <td>4039</td>\n",
       "      <td>221</td>\n",
       "      <td>3704</td>\n",
       "      <td>775</td>\n",
       "      <td>187</td>\n",
       "    </tr>\n",
       "    <tr>\n",
       "      <th>15</th>\n",
       "      <td>2020</td>\n",
       "      <td>36162</td>\n",
       "      <td>5647</td>\n",
       "      <td>7991</td>\n",
       "      <td>167</td>\n",
       "      <td>1479</td>\n",
       "      <td>5221</td>\n",
       "      <td>369</td>\n",
       "      <td>209</td>\n",
       "      <td>1505</td>\n",
       "      <td>677</td>\n",
       "      <td>889</td>\n",
       "      <td>5636</td>\n",
       "      <td>313</td>\n",
       "      <td>5094</td>\n",
       "      <td>776</td>\n",
       "      <td>189</td>\n",
       "    </tr>\n",
       "    <tr>\n",
       "      <th>16</th>\n",
       "      <td>2021</td>\n",
       "      <td>33282</td>\n",
       "      <td>5387</td>\n",
       "      <td>6522</td>\n",
       "      <td>180</td>\n",
       "      <td>1369</td>\n",
       "      <td>5343</td>\n",
       "      <td>351</td>\n",
       "      <td>178</td>\n",
       "      <td>1547</td>\n",
       "      <td>806</td>\n",
       "      <td>878</td>\n",
       "      <td>4787</td>\n",
       "      <td>209</td>\n",
       "      <td>4886</td>\n",
       "      <td>626</td>\n",
       "      <td>213</td>\n",
       "    </tr>\n",
       "    <tr>\n",
       "      <th>17</th>\n",
       "      <td>2022</td>\n",
       "      <td>33494</td>\n",
       "      <td>5831</td>\n",
       "      <td>6602</td>\n",
       "      <td>210</td>\n",
       "      <td>1069</td>\n",
       "      <td>5415</td>\n",
       "      <td>293</td>\n",
       "      <td>141</td>\n",
       "      <td>1569</td>\n",
       "      <td>816</td>\n",
       "      <td>883</td>\n",
       "      <td>4815</td>\n",
       "      <td>345</td>\n",
       "      <td>4674</td>\n",
       "      <td>609</td>\n",
       "      <td>222</td>\n",
       "    </tr>\n",
       "    <tr>\n",
       "      <th>18</th>\n",
       "      <td>2023</td>\n",
       "      <td>35210</td>\n",
       "      <td>6445</td>\n",
       "      <td>7034</td>\n",
       "      <td>230</td>\n",
       "      <td>1155</td>\n",
       "      <td>5076</td>\n",
       "      <td>283</td>\n",
       "      <td>144</td>\n",
       "      <td>1770</td>\n",
       "      <td>931</td>\n",
       "      <td>488</td>\n",
       "      <td>5090</td>\n",
       "      <td>342</td>\n",
       "      <td>5277</td>\n",
       "      <td>823</td>\n",
       "      <td>122</td>\n",
       "    </tr>\n",
       "    <tr>\n",
       "      <th>19</th>\n",
       "      <td>2024</td>\n",
       "      <td>35426</td>\n",
       "      <td>6490</td>\n",
       "      <td>6531</td>\n",
       "      <td>122</td>\n",
       "      <td>1251</td>\n",
       "      <td>4761</td>\n",
       "      <td>232</td>\n",
       "      <td>135</td>\n",
       "      <td>1660</td>\n",
       "      <td>1019</td>\n",
       "      <td>414</td>\n",
       "      <td>5518</td>\n",
       "      <td>301</td>\n",
       "      <td>6111</td>\n",
       "      <td>741</td>\n",
       "      <td>140</td>\n",
       "    </tr>\n",
       "  </tbody>\n",
       "</table>\n",
       "</div>"
      ],
      "text/plain": [
       "      År  Totalt  Data/It  Ekonomi, administration och försäljning  \\\n",
       "0   2005   11574     1096                                     2841   \n",
       "1   2006   13323      998                                     3630   \n",
       "2   2007   14652     1149                                     4069   \n",
       "3   2008   15298     1064                                     4526   \n",
       "4   2009   16572     1089                                     4939   \n",
       "5   2010   16792     1164                                     4758   \n",
       "6   2011   16855     1286                                     4940   \n",
       "7   2012   15801     1476                                     4569   \n",
       "8   2013   17697     1811                                     4950   \n",
       "9   2014   18442     2356                                     4518   \n",
       "10  2015   18334     2718                                     3794   \n",
       "11  2016   19600     2355                                     4666   \n",
       "12  2017   20642     2302                                     5000   \n",
       "13  2018   23052     2285                                     6040   \n",
       "14  2019   28561     3584                                     7100   \n",
       "15  2020   36162     5647                                     7991   \n",
       "16  2021   33282     5387                                     6522   \n",
       "17  2022   33494     5831                                     6602   \n",
       "18  2023   35210     6445                                     7034   \n",
       "19  2024   35426     6490                                     6531   \n",
       "\n",
       "    Friskvård och kroppsvård  Hotell, restaurang och turism  \\\n",
       "0                        251                            902   \n",
       "1                        374                           1186   \n",
       "2                        351                           1277   \n",
       "3                        393                           1157   \n",
       "4                        373                           1151   \n",
       "5                        235                           1108   \n",
       "6                        135                           1056   \n",
       "7                        125                            893   \n",
       "8                        148                           1058   \n",
       "9                         86                           1024   \n",
       "10                       154                            999   \n",
       "11                       110                           1013   \n",
       "12                       108                            977   \n",
       "13                       133                            980   \n",
       "14                       155                           1217   \n",
       "15                       167                           1479   \n",
       "16                       180                           1369   \n",
       "17                       210                           1069   \n",
       "18                       230                           1155   \n",
       "19                       122                           1251   \n",
       "\n",
       "    Hälso- och sjukvård samt socialt arbete  Journalistik och information  \\\n",
       "0                                      1611                             0   \n",
       "1                                      1620                            35   \n",
       "2                                      1681                            62   \n",
       "3                                      1623                            63   \n",
       "4                                      1686                           101   \n",
       "5                                      1932                           114   \n",
       "6                                      2024                           141   \n",
       "7                                      1914                            76   \n",
       "8                                      2241                           253   \n",
       "9                                      2677                           283   \n",
       "10                                     2462                           193   \n",
       "11                                     2754                           321   \n",
       "12                                     3143                           344   \n",
       "13                                     3683                           368   \n",
       "14                                     4334                           411   \n",
       "15                                     5221                           369   \n",
       "16                                     5343                           351   \n",
       "17                                     5415                           293   \n",
       "18                                     5076                           283   \n",
       "19                                     4761                           232   \n",
       "\n",
       "    Juridik  Kultur, media och design  \\\n",
       "0         0                      1177   \n",
       "1        62                      1077   \n",
       "2        62                      1114   \n",
       "3        67                      1055   \n",
       "4        68                      1048   \n",
       "5        73                       908   \n",
       "6        73                       890   \n",
       "7       106                       854   \n",
       "8       111                       984   \n",
       "9        77                      1032   \n",
       "10      132                      1027   \n",
       "11      130                      1008   \n",
       "12      171                      1142   \n",
       "13      172                      1076   \n",
       "14      181                      1279   \n",
       "15      209                      1505   \n",
       "16      178                      1547   \n",
       "17      141                      1569   \n",
       "18      144                      1770   \n",
       "19      135                      1660   \n",
       "\n",
       "    Lantbruk, djurvård, trädgård, skog och fiske  Pedagogik och undervisning  \\\n",
       "0                                            648                          16   \n",
       "1                                            618                          88   \n",
       "2                                            648                         100   \n",
       "3                                            651                         101   \n",
       "4                                            691                          86   \n",
       "5                                            767                         306   \n",
       "6                                            555                         293   \n",
       "7                                            596                         160   \n",
       "8                                            588                         258   \n",
       "9                                            522                         247   \n",
       "10                                           600                         194   \n",
       "11                                           667                         334   \n",
       "12                                           606                         315   \n",
       "13                                           537                         603   \n",
       "14                                           662                         712   \n",
       "15                                           677                         889   \n",
       "16                                           806                         878   \n",
       "17                                           816                         883   \n",
       "18                                           931                         488   \n",
       "19                                          1019                         414   \n",
       "\n",
       "    Samhällsbyggnad och byggteknik  Säkerhetstjänster  \\\n",
       "0                              787                182   \n",
       "1                              942                192   \n",
       "2                             1026                258   \n",
       "3                             1217                239   \n",
       "4                             1371                213   \n",
       "5                             1413                173   \n",
       "6                             1705                147   \n",
       "7                             1721                117   \n",
       "8                             1801                 96   \n",
       "9                             1968                171   \n",
       "10                            2276                181   \n",
       "11                            2407                 96   \n",
       "12                            2730                 69   \n",
       "13                            3339                187   \n",
       "14                            4039                221   \n",
       "15                            5636                313   \n",
       "16                            4787                209   \n",
       "17                            4815                345   \n",
       "18                            5090                342   \n",
       "19                            5518                301   \n",
       "\n",
       "    Teknik och tillverkning  Transporttjänster  övrigt  \n",
       "0                      1700                363       0  \n",
       "1                      1900                601       0  \n",
       "2                      2194                661       0  \n",
       "3                      2381                732      29  \n",
       "4                      2937                789      30  \n",
       "5                      3027                784      30  \n",
       "6                      2838                703      69  \n",
       "7                      2558                529     107  \n",
       "8                      2982                325      91  \n",
       "9                      3024                412      45  \n",
       "10                     2927                610      67  \n",
       "11                     2880                755     104  \n",
       "12                     2771                854     110  \n",
       "13                     2970                603      76  \n",
       "14                     3704                775     187  \n",
       "15                     5094                776     189  \n",
       "16                     4886                626     213  \n",
       "17                     4674                609     222  \n",
       "18                     5277                823     122  \n",
       "19                     6111                741     140  "
      ]
     },
     "execution_count": 7,
     "metadata": {},
     "output_type": "execute_result"
    }
   ],
   "source": [
    "\n",
    "df = pd.read_csv(\"../../data/Yrkeshogskolan_transformed.csv\").rename(columns={'Unnamed: 0': 'År'})\n",
    "\n",
    "\n",
    "df.head(20)"
   ]
  },
  {
   "cell_type": "code",
   "execution_count": null,
   "id": "adba29be",
   "metadata": {},
   "outputs": [
    {
     "data": {
      "application/vnd.plotly.v1+json": {
       "config": {
        "plotlyServerURL": "https://plot.ly"
       },
       "data": [
        {
         "hovertemplate": "Inriktning=Totalt<br>År=%{x}<br>Studerande=%{y}<extra></extra>",
         "legendgroup": "Totalt",
         "line": {
          "color": "#636efa",
          "dash": "solid"
         },
         "marker": {
          "symbol": "circle"
         },
         "mode": "lines",
         "name": "Totalt",
         "orientation": "v",
         "showlegend": true,
         "type": "scatter",
         "x": {
          "bdata": "1QfWB9cH2AfZB9oH2wfcB90H3gffB+AH4QfiB+MH5AflB+YH5wfoBw==",
          "dtype": "i2"
         },
         "xaxis": "x",
         "y": {
          "bdata": "Ni0AAAs0AAA8OQAAwjsAALxAAACYQQAA10EAALk9AAAhRQAACkgAAJ5HAACQTAAAolAAAAxaAACRbwAAQo0AAAKCAADWggAAiokAAGKKAAA=",
          "dtype": "i4"
         },
         "yaxis": "y"
        },
        {
         "hovertemplate": "Inriktning=Data/It<br>År=%{x}<br>Studerande=%{y}<extra></extra>",
         "legendgroup": "Data/It",
         "line": {
          "color": "#EF553B",
          "dash": "solid"
         },
         "marker": {
          "symbol": "circle"
         },
         "mode": "lines",
         "name": "Data/It",
         "orientation": "v",
         "showlegend": true,
         "type": "scatter",
         "x": {
          "bdata": "1QfWB9cH2AfZB9oH2wfcB90H3gffB+AH4QfiB+MH5AflB+YH5wfoBw==",
          "dtype": "i2"
         },
         "xaxis": "x",
         "y": {
          "bdata": "SATmA30EKARBBIwEBgXEBRMHNAmeCjMJ/gjtCAAODxYLFccWLRlaGQ==",
          "dtype": "i2"
         },
         "yaxis": "y"
        },
        {
         "hovertemplate": "Inriktning=övrigt<br>År=%{x}<br>Studerande=%{y}<extra></extra>",
         "legendgroup": "övrigt",
         "line": {
          "color": "#00cc96",
          "dash": "solid"
         },
         "marker": {
          "symbol": "circle"
         },
         "mode": "lines",
         "name": "övrigt",
         "orientation": "v",
         "showlegend": true,
         "type": "scatter",
         "x": {
          "bdata": "1QfWB9cH2AfZB9oH2wfcB90H3gffB+AH4QfiB+MH5AflB+YH5wfoBw==",
          "dtype": "i2"
         },
         "xaxis": "x",
         "y": {
          "bdata": "AAAAAAAAHQAeAB4ARQBrAFsALQBDAGgAbgBMALsAvQDVAN4AegCMAA==",
          "dtype": "i2"
         },
         "yaxis": "y"
        }
       ],
       "layout": {
        "legend": {
         "title": {
          "text": "Inriktning"
         },
         "tracegroupgap": 0
        },
        "template": {
         "data": {
          "bar": [
           {
            "error_x": {
             "color": "#2a3f5f"
            },
            "error_y": {
             "color": "#2a3f5f"
            },
            "marker": {
             "line": {
              "color": "#E5ECF6",
              "width": 0.5
             },
             "pattern": {
              "fillmode": "overlay",
              "size": 10,
              "solidity": 0.2
             }
            },
            "type": "bar"
           }
          ],
          "barpolar": [
           {
            "marker": {
             "line": {
              "color": "#E5ECF6",
              "width": 0.5
             },
             "pattern": {
              "fillmode": "overlay",
              "size": 10,
              "solidity": 0.2
             }
            },
            "type": "barpolar"
           }
          ],
          "carpet": [
           {
            "aaxis": {
             "endlinecolor": "#2a3f5f",
             "gridcolor": "white",
             "linecolor": "white",
             "minorgridcolor": "white",
             "startlinecolor": "#2a3f5f"
            },
            "baxis": {
             "endlinecolor": "#2a3f5f",
             "gridcolor": "white",
             "linecolor": "white",
             "minorgridcolor": "white",
             "startlinecolor": "#2a3f5f"
            },
            "type": "carpet"
           }
          ],
          "choropleth": [
           {
            "colorbar": {
             "outlinewidth": 0,
             "ticks": ""
            },
            "type": "choropleth"
           }
          ],
          "contour": [
           {
            "colorbar": {
             "outlinewidth": 0,
             "ticks": ""
            },
            "colorscale": [
             [
              0,
              "#0d0887"
             ],
             [
              0.1111111111111111,
              "#46039f"
             ],
             [
              0.2222222222222222,
              "#7201a8"
             ],
             [
              0.3333333333333333,
              "#9c179e"
             ],
             [
              0.4444444444444444,
              "#bd3786"
             ],
             [
              0.5555555555555556,
              "#d8576b"
             ],
             [
              0.6666666666666666,
              "#ed7953"
             ],
             [
              0.7777777777777778,
              "#fb9f3a"
             ],
             [
              0.8888888888888888,
              "#fdca26"
             ],
             [
              1,
              "#f0f921"
             ]
            ],
            "type": "contour"
           }
          ],
          "contourcarpet": [
           {
            "colorbar": {
             "outlinewidth": 0,
             "ticks": ""
            },
            "type": "contourcarpet"
           }
          ],
          "heatmap": [
           {
            "colorbar": {
             "outlinewidth": 0,
             "ticks": ""
            },
            "colorscale": [
             [
              0,
              "#0d0887"
             ],
             [
              0.1111111111111111,
              "#46039f"
             ],
             [
              0.2222222222222222,
              "#7201a8"
             ],
             [
              0.3333333333333333,
              "#9c179e"
             ],
             [
              0.4444444444444444,
              "#bd3786"
             ],
             [
              0.5555555555555556,
              "#d8576b"
             ],
             [
              0.6666666666666666,
              "#ed7953"
             ],
             [
              0.7777777777777778,
              "#fb9f3a"
             ],
             [
              0.8888888888888888,
              "#fdca26"
             ],
             [
              1,
              "#f0f921"
             ]
            ],
            "type": "heatmap"
           }
          ],
          "histogram": [
           {
            "marker": {
             "pattern": {
              "fillmode": "overlay",
              "size": 10,
              "solidity": 0.2
             }
            },
            "type": "histogram"
           }
          ],
          "histogram2d": [
           {
            "colorbar": {
             "outlinewidth": 0,
             "ticks": ""
            },
            "colorscale": [
             [
              0,
              "#0d0887"
             ],
             [
              0.1111111111111111,
              "#46039f"
             ],
             [
              0.2222222222222222,
              "#7201a8"
             ],
             [
              0.3333333333333333,
              "#9c179e"
             ],
             [
              0.4444444444444444,
              "#bd3786"
             ],
             [
              0.5555555555555556,
              "#d8576b"
             ],
             [
              0.6666666666666666,
              "#ed7953"
             ],
             [
              0.7777777777777778,
              "#fb9f3a"
             ],
             [
              0.8888888888888888,
              "#fdca26"
             ],
             [
              1,
              "#f0f921"
             ]
            ],
            "type": "histogram2d"
           }
          ],
          "histogram2dcontour": [
           {
            "colorbar": {
             "outlinewidth": 0,
             "ticks": ""
            },
            "colorscale": [
             [
              0,
              "#0d0887"
             ],
             [
              0.1111111111111111,
              "#46039f"
             ],
             [
              0.2222222222222222,
              "#7201a8"
             ],
             [
              0.3333333333333333,
              "#9c179e"
             ],
             [
              0.4444444444444444,
              "#bd3786"
             ],
             [
              0.5555555555555556,
              "#d8576b"
             ],
             [
              0.6666666666666666,
              "#ed7953"
             ],
             [
              0.7777777777777778,
              "#fb9f3a"
             ],
             [
              0.8888888888888888,
              "#fdca26"
             ],
             [
              1,
              "#f0f921"
             ]
            ],
            "type": "histogram2dcontour"
           }
          ],
          "mesh3d": [
           {
            "colorbar": {
             "outlinewidth": 0,
             "ticks": ""
            },
            "type": "mesh3d"
           }
          ],
          "parcoords": [
           {
            "line": {
             "colorbar": {
              "outlinewidth": 0,
              "ticks": ""
             }
            },
            "type": "parcoords"
           }
          ],
          "pie": [
           {
            "automargin": true,
            "type": "pie"
           }
          ],
          "scatter": [
           {
            "fillpattern": {
             "fillmode": "overlay",
             "size": 10,
             "solidity": 0.2
            },
            "type": "scatter"
           }
          ],
          "scatter3d": [
           {
            "line": {
             "colorbar": {
              "outlinewidth": 0,
              "ticks": ""
             }
            },
            "marker": {
             "colorbar": {
              "outlinewidth": 0,
              "ticks": ""
             }
            },
            "type": "scatter3d"
           }
          ],
          "scattercarpet": [
           {
            "marker": {
             "colorbar": {
              "outlinewidth": 0,
              "ticks": ""
             }
            },
            "type": "scattercarpet"
           }
          ],
          "scattergeo": [
           {
            "marker": {
             "colorbar": {
              "outlinewidth": 0,
              "ticks": ""
             }
            },
            "type": "scattergeo"
           }
          ],
          "scattergl": [
           {
            "marker": {
             "colorbar": {
              "outlinewidth": 0,
              "ticks": ""
             }
            },
            "type": "scattergl"
           }
          ],
          "scattermap": [
           {
            "marker": {
             "colorbar": {
              "outlinewidth": 0,
              "ticks": ""
             }
            },
            "type": "scattermap"
           }
          ],
          "scattermapbox": [
           {
            "marker": {
             "colorbar": {
              "outlinewidth": 0,
              "ticks": ""
             }
            },
            "type": "scattermapbox"
           }
          ],
          "scatterpolar": [
           {
            "marker": {
             "colorbar": {
              "outlinewidth": 0,
              "ticks": ""
             }
            },
            "type": "scatterpolar"
           }
          ],
          "scatterpolargl": [
           {
            "marker": {
             "colorbar": {
              "outlinewidth": 0,
              "ticks": ""
             }
            },
            "type": "scatterpolargl"
           }
          ],
          "scatterternary": [
           {
            "marker": {
             "colorbar": {
              "outlinewidth": 0,
              "ticks": ""
             }
            },
            "type": "scatterternary"
           }
          ],
          "surface": [
           {
            "colorbar": {
             "outlinewidth": 0,
             "ticks": ""
            },
            "colorscale": [
             [
              0,
              "#0d0887"
             ],
             [
              0.1111111111111111,
              "#46039f"
             ],
             [
              0.2222222222222222,
              "#7201a8"
             ],
             [
              0.3333333333333333,
              "#9c179e"
             ],
             [
              0.4444444444444444,
              "#bd3786"
             ],
             [
              0.5555555555555556,
              "#d8576b"
             ],
             [
              0.6666666666666666,
              "#ed7953"
             ],
             [
              0.7777777777777778,
              "#fb9f3a"
             ],
             [
              0.8888888888888888,
              "#fdca26"
             ],
             [
              1,
              "#f0f921"
             ]
            ],
            "type": "surface"
           }
          ],
          "table": [
           {
            "cells": {
             "fill": {
              "color": "#EBF0F8"
             },
             "line": {
              "color": "white"
             }
            },
            "header": {
             "fill": {
              "color": "#C8D4E3"
             },
             "line": {
              "color": "white"
             }
            },
            "type": "table"
           }
          ]
         },
         "layout": {
          "annotationdefaults": {
           "arrowcolor": "#2a3f5f",
           "arrowhead": 0,
           "arrowwidth": 1
          },
          "autotypenumbers": "strict",
          "coloraxis": {
           "colorbar": {
            "outlinewidth": 0,
            "ticks": ""
           }
          },
          "colorscale": {
           "diverging": [
            [
             0,
             "#8e0152"
            ],
            [
             0.1,
             "#c51b7d"
            ],
            [
             0.2,
             "#de77ae"
            ],
            [
             0.3,
             "#f1b6da"
            ],
            [
             0.4,
             "#fde0ef"
            ],
            [
             0.5,
             "#f7f7f7"
            ],
            [
             0.6,
             "#e6f5d0"
            ],
            [
             0.7,
             "#b8e186"
            ],
            [
             0.8,
             "#7fbc41"
            ],
            [
             0.9,
             "#4d9221"
            ],
            [
             1,
             "#276419"
            ]
           ],
           "sequential": [
            [
             0,
             "#0d0887"
            ],
            [
             0.1111111111111111,
             "#46039f"
            ],
            [
             0.2222222222222222,
             "#7201a8"
            ],
            [
             0.3333333333333333,
             "#9c179e"
            ],
            [
             0.4444444444444444,
             "#bd3786"
            ],
            [
             0.5555555555555556,
             "#d8576b"
            ],
            [
             0.6666666666666666,
             "#ed7953"
            ],
            [
             0.7777777777777778,
             "#fb9f3a"
            ],
            [
             0.8888888888888888,
             "#fdca26"
            ],
            [
             1,
             "#f0f921"
            ]
           ],
           "sequentialminus": [
            [
             0,
             "#0d0887"
            ],
            [
             0.1111111111111111,
             "#46039f"
            ],
            [
             0.2222222222222222,
             "#7201a8"
            ],
            [
             0.3333333333333333,
             "#9c179e"
            ],
            [
             0.4444444444444444,
             "#bd3786"
            ],
            [
             0.5555555555555556,
             "#d8576b"
            ],
            [
             0.6666666666666666,
             "#ed7953"
            ],
            [
             0.7777777777777778,
             "#fb9f3a"
            ],
            [
             0.8888888888888888,
             "#fdca26"
            ],
            [
             1,
             "#f0f921"
            ]
           ]
          },
          "colorway": [
           "#636efa",
           "#EF553B",
           "#00cc96",
           "#ab63fa",
           "#FFA15A",
           "#19d3f3",
           "#FF6692",
           "#B6E880",
           "#FF97FF",
           "#FECB52"
          ],
          "font": {
           "color": "#2a3f5f"
          },
          "geo": {
           "bgcolor": "white",
           "lakecolor": "white",
           "landcolor": "#E5ECF6",
           "showlakes": true,
           "showland": true,
           "subunitcolor": "white"
          },
          "hoverlabel": {
           "align": "left"
          },
          "hovermode": "closest",
          "mapbox": {
           "style": "light"
          },
          "paper_bgcolor": "white",
          "plot_bgcolor": "#E5ECF6",
          "polar": {
           "angularaxis": {
            "gridcolor": "white",
            "linecolor": "white",
            "ticks": ""
           },
           "bgcolor": "#E5ECF6",
           "radialaxis": {
            "gridcolor": "white",
            "linecolor": "white",
            "ticks": ""
           }
          },
          "scene": {
           "xaxis": {
            "backgroundcolor": "#E5ECF6",
            "gridcolor": "white",
            "gridwidth": 2,
            "linecolor": "white",
            "showbackground": true,
            "ticks": "",
            "zerolinecolor": "white"
           },
           "yaxis": {
            "backgroundcolor": "#E5ECF6",
            "gridcolor": "white",
            "gridwidth": 2,
            "linecolor": "white",
            "showbackground": true,
            "ticks": "",
            "zerolinecolor": "white"
           },
           "zaxis": {
            "backgroundcolor": "#E5ECF6",
            "gridcolor": "white",
            "gridwidth": 2,
            "linecolor": "white",
            "showbackground": true,
            "ticks": "",
            "zerolinecolor": "white"
           }
          },
          "shapedefaults": {
           "line": {
            "color": "#2a3f5f"
           }
          },
          "ternary": {
           "aaxis": {
            "gridcolor": "white",
            "linecolor": "white",
            "ticks": ""
           },
           "baxis": {
            "gridcolor": "white",
            "linecolor": "white",
            "ticks": ""
           },
           "bgcolor": "#E5ECF6",
           "caxis": {
            "gridcolor": "white",
            "linecolor": "white",
            "ticks": ""
           }
          },
          "title": {
           "x": 0.05
          },
          "xaxis": {
           "automargin": true,
           "gridcolor": "white",
           "linecolor": "white",
           "ticks": "",
           "title": {
            "standoff": 15
           },
           "zerolinecolor": "white",
           "zerolinewidth": 2
          },
          "yaxis": {
           "automargin": true,
           "gridcolor": "white",
           "linecolor": "white",
           "ticks": "",
           "title": {
            "standoff": 15
           },
           "zerolinecolor": "white",
           "zerolinewidth": 2
          }
         }
        },
        "title": {
         "text": "Studerande över tid per utbildningsinriktning "
        },
        "xaxis": {
         "anchor": "y",
         "domain": [
          0,
          1
         ],
         "title": {
          "text": "År"
         }
        },
        "yaxis": {
         "anchor": "x",
         "domain": [
          0,
          1
         ],
         "title": {
          "text": "Studerande"
         }
        }
       }
      }
     },
     "metadata": {},
     "output_type": "display_data"
    }
   ],
   "source": [
    "\n",
    "\n",
    "def line_plot_stud(df, areas):\n",
    "    df_melted = df.melt(id_vars=[\"År\"], var_name=\"Inriktning\", value_name=\"Studerande\")\n",
    "    resultat = df_melted[df_melted[\"Inriktning\"].isin(areas)]\n",
    "\n",
    "    # Input list for multiple options\n",
    "    fig = px.line(\n",
    "        resultat,\n",
    "        x=\"År\",\n",
    "        y=\"Studerande\",\n",
    "        color=\"Inriktning\",\n",
    "        title=f\"Studerande över tid per utbildningsinriktning \"\n",
    "    )\n",
    "    return fig\n",
    "\n",
    "\n",
    "line_plot_stud(df, [\"Totalt\", \"Data/It\"])\n"
   ]
  },
  {
   "cell_type": "code",
   "execution_count": null,
   "id": "728e42d3",
   "metadata": {},
   "outputs": [],
   "source": []
  }
 ],
 "metadata": {
  "kernelspec": {
   "display_name": ".venv",
   "language": "python",
   "name": "python3"
  },
  "language_info": {
   "codemirror_mode": {
    "name": "ipython",
    "version": 3
   },
   "file_extension": ".py",
   "mimetype": "text/x-python",
   "name": "python",
   "nbconvert_exporter": "python",
   "pygments_lexer": "ipython3",
   "version": "3.12.5"
  }
 },
 "nbformat": 4,
 "nbformat_minor": 5
}

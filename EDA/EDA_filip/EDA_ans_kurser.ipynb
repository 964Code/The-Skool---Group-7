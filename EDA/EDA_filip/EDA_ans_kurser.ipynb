{
 "cells": [
  {
   "cell_type": "markdown",
   "id": "ee8b01b3",
   "metadata": {},
   "source": [
    "### EDA on data regarding \"fristående kurser\" that different YH apply for. \n",
    "\n",
    "TODO:  \n",
    "- Create functions so it can be implemented with Taipy. \n",
    "- \"Clean\" data so it is easier to gather insights/plot/etc if necessary.\n",
    "\n",
    "- Graph for \"Anordnare med flest utbildningar\". \n",
    "- Graph for \"Antal beviljade/avslag/%\". \n",
    "- Function for being able to filter \"utbildningsområde\" + \"Anordnare\" to get KPIs for\n",
    "    - KPI: \"Antal platser beviljade\". \n",
    "    - KPI: \"Antal kurser beviljade\". \n",
    "    - KPI: \"% beviljade gällande kurser\".\n",
    "    - KPI: \"Ekonomiskt stöd från staten\" - This will need to wait due to limited time."
   ]
  },
  {
   "cell_type": "code",
   "execution_count": 3,
   "id": "2a219fd5",
   "metadata": {},
   "outputs": [],
   "source": [
    "import pandas as pd\n",
    "import duckdb\n",
    "import matplotlib.pyplot as plt\n",
    "import plotly.express as px"
   ]
  }
 ],
 "metadata": {
  "kernelspec": {
   "display_name": ".venv",
   "language": "python",
   "name": "python3"
  },
  "language_info": {
   "codemirror_mode": {
    "name": "ipython",
    "version": 3
   },
   "file_extension": ".py",
   "mimetype": "text/x-python",
   "name": "python",
   "nbconvert_exporter": "python",
   "pygments_lexer": "ipython3",
   "version": "3.12.5"
  }
 },
 "nbformat": 4,
 "nbformat_minor": 5
}

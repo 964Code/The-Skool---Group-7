{
 "cells": [
  {
   "cell_type": "markdown",
   "id": "ee8b01b3",
   "metadata": {},
   "source": [
    "### EDA on data regarding \"fristående kurser\" that different YH apply for. "
   ]
  },
  {
   "cell_type": "code",
   "execution_count": 3,
   "id": "2a219fd5",
   "metadata": {},
   "outputs": [],
   "source": [
    "import pandas as pd\n",
    "import duckdb\n",
    "import matplotlib.pyplot as plt\n",
    "import plotly.express as px"
   ]
  }
 ],
 "metadata": {
  "kernelspec": {
   "display_name": ".venv",
   "language": "python",
   "name": "python3"
  },
  "language_info": {
   "codemirror_mode": {
    "name": "ipython",
    "version": 3
   },
   "file_extension": ".py",
   "mimetype": "text/x-python",
   "name": "python",
   "nbconvert_exporter": "python",
   "pygments_lexer": "ipython3",
   "version": "3.12.5"
  }
 },
 "nbformat": 4,
 "nbformat_minor": 5
}

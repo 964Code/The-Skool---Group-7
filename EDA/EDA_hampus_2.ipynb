{
 "cells": [
  {
   "cell_type": "markdown",
   "id": "262ed62f",
   "metadata": {},
   "source": [
    "# Hampus EDA 2"
   ]
  },
  {
   "cell_type": "code",
   "execution_count": 2,
   "id": "53e1f0af",
   "metadata": {},
   "outputs": [],
   "source": [
    "import pandas as pd\n",
    "import plotly.express as px\n",
    "import matplotlib\n",
    "import duckdb as db\n",
    "import plotly.graph_objects as go\n",
    "from utils.constants import DATA_DIRECTORY"
   ]
  },
  {
   "cell_type": "code",
   "execution_count": 3,
   "id": "31390383",
   "metadata": {},
   "outputs": [],
   "source": [
    "df_kurser = pd.read_excel(\n",
    "    DATA_DIRECTORY / \"resultat-2024-for-kurser-inom-yh.xlsx\", sheet_name=\"Lista ansökningar\"\n",
    ").drop(\n",
    "    columns=[\n",
    "        \"Diarienummer\",\n",
    "        \"Kommun\",\n",
    "        \"Län\",\n",
    "        \"FA-region\",\n",
    "        \"Antal kommuner\",\n",
    "        \"Antal län\",\n",
    "        \"Antal FA-regioner\",\n",
    "    ])\n"
   ]
  },
  {
   "cell_type": "code",
   "execution_count": 4,
   "id": "df459481",
   "metadata": {},
   "outputs": [],
   "source": [
    "def approved_courses_filter(df):\n",
    "    approved_courses = db.query(\n",
    "        \"\"\"--sql\n",
    "        SELECT\n",
    "            \"Anordnare namn\" AS anordnare,\n",
    "            COUNT(*) FILTER (WHERE Beslut ILIKE '%Bevilj%') AS \"antal beviljade\",\n",
    "            COUNT(*) FILTER (WHERE Beslut ILIKE '%Avslag%') AS \"antal avslag\",\n",
    "        FROM df\n",
    "        GROUP BY \"Anordnare namn\"\n",
    "        ORDER BY \"antal beviljade\" DESC;\n",
    "        \"\"\"\n",
    "    ).df()\n",
    "    return approved_courses"
   ]
  },
  {
   "cell_type": "code",
   "execution_count": 5,
   "id": "baffa506",
   "metadata": {},
   "outputs": [],
   "source": [
    "filtered_df = approved_courses_filter(df_kurser)"
   ]
  },
  {
   "cell_type": "code",
   "execution_count": null,
   "id": "6807bdeb",
   "metadata": {},
   "outputs": [],
   "source": []
  },
  {
   "cell_type": "code",
   "execution_count": 6,
   "id": "8a94f3cc",
   "metadata": {},
   "outputs": [],
   "source": [
    "def plot_bar(df):\n",
    "    df_long = df.head(5).melt(\n",
    "    id_vars=\"anordnare\",\n",
    "    value_vars=[\"antal beviljade\", \"antal avslag\"],\n",
    "    var_name=\"Beslut\",\n",
    "    value_name=\"Antal\",\n",
    ")\n",
    "\n",
    "    # Create the bar chart\n",
    "    fig = px.bar(\n",
    "        df_long,\n",
    "        x=\"Antal\",\n",
    "        y=\"anordnare\",\n",
    "        color=\"Beslut\",\n",
    "        orientation=\"h\",\n",
    "        title=\"Antal beviljade/avslag \",\n",
    "    )\n",
    "\n",
    "    fig.update_layout(\n",
    "        yaxis={\"categoryorder\": \"total ascending\"},\n",
    "        xaxis_title=\"Antal\",\n",
    "        yaxis_title=\"Anordnare\",\n",
    "        legend_title=\"Beslut\",\n",
    "        bargap=0.2,\n",
    "    )\n",
    "\n",
    "    return fig"
   ]
  },
  {
   "cell_type": "code",
   "execution_count": 11,
   "id": "d8743b7e",
   "metadata": {},
   "outputs": [],
   "source": [
    "def plot_bar(df, antal=10, highlight=None):\n",
    "    resultat = df.sort_values(\"antal beviljade\", ascending=False).head(antal)\n",
    "\n",
    "    fig = go.Figure()\n",
    "\n",
    "    beviljade_colors = []\n",
    "    avslag_colors = []\n",
    "\n",
    "    for område in resultat[\"anordnare\"]:\n",
    "        if highlight is None or highlight == \"Visa alla\" or område == highlight:\n",
    "            beviljade_colors.append(\"rgba(74, 140, 232, 1)\") \n",
    "            avslag_colors.append(\"rgba(211, 211, 211, 1)\")\n",
    "        else:\n",
    "            beviljade_colors.append(\"rgba(74, 140, 232, 0.3)\") \n",
    "            avslag_colors.append(\"rgba(211, 211, 211, 0.3)\")\n",
    "\n",
    "    fig.add_trace(go.Bar(\n",
    "        y=resultat['anordnare'],\n",
    "        x=resultat['antal beviljade'],\n",
    "        name='antal beviljade',\n",
    "        orientation='h',\n",
    "        marker=dict(color=beviljade_colors),\n",
    "        hovertemplate=\"<b>%{y}</b><br> Beviljade <br> Antal beslut: %{x} <br><extra></extra>\"\n",
    "    ))\n",
    "\n",
    "    fig.add_trace(go.Bar(\n",
    "        y=resultat['anordnare'],\n",
    "        x=resultat['antal avslag'],\n",
    "        name='antal avslag',\n",
    "        orientation='h',\n",
    "        marker=dict(color=avslag_colors),\n",
    "        hovertemplate=\"<b>%{y}</b><br> Avslag <br> Antal beslut: %{x} <br><extra></extra>\"\n",
    "    ))\n",
    "\n",
    "    fig.update_layout(\n",
    "        barmode='stack',\n",
    "        title='Beviljade och avslagna kurser per område (2024)',\n",
    "        xaxis_title='Antal',\n",
    "        yaxis_title='Skola',\n",
    "        template='simple_white',\n",
    "        showlegend=False,\n",
    "        yaxis=dict(autorange=\"reversed\"),\n",
    "        title_font=dict(family=\"Times New Roman\", size=30, weight=\"bold\"),\n",
    "        font=dict(family=\"Times New Roman\", size=15),\n",
    "        yaxis_tickfont=dict(family=\"Times New Roman\", size=15, weight=\"bold\"),\n",
    "        annotations=[dict(\n",
    "            x=-0.7,\n",
    "            y=-0.2,\n",
    "            xref=\"paper\",\n",
    "            yref=\"paper\",\n",
    "            text=\"<b>Data source:</b> Myndigheten för yrkeshögskolan\",\n",
    "            showarrow=False,\n",
    "        )]\n",
    "    )\n",
    "\n",
    "    return fig"
   ]
  },
  {
   "cell_type": "code",
   "execution_count": 12,
   "id": "5315ef8c",
   "metadata": {},
   "outputs": [
    {
     "data": {
      "application/vnd.plotly.v1+json": {
       "config": {
        "plotlyServerURL": "https://plot.ly"
       },
       "data": [
        {
         "hovertemplate": "<b>%{y}</b><br> Beviljade <br> Antal beslut: %{x} <br><extra></extra>",
         "marker": {
          "color": [
           "rgba(74, 140, 232, 1)",
           "rgba(74, 140, 232, 0.3)",
           "rgba(74, 140, 232, 0.3)",
           "rgba(74, 140, 232, 0.3)",
           "rgba(74, 140, 232, 0.3)"
          ]
         },
         "name": "antal beviljade",
         "orientation": "h",
         "type": "bar",
         "x": {
          "bdata": "IxsTEg4=",
          "dtype": "i1"
         },
         "y": [
          "YH Akademin AB",
          "IHM Business School AB Göteborg",
          "Medieinstitutet i Sverige AB",
          "Nackademin AB",
          "Göteborgs Stad, Yrgo"
         ]
        },
        {
         "hovertemplate": "<b>%{y}</b><br> Avslag <br> Antal beslut: %{x} <br><extra></extra>",
         "marker": {
          "color": [
           "rgba(211, 211, 211, 1)",
           "rgba(211, 211, 211, 0.3)",
           "rgba(211, 211, 211, 0.3)",
           "rgba(211, 211, 211, 0.3)",
           "rgba(211, 211, 211, 0.3)"
          ]
         },
         "name": "antal avslag",
         "orientation": "h",
         "type": "bar",
         "x": {
          "bdata": "CgMEAAo=",
          "dtype": "i1"
         },
         "y": [
          "YH Akademin AB",
          "IHM Business School AB Göteborg",
          "Medieinstitutet i Sverige AB",
          "Nackademin AB",
          "Göteborgs Stad, Yrgo"
         ]
        }
       ],
       "layout": {
        "annotations": [
         {
          "showarrow": false,
          "text": "<b>Data source:</b> Myndigheten för yrkeshögskolan",
          "x": -0.7,
          "xref": "paper",
          "y": -0.2,
          "yref": "paper"
         }
        ],
        "barmode": "stack",
        "font": {
         "family": "Times New Roman",
         "size": 15
        },
        "showlegend": false,
        "template": {
         "data": {
          "bar": [
           {
            "error_x": {
             "color": "rgb(36,36,36)"
            },
            "error_y": {
             "color": "rgb(36,36,36)"
            },
            "marker": {
             "line": {
              "color": "white",
              "width": 0.5
             },
             "pattern": {
              "fillmode": "overlay",
              "size": 10,
              "solidity": 0.2
             }
            },
            "type": "bar"
           }
          ],
          "barpolar": [
           {
            "marker": {
             "line": {
              "color": "white",
              "width": 0.5
             },
             "pattern": {
              "fillmode": "overlay",
              "size": 10,
              "solidity": 0.2
             }
            },
            "type": "barpolar"
           }
          ],
          "carpet": [
           {
            "aaxis": {
             "endlinecolor": "rgb(36,36,36)",
             "gridcolor": "white",
             "linecolor": "white",
             "minorgridcolor": "white",
             "startlinecolor": "rgb(36,36,36)"
            },
            "baxis": {
             "endlinecolor": "rgb(36,36,36)",
             "gridcolor": "white",
             "linecolor": "white",
             "minorgridcolor": "white",
             "startlinecolor": "rgb(36,36,36)"
            },
            "type": "carpet"
           }
          ],
          "choropleth": [
           {
            "colorbar": {
             "outlinewidth": 1,
             "tickcolor": "rgb(36,36,36)",
             "ticks": "outside"
            },
            "type": "choropleth"
           }
          ],
          "contour": [
           {
            "colorbar": {
             "outlinewidth": 1,
             "tickcolor": "rgb(36,36,36)",
             "ticks": "outside"
            },
            "colorscale": [
             [
              0,
              "#440154"
             ],
             [
              0.1111111111111111,
              "#482878"
             ],
             [
              0.2222222222222222,
              "#3e4989"
             ],
             [
              0.3333333333333333,
              "#31688e"
             ],
             [
              0.4444444444444444,
              "#26828e"
             ],
             [
              0.5555555555555556,
              "#1f9e89"
             ],
             [
              0.6666666666666666,
              "#35b779"
             ],
             [
              0.7777777777777778,
              "#6ece58"
             ],
             [
              0.8888888888888888,
              "#b5de2b"
             ],
             [
              1,
              "#fde725"
             ]
            ],
            "type": "contour"
           }
          ],
          "contourcarpet": [
           {
            "colorbar": {
             "outlinewidth": 1,
             "tickcolor": "rgb(36,36,36)",
             "ticks": "outside"
            },
            "type": "contourcarpet"
           }
          ],
          "heatmap": [
           {
            "colorbar": {
             "outlinewidth": 1,
             "tickcolor": "rgb(36,36,36)",
             "ticks": "outside"
            },
            "colorscale": [
             [
              0,
              "#440154"
             ],
             [
              0.1111111111111111,
              "#482878"
             ],
             [
              0.2222222222222222,
              "#3e4989"
             ],
             [
              0.3333333333333333,
              "#31688e"
             ],
             [
              0.4444444444444444,
              "#26828e"
             ],
             [
              0.5555555555555556,
              "#1f9e89"
             ],
             [
              0.6666666666666666,
              "#35b779"
             ],
             [
              0.7777777777777778,
              "#6ece58"
             ],
             [
              0.8888888888888888,
              "#b5de2b"
             ],
             [
              1,
              "#fde725"
             ]
            ],
            "type": "heatmap"
           }
          ],
          "histogram": [
           {
            "marker": {
             "line": {
              "color": "white",
              "width": 0.6
             }
            },
            "type": "histogram"
           }
          ],
          "histogram2d": [
           {
            "colorbar": {
             "outlinewidth": 1,
             "tickcolor": "rgb(36,36,36)",
             "ticks": "outside"
            },
            "colorscale": [
             [
              0,
              "#440154"
             ],
             [
              0.1111111111111111,
              "#482878"
             ],
             [
              0.2222222222222222,
              "#3e4989"
             ],
             [
              0.3333333333333333,
              "#31688e"
             ],
             [
              0.4444444444444444,
              "#26828e"
             ],
             [
              0.5555555555555556,
              "#1f9e89"
             ],
             [
              0.6666666666666666,
              "#35b779"
             ],
             [
              0.7777777777777778,
              "#6ece58"
             ],
             [
              0.8888888888888888,
              "#b5de2b"
             ],
             [
              1,
              "#fde725"
             ]
            ],
            "type": "histogram2d"
           }
          ],
          "histogram2dcontour": [
           {
            "colorbar": {
             "outlinewidth": 1,
             "tickcolor": "rgb(36,36,36)",
             "ticks": "outside"
            },
            "colorscale": [
             [
              0,
              "#440154"
             ],
             [
              0.1111111111111111,
              "#482878"
             ],
             [
              0.2222222222222222,
              "#3e4989"
             ],
             [
              0.3333333333333333,
              "#31688e"
             ],
             [
              0.4444444444444444,
              "#26828e"
             ],
             [
              0.5555555555555556,
              "#1f9e89"
             ],
             [
              0.6666666666666666,
              "#35b779"
             ],
             [
              0.7777777777777778,
              "#6ece58"
             ],
             [
              0.8888888888888888,
              "#b5de2b"
             ],
             [
              1,
              "#fde725"
             ]
            ],
            "type": "histogram2dcontour"
           }
          ],
          "mesh3d": [
           {
            "colorbar": {
             "outlinewidth": 1,
             "tickcolor": "rgb(36,36,36)",
             "ticks": "outside"
            },
            "type": "mesh3d"
           }
          ],
          "parcoords": [
           {
            "line": {
             "colorbar": {
              "outlinewidth": 1,
              "tickcolor": "rgb(36,36,36)",
              "ticks": "outside"
             }
            },
            "type": "parcoords"
           }
          ],
          "pie": [
           {
            "automargin": true,
            "type": "pie"
           }
          ],
          "scatter": [
           {
            "fillpattern": {
             "fillmode": "overlay",
             "size": 10,
             "solidity": 0.2
            },
            "type": "scatter"
           }
          ],
          "scatter3d": [
           {
            "line": {
             "colorbar": {
              "outlinewidth": 1,
              "tickcolor": "rgb(36,36,36)",
              "ticks": "outside"
             }
            },
            "marker": {
             "colorbar": {
              "outlinewidth": 1,
              "tickcolor": "rgb(36,36,36)",
              "ticks": "outside"
             }
            },
            "type": "scatter3d"
           }
          ],
          "scattercarpet": [
           {
            "marker": {
             "colorbar": {
              "outlinewidth": 1,
              "tickcolor": "rgb(36,36,36)",
              "ticks": "outside"
             }
            },
            "type": "scattercarpet"
           }
          ],
          "scattergeo": [
           {
            "marker": {
             "colorbar": {
              "outlinewidth": 1,
              "tickcolor": "rgb(36,36,36)",
              "ticks": "outside"
             }
            },
            "type": "scattergeo"
           }
          ],
          "scattergl": [
           {
            "marker": {
             "colorbar": {
              "outlinewidth": 1,
              "tickcolor": "rgb(36,36,36)",
              "ticks": "outside"
             }
            },
            "type": "scattergl"
           }
          ],
          "scattermap": [
           {
            "marker": {
             "colorbar": {
              "outlinewidth": 1,
              "tickcolor": "rgb(36,36,36)",
              "ticks": "outside"
             }
            },
            "type": "scattermap"
           }
          ],
          "scattermapbox": [
           {
            "marker": {
             "colorbar": {
              "outlinewidth": 1,
              "tickcolor": "rgb(36,36,36)",
              "ticks": "outside"
             }
            },
            "type": "scattermapbox"
           }
          ],
          "scatterpolar": [
           {
            "marker": {
             "colorbar": {
              "outlinewidth": 1,
              "tickcolor": "rgb(36,36,36)",
              "ticks": "outside"
             }
            },
            "type": "scatterpolar"
           }
          ],
          "scatterpolargl": [
           {
            "marker": {
             "colorbar": {
              "outlinewidth": 1,
              "tickcolor": "rgb(36,36,36)",
              "ticks": "outside"
             }
            },
            "type": "scatterpolargl"
           }
          ],
          "scatterternary": [
           {
            "marker": {
             "colorbar": {
              "outlinewidth": 1,
              "tickcolor": "rgb(36,36,36)",
              "ticks": "outside"
             }
            },
            "type": "scatterternary"
           }
          ],
          "surface": [
           {
            "colorbar": {
             "outlinewidth": 1,
             "tickcolor": "rgb(36,36,36)",
             "ticks": "outside"
            },
            "colorscale": [
             [
              0,
              "#440154"
             ],
             [
              0.1111111111111111,
              "#482878"
             ],
             [
              0.2222222222222222,
              "#3e4989"
             ],
             [
              0.3333333333333333,
              "#31688e"
             ],
             [
              0.4444444444444444,
              "#26828e"
             ],
             [
              0.5555555555555556,
              "#1f9e89"
             ],
             [
              0.6666666666666666,
              "#35b779"
             ],
             [
              0.7777777777777778,
              "#6ece58"
             ],
             [
              0.8888888888888888,
              "#b5de2b"
             ],
             [
              1,
              "#fde725"
             ]
            ],
            "type": "surface"
           }
          ],
          "table": [
           {
            "cells": {
             "fill": {
              "color": "rgb(237,237,237)"
             },
             "line": {
              "color": "white"
             }
            },
            "header": {
             "fill": {
              "color": "rgb(217,217,217)"
             },
             "line": {
              "color": "white"
             }
            },
            "type": "table"
           }
          ]
         },
         "layout": {
          "annotationdefaults": {
           "arrowhead": 0,
           "arrowwidth": 1
          },
          "autotypenumbers": "strict",
          "coloraxis": {
           "colorbar": {
            "outlinewidth": 1,
            "tickcolor": "rgb(36,36,36)",
            "ticks": "outside"
           }
          },
          "colorscale": {
           "diverging": [
            [
             0,
             "rgb(103,0,31)"
            ],
            [
             0.1,
             "rgb(178,24,43)"
            ],
            [
             0.2,
             "rgb(214,96,77)"
            ],
            [
             0.3,
             "rgb(244,165,130)"
            ],
            [
             0.4,
             "rgb(253,219,199)"
            ],
            [
             0.5,
             "rgb(247,247,247)"
            ],
            [
             0.6,
             "rgb(209,229,240)"
            ],
            [
             0.7,
             "rgb(146,197,222)"
            ],
            [
             0.8,
             "rgb(67,147,195)"
            ],
            [
             0.9,
             "rgb(33,102,172)"
            ],
            [
             1,
             "rgb(5,48,97)"
            ]
           ],
           "sequential": [
            [
             0,
             "#440154"
            ],
            [
             0.1111111111111111,
             "#482878"
            ],
            [
             0.2222222222222222,
             "#3e4989"
            ],
            [
             0.3333333333333333,
             "#31688e"
            ],
            [
             0.4444444444444444,
             "#26828e"
            ],
            [
             0.5555555555555556,
             "#1f9e89"
            ],
            [
             0.6666666666666666,
             "#35b779"
            ],
            [
             0.7777777777777778,
             "#6ece58"
            ],
            [
             0.8888888888888888,
             "#b5de2b"
            ],
            [
             1,
             "#fde725"
            ]
           ],
           "sequentialminus": [
            [
             0,
             "#440154"
            ],
            [
             0.1111111111111111,
             "#482878"
            ],
            [
             0.2222222222222222,
             "#3e4989"
            ],
            [
             0.3333333333333333,
             "#31688e"
            ],
            [
             0.4444444444444444,
             "#26828e"
            ],
            [
             0.5555555555555556,
             "#1f9e89"
            ],
            [
             0.6666666666666666,
             "#35b779"
            ],
            [
             0.7777777777777778,
             "#6ece58"
            ],
            [
             0.8888888888888888,
             "#b5de2b"
            ],
            [
             1,
             "#fde725"
            ]
           ]
          },
          "colorway": [
           "#1F77B4",
           "#FF7F0E",
           "#2CA02C",
           "#D62728",
           "#9467BD",
           "#8C564B",
           "#E377C2",
           "#7F7F7F",
           "#BCBD22",
           "#17BECF"
          ],
          "font": {
           "color": "rgb(36,36,36)"
          },
          "geo": {
           "bgcolor": "white",
           "lakecolor": "white",
           "landcolor": "white",
           "showlakes": true,
           "showland": true,
           "subunitcolor": "white"
          },
          "hoverlabel": {
           "align": "left"
          },
          "hovermode": "closest",
          "mapbox": {
           "style": "light"
          },
          "paper_bgcolor": "white",
          "plot_bgcolor": "white",
          "polar": {
           "angularaxis": {
            "gridcolor": "rgb(232,232,232)",
            "linecolor": "rgb(36,36,36)",
            "showgrid": false,
            "showline": true,
            "ticks": "outside"
           },
           "bgcolor": "white",
           "radialaxis": {
            "gridcolor": "rgb(232,232,232)",
            "linecolor": "rgb(36,36,36)",
            "showgrid": false,
            "showline": true,
            "ticks": "outside"
           }
          },
          "scene": {
           "xaxis": {
            "backgroundcolor": "white",
            "gridcolor": "rgb(232,232,232)",
            "gridwidth": 2,
            "linecolor": "rgb(36,36,36)",
            "showbackground": true,
            "showgrid": false,
            "showline": true,
            "ticks": "outside",
            "zeroline": false,
            "zerolinecolor": "rgb(36,36,36)"
           },
           "yaxis": {
            "backgroundcolor": "white",
            "gridcolor": "rgb(232,232,232)",
            "gridwidth": 2,
            "linecolor": "rgb(36,36,36)",
            "showbackground": true,
            "showgrid": false,
            "showline": true,
            "ticks": "outside",
            "zeroline": false,
            "zerolinecolor": "rgb(36,36,36)"
           },
           "zaxis": {
            "backgroundcolor": "white",
            "gridcolor": "rgb(232,232,232)",
            "gridwidth": 2,
            "linecolor": "rgb(36,36,36)",
            "showbackground": true,
            "showgrid": false,
            "showline": true,
            "ticks": "outside",
            "zeroline": false,
            "zerolinecolor": "rgb(36,36,36)"
           }
          },
          "shapedefaults": {
           "fillcolor": "black",
           "line": {
            "width": 0
           },
           "opacity": 0.3
          },
          "ternary": {
           "aaxis": {
            "gridcolor": "rgb(232,232,232)",
            "linecolor": "rgb(36,36,36)",
            "showgrid": false,
            "showline": true,
            "ticks": "outside"
           },
           "baxis": {
            "gridcolor": "rgb(232,232,232)",
            "linecolor": "rgb(36,36,36)",
            "showgrid": false,
            "showline": true,
            "ticks": "outside"
           },
           "bgcolor": "white",
           "caxis": {
            "gridcolor": "rgb(232,232,232)",
            "linecolor": "rgb(36,36,36)",
            "showgrid": false,
            "showline": true,
            "ticks": "outside"
           }
          },
          "title": {
           "x": 0.05
          },
          "xaxis": {
           "automargin": true,
           "gridcolor": "rgb(232,232,232)",
           "linecolor": "rgb(36,36,36)",
           "showgrid": false,
           "showline": true,
           "ticks": "outside",
           "title": {
            "standoff": 15
           },
           "zeroline": false,
           "zerolinecolor": "rgb(36,36,36)"
          },
          "yaxis": {
           "automargin": true,
           "gridcolor": "rgb(232,232,232)",
           "linecolor": "rgb(36,36,36)",
           "showgrid": false,
           "showline": true,
           "ticks": "outside",
           "title": {
            "standoff": 15
           },
           "zeroline": false,
           "zerolinecolor": "rgb(36,36,36)"
          }
         }
        },
        "title": {
         "font": {
          "family": "Times New Roman",
          "size": 30,
          "weight": "bold"
         },
         "text": "Beviljade och avslagna kurser per område (2024)"
        },
        "xaxis": {
         "title": {
          "text": "Antal"
         }
        },
        "yaxis": {
         "autorange": "reversed",
         "tickfont": {
          "family": "Times New Roman",
          "size": 15,
          "weight": "bold"
         },
         "title": {
          "text": "Skola"
         }
        }
       }
      }
     },
     "metadata": {},
     "output_type": "display_data"
    }
   ],
   "source": [
    "plot_bar(filtered_df.head(), highlight=\"YH Akademin AB\")"
   ]
  },
  {
   "cell_type": "code",
   "execution_count": null,
   "id": "b204885b",
   "metadata": {},
   "outputs": [],
   "source": []
  }
 ],
 "metadata": {
  "kernelspec": {
   "display_name": ".venv",
   "language": "python",
   "name": "python3"
  },
  "language_info": {
   "codemirror_mode": {
    "name": "ipython",
    "version": 3
   },
   "file_extension": ".py",
   "mimetype": "text/x-python",
   "name": "python",
   "nbconvert_exporter": "python",
   "pygments_lexer": "ipython3",
   "version": "3.12.5"
  }
 },
 "nbformat": 4,
 "nbformat_minor": 5
}
